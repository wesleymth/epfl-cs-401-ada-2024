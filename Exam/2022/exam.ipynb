{
 "cells": [
  {
   "cell_type": "markdown",
   "id": "09e9a536",
   "metadata": {},
   "source": [
    "## ADA final exam (Fall 2022)\n",
    "\n",
    "This exam consists of 3 tasks. Tasks 2 and 3 are independent of each other (although conceptually related).\n"
   ]
  },
  {
   "cell_type": "markdown",
   "id": "68507ec4",
   "metadata": {},
   "source": [
    "## Dataset\n",
    "\n",
    "For a Wikipedia editor to become an administrator, a so-called “request for adminship” ([RfA](https://en.wikipedia.org/wiki/Wikipedia:Requests_for_adminship)) must be submitted by either the candidate or another community member. Subsequently, any Wikipedia member may cast a supporting or opposing vote. Here we provide a simplified version of the Wikipedia RfA dataset, containing all votes from 2003 through 2012.\n",
    "\n",
    "###  Data format\n",
    "\n",
    "|        |   SRC |   TGT |   VOT |   RES |   YEA | DAT                 | TXT                                                                                                                                                                                               |\n",
    "|-------:|------:|------:|------:|------:|------:|:--------------------|:--------------------------------------------------------------------------------------------------------------------------------------------------------------------------------------------------|\n",
    "|  39054 |  3444 | 10170 |     1 |     1 |  2009 | 2009-07-01 17:50:00 | '''Support''' - Best of luck. &nbsp;                                                                                                                                                              |\n",
    "| 159680 |   722 |  9634 |    -1 |    -1 |  2006 | 2006-12-15 07:28:00 | '''Oppose''' Not even 2000 edits.                                                                                                                                                                 |\n",
    "| 173438 |  4194 |  5524 |     1 |     1 |  2005 | 2005-03-18 19:22:00 | Ohhh, you're Carrp!  In that case, '''Support'''.                                                                                                                                                 |\n",
    "|  60627 |  4855 |  9436 |     1 |     1 |  2008 | 2008-12-18 23:26:00 | '''Support''' via thoughtful answer to my question that demonstrates this editor has clue.                                                 |\n",
    "| 194809 |  7687 |   908 |     1 |     1 |  2004 | 2004-09-25 05:21:00 | Nicholas is very good in English. Also, he got '''exceptional''' patience to explain petty obvious facts in talk page to convince ignorants. Let the world be benefitted more out of his work. -- |\n",
    "\n",
    "\n",
    "- SRC: the user name of the source of the vote, i.e., of the user who cast the vote.\n",
    "- TGT: the user name of the target of the vote, i.e., of the user running for election.\n",
    "- VOT: the source's vote on the target (-1 = oppose; 1 = support).\n",
    "- RES: the outcome of the election (-1 = target was rejected as admin; 1 = target was accepted). **(We will not use this  column in this exam.)**\n",
    "- YEA: the year of the RfA.\n",
    "- DAT: the date and time of this vote. **(We will not use this column in this exam.)**\n",
    "- TXT: the comment written by the source. **(We will not use this column in this exam.)**\n",
    "\n",
    "---\n"
   ]
  },
  {
   "cell_type": "markdown",
   "id": "4a4a661c",
   "metadata": {},
   "source": [
    "## Structural balance theory\n",
    "\n",
    "**Structural balance theory** affirms that social networks tend to be organized so as to avoid conflictual situations, e.g., if a great friend of yours hates someone, you will likely not befriend that person.\n",
    "\n",
    "The theory can be operationalized by looking at _triangles_ in an undirected _signed graph_ capturing person-to-person relationships, where a _signed graph_ is a  graph in which each edge is associated with a positive or negative sign, and a _triangle_ is a set of three edges ($\\langle u,v \\rangle$, $\\langle v,w\\rangle$, $\\langle u,w\\rangle$) that fully connect three distinct nodes ($u, v, w$).\n",
    "\n",
    "\n",
    "\n",
    "_Triangles_ in an undirected signed graph can be in 4 _configurations_:\n",
    "all positive edges ($\\{+,+,+\\}$); \n",
    "all negative edges ($\\{-,-,-\\}$); \n",
    "two positive edges and one negative edge ($\\{+,+,-\\}$);\n",
    "one positive edge and two negative edges ($\\{+,-,-\\}$).\n",
    "\n",
    "Structural balance theory posits that social networks tend to favor triangle configurations with an even number of negative signs (i.e., $\\{+,+,+\\}$ and $\\{+,-,-\\}$), which can be understood as being “balanced” by avoiding conflictual situations. Intuitively, $\\{+,+,+\\}$ could be tagged as “The friend of my friend is my friend”, and $\\{+,-,-\\}$ as “The enemy of my enemy is my friend”, “The friend of my enemy is my enemy”, or “The enemy of my friend is my enemy”. On the contrary, triangle configurations with an odd number of negative signs (i.e., $\\{+,+,-\\}$ and $\\{-,-,-\\}$) are unstable (“unbalanced”) according to structural balance theory and will thus occur less frequently in social networks. For instance, me being friends with two mutual enemies ($\\{+,+,-\\}$) would lead to tension that could be resolved if the two enemies became friends or if I took sides and ended my friendship with one of the two. Similarly, two among three mutual enemies ($\\{-,-,-\\}$) would have the incentive to form an alliance to “gang up” against the third.\n",
    "\n",
    "Some social scientists have argued that three mutual enemies ($\\{-,-,-\\}$) is not necessarily a triangle configuration that social networks tend to avoid. This gives rise to **weak structural balance theory**, which only posits that social networks tend to avoid the “unbalanced” triangle configuration $\\{+,+,-\\}$.\n",
    "\n",
    "In a nutshell,\n",
    "- structural balance theory\n",
    "  - considers $\\{+,+,+\\}$, $\\{+,-,-\\}$ as balanced,\n",
    "  - and $\\{+,+,-\\}$, $\\{-,-,-\\}$ as unbalanced;\n",
    "- weak structural balance theory\n",
    "  - considers $\\{+,+,+\\}$, $\\{+,-,-\\}$, $\\{-,-,-\\}$ as balanced,\n",
    "  - and $\\{+,+,-\\}$ as unbalanced.\n",
    "\n"
   ]
  },
  {
   "cell_type": "markdown",
   "id": "d5f337c9",
   "metadata": {},
   "source": [
    "### Task 1: Preliminaries\n",
    "\n",
    "As a good data scientist, you first load the data and explore it.\n",
    "\n",
    "**1.1**\n",
    "Load the csv file `wiki-RfA.csv.gz` in a pandas dataframe. Calculate the number of distinct RfAs and the average number of votes per RfA.\n",
    "- **Hint:** Throughout this question, assume that each RfA is uniquely determined by the column `TGT` and each vote is uniquely determined by the combination of `SRC` and `TGT`."
   ]
  },
  {
   "cell_type": "code",
   "execution_count": 238,
   "id": "ff2e92a5",
   "metadata": {},
   "outputs": [
    {
     "data": {
      "text/html": [
       "<div>\n",
       "<style scoped>\n",
       "    .dataframe tbody tr th:only-of-type {\n",
       "        vertical-align: middle;\n",
       "    }\n",
       "\n",
       "    .dataframe tbody tr th {\n",
       "        vertical-align: top;\n",
       "    }\n",
       "\n",
       "    .dataframe thead th {\n",
       "        text-align: right;\n",
       "    }\n",
       "</style>\n",
       "<table border=\"1\" class=\"dataframe\">\n",
       "  <thead>\n",
       "    <tr style=\"text-align: right;\">\n",
       "      <th></th>\n",
       "      <th>SRC</th>\n",
       "      <th>TGT</th>\n",
       "      <th>VOT</th>\n",
       "      <th>RES</th>\n",
       "      <th>YEA</th>\n",
       "      <th>DAT</th>\n",
       "      <th>TXT</th>\n",
       "    </tr>\n",
       "  </thead>\n",
       "  <tbody>\n",
       "    <tr>\n",
       "      <th>0</th>\n",
       "      <td>5943</td>\n",
       "      <td>9966</td>\n",
       "      <td>-1</td>\n",
       "      <td>-1</td>\n",
       "      <td>2012</td>\n",
       "      <td>2012-12-30 22:27:00</td>\n",
       "      <td>—</td>\n",
       "    </tr>\n",
       "    <tr>\n",
       "      <th>1</th>\n",
       "      <td>9153</td>\n",
       "      <td>9966</td>\n",
       "      <td>-1</td>\n",
       "      <td>-1</td>\n",
       "      <td>2012</td>\n",
       "      <td>2012-12-30 22:25:00</td>\n",
       "      <td>'''Oppose'''. This joke really isn't funny, no...</td>\n",
       "    </tr>\n",
       "    <tr>\n",
       "      <th>2</th>\n",
       "      <td>4189</td>\n",
       "      <td>9966</td>\n",
       "      <td>-1</td>\n",
       "      <td>-1</td>\n",
       "      <td>2012</td>\n",
       "      <td>2012-12-30 22:17:00</td>\n",
       "      <td>'''Oppose''' as per nomination and answers. --...</td>\n",
       "    </tr>\n",
       "    <tr>\n",
       "      <th>3</th>\n",
       "      <td>3750</td>\n",
       "      <td>9966</td>\n",
       "      <td>-1</td>\n",
       "      <td>-1</td>\n",
       "      <td>2012</td>\n",
       "      <td>2012-12-30 22:14:00</td>\n",
       "      <td>'''Oppose''' and '''speeedy close''' this as [...</td>\n",
       "    </tr>\n",
       "    <tr>\n",
       "      <th>4</th>\n",
       "      <td>4225</td>\n",
       "      <td>9966</td>\n",
       "      <td>-1</td>\n",
       "      <td>-1</td>\n",
       "      <td>2012</td>\n",
       "      <td>2012-12-30 22:08:00</td>\n",
       "      <td>'''Oppose''' per nomination and answers. I am ...</td>\n",
       "    </tr>\n",
       "    <tr>\n",
       "      <th>...</th>\n",
       "      <td>...</td>\n",
       "      <td>...</td>\n",
       "      <td>...</td>\n",
       "      <td>...</td>\n",
       "      <td>...</td>\n",
       "      <td>...</td>\n",
       "      <td>...</td>\n",
       "    </tr>\n",
       "    <tr>\n",
       "      <th>166998</th>\n",
       "      <td>3867</td>\n",
       "      <td>2762</td>\n",
       "      <td>1</td>\n",
       "      <td>1</td>\n",
       "      <td>2003</td>\n",
       "      <td>2003-08-23 03:34:00</td>\n",
       "      <td>Also support; Llywrch has been here for ages a...</td>\n",
       "    </tr>\n",
       "    <tr>\n",
       "      <th>166999</th>\n",
       "      <td>8091</td>\n",
       "      <td>8486</td>\n",
       "      <td>1</td>\n",
       "      <td>1</td>\n",
       "      <td>2003</td>\n",
       "      <td>2003-08-21 11:47:00</td>\n",
       "      <td>Support. [[User_talk:Fantasy#Thanks!]] and oth...</td>\n",
       "    </tr>\n",
       "    <tr>\n",
       "      <th>167000</th>\n",
       "      <td>1581</td>\n",
       "      <td>8767</td>\n",
       "      <td>1</td>\n",
       "      <td>1</td>\n",
       "      <td>2003</td>\n",
       "      <td>2003-08-18 23:16:00</td>\n",
       "      <td>Support for WikiQuote, but I haven't seen enou...</td>\n",
       "    </tr>\n",
       "    <tr>\n",
       "      <th>167001</th>\n",
       "      <td>1011</td>\n",
       "      <td>8056</td>\n",
       "      <td>1</td>\n",
       "      <td>1</td>\n",
       "      <td>2003</td>\n",
       "      <td>2003-08-16 01:25:00</td>\n",
       "      <td>Support. Does good things with maps. --</td>\n",
       "    </tr>\n",
       "    <tr>\n",
       "      <th>167002</th>\n",
       "      <td>1011</td>\n",
       "      <td>7238</td>\n",
       "      <td>1</td>\n",
       "      <td>1</td>\n",
       "      <td>2003</td>\n",
       "      <td>2003-08-16 01:25:00</td>\n",
       "      <td>Support. --</td>\n",
       "    </tr>\n",
       "  </tbody>\n",
       "</table>\n",
       "<p>167003 rows × 7 columns</p>\n",
       "</div>"
      ],
      "text/plain": [
       "         SRC   TGT  VOT  RES   YEA                  DAT  \\\n",
       "0       5943  9966   -1   -1  2012  2012-12-30 22:27:00   \n",
       "1       9153  9966   -1   -1  2012  2012-12-30 22:25:00   \n",
       "2       4189  9966   -1   -1  2012  2012-12-30 22:17:00   \n",
       "3       3750  9966   -1   -1  2012  2012-12-30 22:14:00   \n",
       "4       4225  9966   -1   -1  2012  2012-12-30 22:08:00   \n",
       "...      ...   ...  ...  ...   ...                  ...   \n",
       "166998  3867  2762    1    1  2003  2003-08-23 03:34:00   \n",
       "166999  8091  8486    1    1  2003  2003-08-21 11:47:00   \n",
       "167000  1581  8767    1    1  2003  2003-08-18 23:16:00   \n",
       "167001  1011  8056    1    1  2003  2003-08-16 01:25:00   \n",
       "167002  1011  7238    1    1  2003  2003-08-16 01:25:00   \n",
       "\n",
       "                                                      TXT  \n",
       "0                                                       —  \n",
       "1       '''Oppose'''. This joke really isn't funny, no...  \n",
       "2       '''Oppose''' as per nomination and answers. --...  \n",
       "3       '''Oppose''' and '''speeedy close''' this as [...  \n",
       "4       '''Oppose''' per nomination and answers. I am ...  \n",
       "...                                                   ...  \n",
       "166998  Also support; Llywrch has been here for ages a...  \n",
       "166999  Support. [[User_talk:Fantasy#Thanks!]] and oth...  \n",
       "167000  Support for WikiQuote, but I haven't seen enou...  \n",
       "167001            Support. Does good things with maps. --  \n",
       "167002                                        Support. --  \n",
       "\n",
       "[167003 rows x 7 columns]"
      ]
     },
     "execution_count": 238,
     "metadata": {},
     "output_type": "execute_result"
    }
   ],
   "source": [
    "# 1.1\n",
    "import pandas as pd\n",
    "\n",
    "df = pd.read_csv(\"./wiki-RfA.csv.gz\")\n",
    "df"
   ]
  },
  {
   "cell_type": "code",
   "execution_count": 239,
   "id": "84c919f5",
   "metadata": {},
   "outputs": [
    {
     "data": {
      "text/plain": [
       "(3439,)"
      ]
     },
     "execution_count": 239,
     "metadata": {},
     "output_type": "execute_result"
    }
   ],
   "source": [
    "df[\"TGT\"].unique().shape"
   ]
  },
  {
   "cell_type": "code",
   "execution_count": 240,
   "id": "dd1be422",
   "metadata": {},
   "outputs": [
    {
     "data": {
      "text/plain": [
       "SRC    48.5615\n",
       "dtype: float64"
      ]
     },
     "execution_count": 240,
     "metadata": {},
     "output_type": "execute_result"
    }
   ],
   "source": [
    "(\n",
    "    df.groupby(\"TGT\")\n",
    "    .aggregate(\n",
    "        {\n",
    "            \"SRC\":\"count\"\n",
    "        }\n",
    "    )\n",
    ").mean()"
   ]
  },
  {
   "cell_type": "markdown",
   "id": "813b5a32",
   "metadata": {},
   "source": [
    "**1.2** \n",
    "In a single figure with three subfigures (one per item), show the following time series:\n",
    "- the number of RfAs per year;\n",
    "- the overall fraction of positive votes per year; and \n",
    "- the average number of votes per RfA per year.\n",
    "\n",
    "For each of the above three quantities, print the value for the year 2008."
   ]
  },
  {
   "cell_type": "code",
   "execution_count": 241,
   "id": "b192b13a",
   "metadata": {},
   "outputs": [],
   "source": [
    "# df[\"DAT\"] = pd.to_datetime(df[\"DAT\"])"
   ]
  },
  {
   "cell_type": "code",
   "execution_count": 242,
   "id": "8fcff4a7",
   "metadata": {},
   "outputs": [
    {
     "data": {
      "text/html": [
       "<div>\n",
       "<style scoped>\n",
       "    .dataframe tbody tr th:only-of-type {\n",
       "        vertical-align: middle;\n",
       "    }\n",
       "\n",
       "    .dataframe tbody tr th {\n",
       "        vertical-align: top;\n",
       "    }\n",
       "\n",
       "    .dataframe thead th {\n",
       "        text-align: right;\n",
       "    }\n",
       "</style>\n",
       "<table border=\"1\" class=\"dataframe\">\n",
       "  <thead>\n",
       "    <tr style=\"text-align: right;\">\n",
       "      <th></th>\n",
       "      <th>YEA</th>\n",
       "      <th>fraction_positive_votes</th>\n",
       "    </tr>\n",
       "  </thead>\n",
       "  <tbody>\n",
       "    <tr>\n",
       "      <th>0</th>\n",
       "      <td>2003</td>\n",
       "      <td>0.984615</td>\n",
       "    </tr>\n",
       "    <tr>\n",
       "      <th>1</th>\n",
       "      <td>2004</td>\n",
       "      <td>0.874970</td>\n",
       "    </tr>\n",
       "    <tr>\n",
       "      <th>2</th>\n",
       "      <td>2005</td>\n",
       "      <td>0.860152</td>\n",
       "    </tr>\n",
       "    <tr>\n",
       "      <th>3</th>\n",
       "      <td>2006</td>\n",
       "      <td>0.773918</td>\n",
       "    </tr>\n",
       "    <tr>\n",
       "      <th>4</th>\n",
       "      <td>2007</td>\n",
       "      <td>0.798245</td>\n",
       "    </tr>\n",
       "    <tr>\n",
       "      <th>5</th>\n",
       "      <td>2008</td>\n",
       "      <td>0.761227</td>\n",
       "    </tr>\n",
       "    <tr>\n",
       "      <th>6</th>\n",
       "      <td>2009</td>\n",
       "      <td>0.747279</td>\n",
       "    </tr>\n",
       "    <tr>\n",
       "      <th>7</th>\n",
       "      <td>2010</td>\n",
       "      <td>0.751840</td>\n",
       "    </tr>\n",
       "    <tr>\n",
       "      <th>8</th>\n",
       "      <td>2011</td>\n",
       "      <td>0.794455</td>\n",
       "    </tr>\n",
       "    <tr>\n",
       "      <th>9</th>\n",
       "      <td>2012</td>\n",
       "      <td>0.722391</td>\n",
       "    </tr>\n",
       "  </tbody>\n",
       "</table>\n",
       "</div>"
      ],
      "text/plain": [
       "    YEA  fraction_positive_votes\n",
       "0  2003                 0.984615\n",
       "1  2004                 0.874970\n",
       "2  2005                 0.860152\n",
       "3  2006                 0.773918\n",
       "4  2007                 0.798245\n",
       "5  2008                 0.761227\n",
       "6  2009                 0.747279\n",
       "7  2010                 0.751840\n",
       "8  2011                 0.794455\n",
       "9  2012                 0.722391"
      ]
     },
     "execution_count": 242,
     "metadata": {},
     "output_type": "execute_result"
    }
   ],
   "source": [
    "fraction_positive_votes_per_year = (\n",
    "    df.replace({-1:0})\n",
    "    .groupby(\"YEA\")\n",
    "    .aggregate(\n",
    "        {\n",
    "            \"VOT\":\"mean\"\n",
    "        }\n",
    "    )\n",
    "    .reset_index()\n",
    "    .rename(columns={\"VOT\":\"fraction_positive_votes\"})\n",
    ")\n",
    "fraction_positive_votes_per_year"
   ]
  },
  {
   "cell_type": "code",
   "execution_count": 243,
   "id": "19dd043e",
   "metadata": {},
   "outputs": [
    {
     "data": {
      "text/html": [
       "<div>\n",
       "<style scoped>\n",
       "    .dataframe tbody tr th:only-of-type {\n",
       "        vertical-align: middle;\n",
       "    }\n",
       "\n",
       "    .dataframe tbody tr th {\n",
       "        vertical-align: top;\n",
       "    }\n",
       "\n",
       "    .dataframe thead th {\n",
       "        text-align: right;\n",
       "    }\n",
       "</style>\n",
       "<table border=\"1\" class=\"dataframe\">\n",
       "  <thead>\n",
       "    <tr style=\"text-align: right;\">\n",
       "      <th></th>\n",
       "      <th>YEA</th>\n",
       "      <th>TGT</th>\n",
       "      <th>number_of_votes_per_RfA</th>\n",
       "    </tr>\n",
       "  </thead>\n",
       "  <tbody>\n",
       "    <tr>\n",
       "      <th>0</th>\n",
       "      <td>2003</td>\n",
       "      <td>49</td>\n",
       "      <td>4</td>\n",
       "    </tr>\n",
       "    <tr>\n",
       "      <th>1</th>\n",
       "      <td>2003</td>\n",
       "      <td>693</td>\n",
       "      <td>5</td>\n",
       "    </tr>\n",
       "    <tr>\n",
       "      <th>2</th>\n",
       "      <td>2003</td>\n",
       "      <td>880</td>\n",
       "      <td>2</td>\n",
       "    </tr>\n",
       "    <tr>\n",
       "      <th>3</th>\n",
       "      <td>2003</td>\n",
       "      <td>884</td>\n",
       "      <td>4</td>\n",
       "    </tr>\n",
       "    <tr>\n",
       "      <th>4</th>\n",
       "      <td>2003</td>\n",
       "      <td>1127</td>\n",
       "      <td>1</td>\n",
       "    </tr>\n",
       "    <tr>\n",
       "      <th>...</th>\n",
       "      <td>...</td>\n",
       "      <td>...</td>\n",
       "      <td>...</td>\n",
       "    </tr>\n",
       "    <tr>\n",
       "      <th>3722</th>\n",
       "      <td>2012</td>\n",
       "      <td>10096</td>\n",
       "      <td>112</td>\n",
       "    </tr>\n",
       "    <tr>\n",
       "      <th>3723</th>\n",
       "      <td>2012</td>\n",
       "      <td>10519</td>\n",
       "      <td>15</td>\n",
       "    </tr>\n",
       "    <tr>\n",
       "      <th>3724</th>\n",
       "      <td>2012</td>\n",
       "      <td>10631</td>\n",
       "      <td>67</td>\n",
       "    </tr>\n",
       "    <tr>\n",
       "      <th>3725</th>\n",
       "      <td>2012</td>\n",
       "      <td>10682</td>\n",
       "      <td>23</td>\n",
       "    </tr>\n",
       "    <tr>\n",
       "      <th>3726</th>\n",
       "      <td>2012</td>\n",
       "      <td>10915</td>\n",
       "      <td>93</td>\n",
       "    </tr>\n",
       "  </tbody>\n",
       "</table>\n",
       "<p>3727 rows × 3 columns</p>\n",
       "</div>"
      ],
      "text/plain": [
       "       YEA    TGT  number_of_votes_per_RfA\n",
       "0     2003     49                        4\n",
       "1     2003    693                        5\n",
       "2     2003    880                        2\n",
       "3     2003    884                        4\n",
       "4     2003   1127                        1\n",
       "...    ...    ...                      ...\n",
       "3722  2012  10096                      112\n",
       "3723  2012  10519                       15\n",
       "3724  2012  10631                       67\n",
       "3725  2012  10682                       23\n",
       "3726  2012  10915                       93\n",
       "\n",
       "[3727 rows x 3 columns]"
      ]
     },
     "execution_count": 243,
     "metadata": {},
     "output_type": "execute_result"
    }
   ],
   "source": [
    "number_of_votes_per_RfA_per_year = (\n",
    "    df.groupby([\"YEA\", \"TGT\"])\n",
    "    .aggregate(\n",
    "        {\n",
    "            \"VOT\":\"count\"\n",
    "        }\n",
    "    )\n",
    "    .reset_index()\n",
    "    .rename(columns={\"VOT\":\"number_of_votes_per_RfA\"})\n",
    ")\n",
    "number_of_votes_per_RfA_per_year"
   ]
  },
  {
   "cell_type": "code",
   "execution_count": 247,
   "id": "b1732d7e",
   "metadata": {},
   "outputs": [
    {
     "name": "stderr",
     "output_type": "stream",
     "text": [
      "/var/folders/my/2hxsh9b90b9brv55p9f5x2700000gn/T/ipykernel_6519/1015951727.py:50: UserWarning: FixedFormatter should only be used together with FixedLocator\n",
      "  ax.set_xticklabels(ax.get_xticklabels(), rotation=90)\n"
     ]
    },
    {
     "data": {
      "image/png": "[encoded data removed]",
      "text/plain": [
       "<Figure size 1000x500 with 3 Axes>"
      ]
     },
     "metadata": {},
     "output_type": "display_data"
    }
   ],
   "source": [
    "# 1.2 \n",
    "import matplotlib.pyplot as plt\n",
    "import seaborn as sns\n",
    "\n",
    "\n",
    "fig, (ax1, ax2, ax3) = plt.subplots(ncols=3, figsize=(10, 5))\n",
    "\n",
    "sns.countplot(\n",
    "    df.drop_duplicates([\"TGT\", \"YEA\"]),\n",
    "    x=\"YEA\",\n",
    "    ax=ax1,\n",
    ")\n",
    "\n",
    "sns.barplot(\n",
    "    fraction_positive_votes_per_year,\n",
    "    x=\"YEA\",\n",
    "    y=\"fraction_positive_votes\",\n",
    "    ax=ax2,\n",
    ")\n",
    "sns.pointplot(\n",
    "    fraction_positive_votes_per_year,\n",
    "    x=\"YEA\",\n",
    "    y=\"fraction_positive_votes\",\n",
    "    ax=ax2,\n",
    "    color=\"black\",\n",
    ")\n",
    "\n",
    "\n",
    "sns.barplot(\n",
    "    number_of_votes_per_RfA_per_year,\n",
    "    x=\"YEA\",\n",
    "    y=\"number_of_votes_per_RfA\",\n",
    "    ax=ax3,\n",
    ")\n",
    "sns.pointplot(\n",
    "    number_of_votes_per_RfA_per_year,\n",
    "    x=\"YEA\",\n",
    "    y=\"number_of_votes_per_RfA\",\n",
    "    ax=ax3,\n",
    "    errorbar=None,\n",
    "    color=\"black\",\n",
    ")\n",
    "\n",
    "\n",
    "ax1.set_title(\"Number of RfAs per year\")\n",
    "ax2.set_title(\"Overall fraction of\\npositive votes per year\")\n",
    "ax3.set_title(\"Average number of votes\\nper RfA per year. 95% CI\")\n",
    "\n",
    "for ax in [ax1, ax2, ax3]:\n",
    "    ax.set_xticklabels(ax.get_xticklabels(), rotation=90)\n",
    "    ax.set_xlabel(\"year\")\n",
    "\n",
    "plt.tight_layout()\n",
    "plt.show()"
   ]
  },
  {
   "cell_type": "markdown",
   "id": "366d38d9",
   "metadata": {},
   "source": [
    "**1.3** \n",
    "**/Discuss:/** Describe the temporal patterns observed in the plots you did in **T1.2**."
   ]
  },
  {
   "cell_type": "markdown",
   "id": "e77900f8",
   "metadata": {},
   "source": [
    "**A1.3** \n",
    "\n",
    "<div class=\"alert alert-block alert-info\">\n",
    "\n",
    "We can see that in 2003, likely the beginnings of Wikipedia, there were few RfAs and more than 90% of them were accepted. This shows that there was a need for admins. More and more people are voting for admins, as the cumulative number of admins is increasing. Voters are less and less generous across each year.\n",
    "\n",
    "</div>"
   ]
  },
  {
   "cell_type": "markdown",
   "id": "81126c89",
   "metadata": {},
   "source": [
    "**1.4** \n",
    "Create an undirected graph ([`nx.Graph`](https://networkx.org/documentation/stable/reference/classes/graph.html)) where every node corresponds to a Wikipedia user (source or target of an RfA) and where there exists an edge between two users if at least one of them has voted on the other. Each edge should have attributes corresponding to columns of the dataframe, namely:\n",
    "- `VOT`, which equals `1` if the vote was positive, and `-1` otherwise.\n",
    "- `YEA`, an integer that represents the year of the RfA.\n",
    "\n",
    "**The code to load the graph has been provided to you!** After running it, print the number of nodes and edges in your graph.\n",
    "\n",
    "---\n",
    "\n",
    "**Observation:** Note that we have at most one edge per pair of nodes in the graph, even though two votes may be associated with the pair  — e.g., if A voted in B's RfA in time $t_1$ and B voted in A's RfA in time $t_2$ ($t_1 < t_2$). In these cases, the code provided associates the metadata of the oldest vote ($t_1$ in the example) to the edge between A and B."
   ]
  },
  {
   "cell_type": "code",
   "execution_count": 41,
   "id": "e57d4776",
   "metadata": {},
   "outputs": [],
   "source": [
    "# Provided code! Do not change!\n",
    "import networkx as nx\n",
    "import pandas as pd\n",
    "G = nx.from_pandas_edgelist(pd.read_csv(\"./wiki-RfA.csv.gz\"), \n",
    "                            'SRC', 'TGT', ['VOT', 'RES', 'YEA', 'DAT'], create_using=nx.Graph)"
   ]
  },
  {
   "cell_type": "code",
   "execution_count": 42,
   "id": "f21ec7a6",
   "metadata": {},
   "outputs": [
    {
     "data": {
      "text/plain": [
       "(10831, 161147)"
      ]
     },
     "execution_count": 42,
     "metadata": {},
     "output_type": "execute_result"
    }
   ],
   "source": [
    "# 1.4\n",
    "len(G.nodes()), len(G.edges())"
   ]
  },
  {
   "cell_type": "markdown",
   "id": "37cbd1b8",
   "metadata": {},
   "source": [
    "**1.5** \n",
    "Plot the **complementary** cumulative distribution of the degree centrality of the undirected graph. Use a logarithmic (base 10) x-axis and a linear y-axis."
   ]
  },
  {
   "cell_type": "code",
   "execution_count": 92,
   "id": "f52ddc20",
   "metadata": {},
   "outputs": [
    {
     "data": {
      "image/png": "[encoded data removed]",
      "text/plain": [
       "<Figure size 640x480 with 1 Axes>"
      ]
     },
     "metadata": {},
     "output_type": "display_data"
    }
   ],
   "source": [
    "ax = sns.ecdfplot(dict(G.degree()).values(), log_scale=True, complementary=True, legend=False)\n",
    "# ax.axvline(11)"
   ]
  },
  {
   "cell_type": "markdown",
   "id": "935be3bf",
   "metadata": {},
   "source": [
    "\n",
    "**1.6**\n",
    "**/Discuss:/** Why is the following statement false? Justify your answer. **\"From the graph obtained in task 1.5, one can conclude that around 40% of the users voted at least 11 times.\"**\n"
   ]
  },
  {
   "cell_type": "markdown",
   "id": "3316f395",
   "metadata": {},
   "source": [
    "**A1.6**\n",
    "\n",
    "<div class=\"alert alert-block alert-info\">\n",
    "\n",
    "The graph is undirected therefore it may also be people that voted for the user during another RfA\n",
    "\n",
    "</div>"
   ]
  },
  {
   "cell_type": "markdown",
   "id": "9d1d5f4a",
   "metadata": {},
   "source": [
    "**1.7**\n",
    "What fraction of users voted at least 11 times? Use the data to measure the fraction."
   ]
  },
  {
   "cell_type": "code",
   "execution_count": 201,
   "id": "700be69a",
   "metadata": {},
   "outputs": [
    {
     "data": {
      "text/plain": [
       "0.24863816822084756"
      ]
     },
     "execution_count": 201,
     "metadata": {},
     "output_type": "execute_result"
    }
   ],
   "source": [
    "G_ = nx.from_pandas_edgelist(df, 'SRC', 'TGT', ['VOT', 'RES', 'YEA'], create_using=nx.DiGraph)\n",
    "\n",
    "tmp = sorted(dict(G_.out_degree()).values())\n",
    "\n",
    "len([t for t in tmp if t >= 11]) / len(tmp)"
   ]
  },
  {
   "cell_type": "code",
   "execution_count": 71,
   "id": "a167a11b",
   "metadata": {},
   "outputs": [
    {
     "data": {
      "text/plain": [
       "0.27459977567043947"
      ]
     },
     "execution_count": 71,
     "metadata": {},
     "output_type": "execute_result"
    }
   ],
   "source": [
    "# 1.7\n",
    "# votes_per_user = df.groupby(\"SRC\").count()\n",
    "# len(votes_per_user.query(\"VOT >= 11\")) / len(votes_per_user)"
   ]
  },
  {
   "cell_type": "markdown",
   "id": "35b05b29",
   "metadata": {},
   "source": [
    "### Task 2: Triangles\n",
    "\n",
    "Next, you set out to investigate the social balance theory by looking at the RfA graph.\n",
    "\n",
    "**2.1**\n",
    "Considering _only_ the RfAs of 2004 (i.e., where `YEA == 2004`), generate all triangles in the undirected graph.\n",
    "Print the number of triangles found.\n",
    "- **Hint:** Note that you can generate a graph with only a subset of nodes and edges via ` G.edge_subgraph`.\n",
    "-  **Hint:** The function `nx.enumerate_all_cliques` generates all cliques in an undirected graph. First, all cliques of size 1 are generated, then all cliques of size 2, etc. Triangles are cliques of size 3.\n"
   ]
  },
  {
   "cell_type": "code",
   "execution_count": 192,
   "id": "b39a403e",
   "metadata": {},
   "outputs": [],
   "source": [
    "# 2.1\n",
    "# G_triangles = nx.from_pandas_edgelist(pd.read_csv(\"./wiki-RfA.csv.gz\").query(\"YEA == 2004\"), \n",
    "#                             'SRC', 'TGT', ['VOT', 'RES', 'YEA', 'DAT'], create_using=nx.Graph)"
   ]
  },
  {
   "cell_type": "code",
   "execution_count": null,
   "id": "7eb5f369",
   "metadata": {},
   "outputs": [],
   "source": [
    "G_triangles = G.edge_subgraph(\n",
    "    [\n",
    "        (src, trgt) for src, trgt, data in G.edges(data=True)\n",
    "        if data['YEA'] == 2004\n",
    "    ]\n",
    ")\n",
    "\n",
    "# edges_2004 = [i for i, v in nx.get_edge_attributes(G, \"YEA\").items() if v == 2004]\n",
    "# G_2004 = G.edge_subgraph(edges_2004)"
   ]
  },
  {
   "cell_type": "code",
   "execution_count": 197,
   "id": "2d7072a7",
   "metadata": {},
   "outputs": [],
   "source": [
    "triangles = []\n",
    "for clique in nx.enumerate_all_cliques(G_triangles):\n",
    "    if len(clique) == 3:\n",
    "        triangles.append(clique)\n",
    "    if len(clique) > 3:\n",
    "        break"
   ]
  },
  {
   "cell_type": "code",
   "execution_count": 198,
   "id": "f02b15be",
   "metadata": {},
   "outputs": [
    {
     "data": {
      "text/plain": [
       "8448"
      ]
     },
     "execution_count": 198,
     "metadata": {},
     "output_type": "execute_result"
    }
   ],
   "source": [
    "len(triangles)"
   ]
  },
  {
   "cell_type": "markdown",
   "id": "9b8ac389",
   "metadata": {},
   "source": [
    "**2.2 ** **/True or false:/** Is the following statement true or false? Justify your answer. **\"The node with the highest clustering coefficient in an undirected graph is the node that belongs to the largest number of triangles.\"**"
   ]
  },
  {
   "cell_type": "markdown",
   "id": "f961eef7",
   "metadata": {},
   "source": [
    "**A2.2**\n",
    "<div class=\"alert alert-block alert-info\">\n",
    "\n",
    "True : The neighbours of the node that belongs to the largest number of triangles have the highest number of edges among neighbors. Therefore the clustering coefficient C is maximal.\n",
    "\n",
    "</div>"
   ]
  },
  {
   "cell_type": "markdown",
   "id": "f2a85e5f",
   "metadata": {},
   "source": [
    "**A2.2** **False**. \n",
    "\n",
    "**Intuition:** cluster coefficient is a fraction of closed triangles in ego net. This says nothing about the absolute number of triangles in the ego network (i.e., the network of neighbors).\n",
    "\n",
    "**Counter example:**\n",
    "Consider the following counter-example in a graph with 5 nodes: $u_1$, $u_2$ $u_3$, $u_4$ and $u_5$, and 6 edges, \n",
    "$\\langle u_1, u_2 \\rangle$,\n",
    "$\\langle u_1, u_3 \\rangle$,\n",
    "$\\langle u_2, u_3 \\rangle$,\n",
    "$\\langle u_2, u_4 \\rangle$,\n",
    "$\\langle u_2, u_5 \\rangle$,\n",
    "$\\langle u_4, u_5 \\rangle$.\n",
    "\n",
    "```\n",
    "1 ----- 3\n",
    " \\     /\n",
    "  \\   /\n",
    "    2\n",
    "  /   \\\n",
    " /     \\\n",
    "4 ----- 5\n",
    "\n",
    "``` \n",
    "\n",
    "\n",
    "- $u_1$ has clustering coefficient equals 1, as the only neighbors of the node are connected. \n",
    "- $u_1$ belongs to 1 triangle.\n",
    "- $u_2$ has clustering coefficient equals 1, because $u_4$ and $u_5$ are not connected.\n",
    "- $u_2$ belongs to 2 triangles."
   ]
  },
  {
   "cell_type": "markdown",
   "id": "e2f5b22c",
   "metadata": {},
   "source": [
    "**2.3** Considering the set of triangles previously calculated, estimate the fraction of triangles of configurations\n",
    " $\\{+,+,+\\}$,  $\\{-,-,-\\}$,  $\\{+,+,-\\}$, and $\\{+,-,-\\}$. What fraction of triangles are \"balanced\" according to structural balance theory?"
   ]
  },
  {
   "cell_type": "code",
   "execution_count": 199,
   "id": "f858e94c",
   "metadata": {},
   "outputs": [],
   "source": [
    "# 2.3\n",
    "configurations = {\n",
    "    3:0,\n",
    "    -3:0,\n",
    "    1:0,\n",
    "    -1:0,\n",
    "}\n",
    "for tirangle in triangles:\n",
    "    configurations[\n",
    "        sum(data[\"VOT\"] for _, _, data in G_triangles.subgraph(tirangle).edges(data=True))\n",
    "    ] += 1\n",
    "    "
   ]
  },
  {
   "cell_type": "code",
   "execution_count": 107,
   "id": "353c43fe",
   "metadata": {},
   "outputs": [
    {
     "data": {
      "text/plain": [
       "{3: 6696, -3: 44, 1: 1178, -1: 530}"
      ]
     },
     "execution_count": 107,
     "metadata": {},
     "output_type": "execute_result"
    }
   ],
   "source": [
    "configurations"
   ]
  },
  {
   "cell_type": "markdown",
   "id": "399d13d6",
   "metadata": {},
   "source": [
    "In a nutshell,\n",
    "- structural balance theory\n",
    "  - considers $\\{+,+,+\\}$, $\\{+,-,-\\}$ as balanced,\n",
    "  - and $\\{+,+,-\\}$, $\\{-,-,-\\}$ as unbalanced;\n",
    "- weak structural balance theory\n",
    "  - considers $\\{+,+,+\\}$, $\\{+,-,-\\}$, $\\{-,-,-\\}$ as balanced,\n",
    "  - and $\\{+,+,-\\}$ as unbalanced."
   ]
  },
  {
   "cell_type": "code",
   "execution_count": 109,
   "id": "f2524454",
   "metadata": {},
   "outputs": [],
   "source": [
    "is_balanced = {\n",
    "    3:True,\n",
    "    -3:False,\n",
    "    1:False,\n",
    "    -1:True,\n",
    "}\n",
    "\n",
    "is_weakly_balanced = {\n",
    "    3:True,\n",
    "    -3:True,\n",
    "    1:False,\n",
    "    -1:True,\n",
    "}"
   ]
  },
  {
   "cell_type": "code",
   "execution_count": 111,
   "id": "9cca708f",
   "metadata": {},
   "outputs": [
    {
     "data": {
      "text/plain": [
       "0.8553503787878788"
      ]
     },
     "execution_count": 111,
     "metadata": {},
     "output_type": "execute_result"
    }
   ],
   "source": [
    "balanced_count = 0\n",
    "for config, nb in configurations.items():\n",
    "    if is_balanced[config]:\n",
    "        balanced_count += nb\n",
    "\n",
    "balanced_count / sum(configurations.values())"
   ]
  },
  {
   "cell_type": "markdown",
   "id": "97e6f9f0",
   "metadata": {},
   "source": [
    "**2.4** To observe how triangle configurations would be distributed under a random null model, do the following:\n",
    "- Create a new column `VOT_RND` in the dataframe, where RfA votes (i.e., edge signs in the graph) are shuffled, i.e., permuted randomly.  For shuffling, use `numpy.random`, without replacement and with the seed 32 (see code provided below).\n",
    "- Create a new edge attribute with the values of `VOT_RND` in the graph you created in task **1.4**. You can do this easily using the  [`set_edge_attributes`](https://networkx.org/documentation/stable/reference/generated/networkx.classes.function.set_edge_attributes.html) function.\n",
    "- Considering the shuffled edge signs,  compute the fraction of triangles in each configuration ($\\{+,+,+\\}$,  $\\{-,-,-\\}$,  $\\{+,+,-\\}$, $\\{+,-,-\\}$). Moreover, compute the fraction of triangles that are \"balanced\" according to structural balance theory. (Reminder: consider only the RfAs of 2004.)\n"
   ]
  },
  {
   "cell_type": "code",
   "execution_count": 134,
   "id": "8b4cba61",
   "metadata": {},
   "outputs": [],
   "source": [
    "# PROVIDED STUB FOR 2.4\n",
    "import numpy as np\n",
    "np.random.seed(32)\n",
    "df_2004 = df[df.YEA == 2004].copy(deep=True)\n",
    "df_2004[\"VOT_RND\"] = np.random.choice(df_2004[\"VOT\"].values, size=len(df_2004), replace=False)"
   ]
  },
  {
   "cell_type": "code",
   "execution_count": 205,
   "id": "1e38d357",
   "metadata": {},
   "outputs": [],
   "source": [
    "G_triangles = nx.from_pandas_edgelist(df_2004, \n",
    "                            'SRC', 'TGT', ['VOT', 'RES', 'YEA', 'DAT', 'VOT_RND'], create_using=nx.Graph)\n",
    "\n",
    "\n",
    "# attrs_to_add = dict(df_2004.set_index([\"SRC\", \"TGT\"]).VOT_RND)\n",
    "\n",
    "\n",
    "# nx.set_edge_attributes(G, name=\"VOT_RND\", values=attrs_to_add)"
   ]
  },
  {
   "cell_type": "code",
   "execution_count": 136,
   "id": "03dbf199",
   "metadata": {},
   "outputs": [
    {
     "data": {
      "text/plain": [
       "0.7201704545454546"
      ]
     },
     "execution_count": 136,
     "metadata": {},
     "output_type": "execute_result"
    }
   ],
   "source": [
    "random_configurations = {\n",
    "    3:0,\n",
    "    -3:0,\n",
    "    1:0,\n",
    "    -1:0,\n",
    "}\n",
    "for tirangle in triangles:\n",
    "    random_configurations[\n",
    "        sum(data[\"VOT_RND\"] for _, _, data in G_triangles.subgraph(tirangle).edges(data=True))\n",
    "    ] += 1\n",
    "    \n",
    "rnd_balanced_count = 0\n",
    "for config, nb in random_configurations.items():\n",
    "    if is_balanced[config]:\n",
    "        rnd_balanced_count += nb\n",
    "\n",
    "rnd_balanced_count / sum(random_configurations.values())"
   ]
  },
  {
   "cell_type": "markdown",
   "id": "f055a145",
   "metadata": {},
   "source": [
    "**2.5** **/Discuss:/** Do the results of tasks **2.3** and **2.4** suggest that structural balance theory is correct? What kind of subsequent analysis would make you trust that the results are not obtained simply by chance? (No need to actually perform that subsequent analysis here.) Justify your answer."
   ]
  },
  {
   "cell_type": "markdown",
   "id": "dcd070a6",
   "metadata": {},
   "source": [
    "**A2.5** \n",
    "<div class=\"alert alert-block alert-info\">\n",
    "\n",
    "Yes it suggests that it is correct as you have close to a 13% difference between the random voting and the actual data.\n",
    "\n",
    "In order to strengthen the analysis, one could do a chi2 contigency test or do a bootstrapped confidence interval and check wether the fractions overlap.\n",
    "\n",
    "</div>"
   ]
  },
  {
   "cell_type": "markdown",
   "id": "d5252ffb",
   "metadata": {},
   "source": [
    "### Interlude: Additional data\n",
    "\n",
    "In the data provided in the file `wiki-RfA.csv.gz` (with which you’ve worked up to now), each column corresponds to a vote from a user $u$ to a user $v$ at a time $t$. \n",
    "\n",
    "In **Task 2**, we did not consider the temporal aspect of this network. For the next task, you are provided with a complimentary dataset (`data/wiki-RfA_extra.csv.gz`) containing, for each vote (uniquely determined by `SRC` and `TGT`), a variety of features. **Importantly, these features were calculated considering only data that was already available at the time when the respective vote was cast.** The features are described as follows.\n",
    "\n",
    "- `PP`, `NN`, `PN` — Each vote (signed edge) is part of zero or more triangles, and we computed the number of triangles in which the two remaining edges were both positive (`PP`), both negative (`NN`) and of different signs (i.e., one positive and one negative, `PN`). This considers only the votes the target (denoted by `TGT`) has received before the current vote. \n",
    "\n",
    "- `P`, `N` — The number of positive (`P`) and negative (`N`) votes that the target `TGT` received before the current vote.\n",
    "\n",
    "- `TXT_PROCESSED` — The text in the original dataset, processed so 1) it is entirely lower-case, 2) it does not contain non-alphanumeric characters, and 3) it does not contain words starting with “supp” or “opp” (since words such as \"support\" and \"oppose\"  are obvious give-away signals of the vote).\n",
    "\n",
    "### Interlude: Predicting edge signs with structural balance theory\n",
    "\n",
    "We can use structural balance theory to predict edge signs. \n",
    "\n",
    "Consider an edge whose sign we do not know, as well as the fractions `PP`, `NN`, and `PN` associated with the edge, as defined above. \n",
    "\n",
    "According to structural balance theory, if `PP` + `NN` $\\geq$ `PN`, the vote is predicted to be positive, as this will create more balanced triangles in the graph. Otherwise, it is predicted to be negative. \n",
    "\n",
    "According to the weak structural balance theory, if `PP` $\\geq$ `PN`, the vote is predicted to be positive, as this will create more balanced triangles in the graph. Otherwise, it is predicted to be negative. \n",
    "\n",
    "Note that in both cases we use “$\\geq$” rather than “<”, i.e., when both sides of the equation are equal, we break ties in favor of positive edges. We do so because there are more positive edges in the graph."
   ]
  },
  {
   "cell_type": "markdown",
   "id": "e2f20eed",
   "metadata": {},
   "source": [
    "### Task 3: Predict it!\n",
    "\n",
    "In the final part of the exam, you will leverage your machine learning and regression skills.\n",
    "\n",
    "**3.1** Merge the new dataset with the original dataframe from task **1** using the columns `SRC` and `TGT`. You may drop the old `TXT` column if you want to. \n"
   ]
  },
  {
   "cell_type": "code",
   "execution_count": 143,
   "id": "61fa45e5",
   "metadata": {},
   "outputs": [],
   "source": [
    "df_task_3 = pd.merge(\n",
    "    df,\n",
    "    pd.read_csv(\"./wiki-RfA_extra.csv.gz\")\n",
    ")"
   ]
  },
  {
   "cell_type": "markdown",
   "id": "c5d42a2d",
   "metadata": {},
   "source": [
    "**3.2**  Create the following two rule-based classifiers, and for each, estimate its area under the ROC curve (a.k.a. “AUC/ROC”) on the entire dataset:\n",
    "\n",
    "- **A)** a classifier inspired by structural balance theory. The classifier should predict a positive vote if  `PP` + `NN` $\\geq$ `PN`, and a negative vote otherwise.\n",
    "- **B)** a classifier inspired by weak structural balance theory. The classifier should predict a positive vote if `PP`  $\\geq$ `PN` and a negative vote otherwise."
   ]
  },
  {
   "cell_type": "code",
   "execution_count": 212,
   "id": "0d46d132",
   "metadata": {},
   "outputs": [
    {
     "name": "stdout",
     "output_type": "stream",
     "text": [
      "A) roc score 0.525390127858417\n",
      "B) roc score 0.528036104766419\n"
     ]
    }
   ],
   "source": [
    "y = (df_task_3.VOT.values == 1).astype(int)\n",
    "y_pred = (df_task_3.PP + df_task_3.NN >= df_task_3.PN).astype(int)\n",
    "print(\"A) roc score\", roc_auc_score(y, y_pred))\n",
    "\n",
    "# B)\n",
    "y = (df_task_3.VOT.values == 1).astype(int)\n",
    "y_pred = (df_task_3.PP >= df_task_3.PN).astype(int)\n",
    "print(\"B) roc score\", roc_auc_score(y, y_pred))"
   ]
  },
  {
   "cell_type": "code",
   "execution_count": 213,
   "id": "44643421",
   "metadata": {},
   "outputs": [],
   "source": [
    "# 3.2\n",
    "df_task_3[\"balance_theory_clf\"] = (df_task_3[\"PP\"] + df_task_3[\"NN\"]>=df_task_3[\"PN\"]).astype(int)\n",
    "df_task_3[\"weak_balance_theory_clf\"] = (df_task_3[\"PP\"]>=df_task_3[\"PN\"]).astype(int)"
   ]
  },
  {
   "cell_type": "code",
   "execution_count": 214,
   "id": "d94cd41e",
   "metadata": {},
   "outputs": [
    {
     "data": {
      "text/html": [
       "<div>\n",
       "<style scoped>\n",
       "    .dataframe tbody tr th:only-of-type {\n",
       "        vertical-align: middle;\n",
       "    }\n",
       "\n",
       "    .dataframe tbody tr th {\n",
       "        vertical-align: top;\n",
       "    }\n",
       "\n",
       "    .dataframe thead th {\n",
       "        text-align: right;\n",
       "    }\n",
       "</style>\n",
       "<table border=\"1\" class=\"dataframe\">\n",
       "  <thead>\n",
       "    <tr style=\"text-align: right;\">\n",
       "      <th></th>\n",
       "      <th>SRC</th>\n",
       "      <th>TGT</th>\n",
       "      <th>VOT</th>\n",
       "      <th>RES</th>\n",
       "      <th>YEA</th>\n",
       "      <th>DAT</th>\n",
       "      <th>TXT</th>\n",
       "      <th>PP</th>\n",
       "      <th>NN</th>\n",
       "      <th>PN</th>\n",
       "      <th>N</th>\n",
       "      <th>P</th>\n",
       "      <th>TXT_PROCESSED</th>\n",
       "      <th>balance_theory_clf</th>\n",
       "      <th>weak_balance_theory_clf</th>\n",
       "    </tr>\n",
       "  </thead>\n",
       "  <tbody>\n",
       "    <tr>\n",
       "      <th>0</th>\n",
       "      <td>5943</td>\n",
       "      <td>9966</td>\n",
       "      <td>-1</td>\n",
       "      <td>-1</td>\n",
       "      <td>2012</td>\n",
       "      <td>2012-12-30 22:27:00</td>\n",
       "      <td>—</td>\n",
       "      <td>2</td>\n",
       "      <td>0</td>\n",
       "      <td>4</td>\n",
       "      <td>12</td>\n",
       "      <td>0</td>\n",
       "      <td></td>\n",
       "      <td>0</td>\n",
       "      <td>0</td>\n",
       "    </tr>\n",
       "    <tr>\n",
       "      <th>1</th>\n",
       "      <td>9153</td>\n",
       "      <td>9966</td>\n",
       "      <td>-1</td>\n",
       "      <td>-1</td>\n",
       "      <td>2012</td>\n",
       "      <td>2012-12-30 22:25:00</td>\n",
       "      <td>'''Oppose'''. This joke really isn't funny, no...</td>\n",
       "      <td>2</td>\n",
       "      <td>1</td>\n",
       "      <td>3</td>\n",
       "      <td>11</td>\n",
       "      <td>0</td>\n",
       "      <td>this joke really isn t funny not even if you ...</td>\n",
       "      <td>1</td>\n",
       "      <td>0</td>\n",
       "    </tr>\n",
       "    <tr>\n",
       "      <th>2</th>\n",
       "      <td>4189</td>\n",
       "      <td>9966</td>\n",
       "      <td>-1</td>\n",
       "      <td>-1</td>\n",
       "      <td>2012</td>\n",
       "      <td>2012-12-30 22:17:00</td>\n",
       "      <td>'''Oppose''' as per nomination and answers. --...</td>\n",
       "      <td>0</td>\n",
       "      <td>0</td>\n",
       "      <td>2</td>\n",
       "      <td>10</td>\n",
       "      <td>0</td>\n",
       "      <td>as per nomination and answers</td>\n",
       "      <td>0</td>\n",
       "      <td>0</td>\n",
       "    </tr>\n",
       "    <tr>\n",
       "      <th>3</th>\n",
       "      <td>3750</td>\n",
       "      <td>9966</td>\n",
       "      <td>-1</td>\n",
       "      <td>-1</td>\n",
       "      <td>2012</td>\n",
       "      <td>2012-12-30 22:14:00</td>\n",
       "      <td>'''Oppose''' and '''speeedy close''' this as [...</td>\n",
       "      <td>0</td>\n",
       "      <td>0</td>\n",
       "      <td>0</td>\n",
       "      <td>9</td>\n",
       "      <td>0</td>\n",
       "      <td>and speeedy close this as wp snow as it s cle...</td>\n",
       "      <td>1</td>\n",
       "      <td>1</td>\n",
       "    </tr>\n",
       "    <tr>\n",
       "      <th>4</th>\n",
       "      <td>4225</td>\n",
       "      <td>9966</td>\n",
       "      <td>-1</td>\n",
       "      <td>-1</td>\n",
       "      <td>2012</td>\n",
       "      <td>2012-12-30 22:08:00</td>\n",
       "      <td>'''Oppose''' per nomination and answers. I am ...</td>\n",
       "      <td>0</td>\n",
       "      <td>0</td>\n",
       "      <td>1</td>\n",
       "      <td>8</td>\n",
       "      <td>0</td>\n",
       "      <td>per nomination and answers i am particularly ...</td>\n",
       "      <td>0</td>\n",
       "      <td>0</td>\n",
       "    </tr>\n",
       "    <tr>\n",
       "      <th>...</th>\n",
       "      <td>...</td>\n",
       "      <td>...</td>\n",
       "      <td>...</td>\n",
       "      <td>...</td>\n",
       "      <td>...</td>\n",
       "      <td>...</td>\n",
       "      <td>...</td>\n",
       "      <td>...</td>\n",
       "      <td>...</td>\n",
       "      <td>...</td>\n",
       "      <td>...</td>\n",
       "      <td>...</td>\n",
       "      <td>...</td>\n",
       "      <td>...</td>\n",
       "      <td>...</td>\n",
       "    </tr>\n",
       "    <tr>\n",
       "      <th>166998</th>\n",
       "      <td>3867</td>\n",
       "      <td>2762</td>\n",
       "      <td>1</td>\n",
       "      <td>1</td>\n",
       "      <td>2003</td>\n",
       "      <td>2003-08-23 03:34:00</td>\n",
       "      <td>Also support; Llywrch has been here for ages a...</td>\n",
       "      <td>0</td>\n",
       "      <td>0</td>\n",
       "      <td>0</td>\n",
       "      <td>0</td>\n",
       "      <td>0</td>\n",
       "      <td>also llywrch has been here for ages and done n...</td>\n",
       "      <td>1</td>\n",
       "      <td>1</td>\n",
       "    </tr>\n",
       "    <tr>\n",
       "      <th>166999</th>\n",
       "      <td>8091</td>\n",
       "      <td>8486</td>\n",
       "      <td>1</td>\n",
       "      <td>1</td>\n",
       "      <td>2003</td>\n",
       "      <td>2003-08-21 11:47:00</td>\n",
       "      <td>Support. [[User_talk:Fantasy#Thanks!]] and oth...</td>\n",
       "      <td>0</td>\n",
       "      <td>0</td>\n",
       "      <td>0</td>\n",
       "      <td>0</td>\n",
       "      <td>0</td>\n",
       "      <td>user talk fantasy thanks and other of his act...</td>\n",
       "      <td>1</td>\n",
       "      <td>1</td>\n",
       "    </tr>\n",
       "    <tr>\n",
       "      <th>167000</th>\n",
       "      <td>1581</td>\n",
       "      <td>8767</td>\n",
       "      <td>1</td>\n",
       "      <td>1</td>\n",
       "      <td>2003</td>\n",
       "      <td>2003-08-18 23:16:00</td>\n",
       "      <td>Support for WikiQuote, but I haven't seen enou...</td>\n",
       "      <td>0</td>\n",
       "      <td>0</td>\n",
       "      <td>0</td>\n",
       "      <td>0</td>\n",
       "      <td>0</td>\n",
       "      <td>for wikiquote but i haven t seen enough evide...</td>\n",
       "      <td>1</td>\n",
       "      <td>1</td>\n",
       "    </tr>\n",
       "    <tr>\n",
       "      <th>167001</th>\n",
       "      <td>1011</td>\n",
       "      <td>8056</td>\n",
       "      <td>1</td>\n",
       "      <td>1</td>\n",
       "      <td>2003</td>\n",
       "      <td>2003-08-16 01:25:00</td>\n",
       "      <td>Support. Does good things with maps. --</td>\n",
       "      <td>0</td>\n",
       "      <td>0</td>\n",
       "      <td>0</td>\n",
       "      <td>0</td>\n",
       "      <td>0</td>\n",
       "      <td>does good things with maps</td>\n",
       "      <td>1</td>\n",
       "      <td>1</td>\n",
       "    </tr>\n",
       "    <tr>\n",
       "      <th>167002</th>\n",
       "      <td>1011</td>\n",
       "      <td>7238</td>\n",
       "      <td>1</td>\n",
       "      <td>1</td>\n",
       "      <td>2003</td>\n",
       "      <td>2003-08-16 01:25:00</td>\n",
       "      <td>Support. --</td>\n",
       "      <td>0</td>\n",
       "      <td>0</td>\n",
       "      <td>0</td>\n",
       "      <td>0</td>\n",
       "      <td>0</td>\n",
       "      <td></td>\n",
       "      <td>1</td>\n",
       "      <td>1</td>\n",
       "    </tr>\n",
       "  </tbody>\n",
       "</table>\n",
       "<p>167003 rows × 15 columns</p>\n",
       "</div>"
      ],
      "text/plain": [
       "         SRC   TGT  VOT  RES   YEA                  DAT  \\\n",
       "0       5943  9966   -1   -1  2012  2012-12-30 22:27:00   \n",
       "1       9153  9966   -1   -1  2012  2012-12-30 22:25:00   \n",
       "2       4189  9966   -1   -1  2012  2012-12-30 22:17:00   \n",
       "3       3750  9966   -1   -1  2012  2012-12-30 22:14:00   \n",
       "4       4225  9966   -1   -1  2012  2012-12-30 22:08:00   \n",
       "...      ...   ...  ...  ...   ...                  ...   \n",
       "166998  3867  2762    1    1  2003  2003-08-23 03:34:00   \n",
       "166999  8091  8486    1    1  2003  2003-08-21 11:47:00   \n",
       "167000  1581  8767    1    1  2003  2003-08-18 23:16:00   \n",
       "167001  1011  8056    1    1  2003  2003-08-16 01:25:00   \n",
       "167002  1011  7238    1    1  2003  2003-08-16 01:25:00   \n",
       "\n",
       "                                                      TXT  PP  NN  PN   N  P  \\\n",
       "0                                                       —   2   0   4  12  0   \n",
       "1       '''Oppose'''. This joke really isn't funny, no...   2   1   3  11  0   \n",
       "2       '''Oppose''' as per nomination and answers. --...   0   0   2  10  0   \n",
       "3       '''Oppose''' and '''speeedy close''' this as [...   0   0   0   9  0   \n",
       "4       '''Oppose''' per nomination and answers. I am ...   0   0   1   8  0   \n",
       "...                                                   ...  ..  ..  ..  .. ..   \n",
       "166998  Also support; Llywrch has been here for ages a...   0   0   0   0  0   \n",
       "166999  Support. [[User_talk:Fantasy#Thanks!]] and oth...   0   0   0   0  0   \n",
       "167000  Support for WikiQuote, but I haven't seen enou...   0   0   0   0  0   \n",
       "167001            Support. Does good things with maps. --   0   0   0   0  0   \n",
       "167002                                        Support. --   0   0   0   0  0   \n",
       "\n",
       "                                            TXT_PROCESSED  balance_theory_clf  \\\n",
       "0                                                                           0   \n",
       "1        this joke really isn t funny not even if you ...                   1   \n",
       "2                          as per nomination and answers                    0   \n",
       "3        and speeedy close this as wp snow as it s cle...                   1   \n",
       "4        per nomination and answers i am particularly ...                   0   \n",
       "...                                                   ...                 ...   \n",
       "166998  also llywrch has been here for ages and done n...                   1   \n",
       "166999   user talk fantasy thanks and other of his act...                   1   \n",
       "167000   for wikiquote but i haven t seen enough evide...                   1   \n",
       "167001                        does good things with maps                    1   \n",
       "167002                                                                      1   \n",
       "\n",
       "        weak_balance_theory_clf  \n",
       "0                             0  \n",
       "1                             0  \n",
       "2                             0  \n",
       "3                             1  \n",
       "4                             0  \n",
       "...                         ...  \n",
       "166998                        1  \n",
       "166999                        1  \n",
       "167000                        1  \n",
       "167001                        1  \n",
       "167002                        1  \n",
       "\n",
       "[167003 rows x 15 columns]"
      ]
     },
     "execution_count": 214,
     "metadata": {},
     "output_type": "execute_result"
    }
   ],
   "source": [
    "df_task_3"
   ]
  },
  {
   "cell_type": "code",
   "execution_count": 215,
   "id": "b6ef3cfe",
   "metadata": {},
   "outputs": [],
   "source": [
    "y = (df_task_3[\"VOT\"] == 1).astype(int)"
   ]
  },
  {
   "cell_type": "code",
   "execution_count": 216,
   "id": "88d65521",
   "metadata": {},
   "outputs": [
    {
     "data": {
      "text/plain": [
       "0.525390127858417"
      ]
     },
     "execution_count": 216,
     "metadata": {},
     "output_type": "execute_result"
    }
   ],
   "source": [
    "from sklearn.metrics import roc_auc_score, roc_curve\n",
    "\n",
    "roc_auc_score(y, df_task_3[\"balance_theory_clf\"])"
   ]
  },
  {
   "cell_type": "code",
   "execution_count": 217,
   "id": "c0cd8c01",
   "metadata": {},
   "outputs": [
    {
     "data": {
      "text/plain": [
       "0.528036104766419"
      ]
     },
     "execution_count": 217,
     "metadata": {},
     "output_type": "execute_result"
    }
   ],
   "source": [
    "roc_auc_score(y, df_task_3[\"weak_balance_theory_clf\"])"
   ]
  },
  {
   "cell_type": "markdown",
   "id": "0161ec09",
   "metadata": {},
   "source": [
    "**3.3** To determine if the differences in the classifiers from task **3.2** occur solely due to chance, follow the following bootstrap procedure, using 200 iterations:\n",
    "\n",
    "- **A)** Randomly sample the entire dataset (i.e., votes from the dataframe constructed in task **3.1**) with replacement;\n",
    "- **B)** Compute the difference of the AUC/ROC for the two classifiers on the entire dataset.\n",
    "\n",
    "Then use the distribution of AUC/ROC differences (one difference per bootstrap iteration) to estimate the 95% confidence interval for the AUC/ROC difference."
   ]
  },
  {
   "cell_type": "code",
   "execution_count": 218,
   "id": "817ee28f",
   "metadata": {},
   "outputs": [
    {
     "data": {
      "text/plain": [
       "(0.0022344780084340406, 0.0030722486137807624)"
      ]
     },
     "execution_count": 218,
     "metadata": {},
     "output_type": "execute_result"
    }
   ],
   "source": [
    "# 3.3 \n",
    "def do_bootstrap(data:pd.DataFrame, n:int=200):\n",
    "    sample_statistic = [] \n",
    "    for _ in range(n):\n",
    "        bootstrap_data = data.sample(frac=1.0, replace=True)\n",
    "        sample_statistic.append(\n",
    "            roc_auc_score(bootstrap_data[\"VOT\"], bootstrap_data[\"weak_balance_theory_clf\"])\n",
    "            -roc_auc_score(bootstrap_data[\"VOT\"], bootstrap_data[\"balance_theory_clf\"])\n",
    "        )\n",
    "    return (np.percentile(sample_statistic, 2.5), np.percentile(sample_statistic, 97.5))\n",
    "\n",
    "do_bootstrap(df_task_3)"
   ]
  },
  {
   "cell_type": "markdown",
   "id": "4d0e1569",
   "metadata": {},
   "source": [
    "**3.4 ** **/Discuss:**/ According to the results in tasks **3.2** and **3.3**, which theory better predicts actual edge signs, structural balance theory or the weak structural balance theory? \n"
   ]
  },
  {
   "cell_type": "markdown",
   "id": "94b39801",
   "metadata": {},
   "source": [
    "**A3.4** \n",
    "<div class=\"alert alert-block alert-info\">\n",
    "\n",
    "Weak structural balance theory as the difference between weak and non-weak is positive.\n",
    "\n",
    "</div>"
   ]
  },
  {
   "cell_type": "markdown",
   "id": "28d37dc1",
   "metadata": {},
   "source": [
    "**3.5** How accurately can we predict the vote with more sophisticated features and algorithms?\n",
    "\n",
    "- Create a TF-IDF representation of the text of each vote  using `sklearn`'s vectorizer ([`sklearn.feature_extraction.text.TfidfVectorizer`](https://scikit-learn.org/stable/modules/generated/sklearn.feature_extraction.text.TfidfVectorizer.html)) with the parameters `max_features=150` and `stop_words='english'`.\n",
    "- Split the  dataset into training and test sets using sklearn [`sklearn.model_selection.train_test_split`](https://scikit-learn.org/stable/modules/generated/sklearn.model_selection.train_test_split.html) using parameters `test_size=0.1` and  `random_state=42`.\n",
    "\n",
    "- Then, train two logistic regression models ([`sklearn.linear_model.SGDClassifier`](https://scikit-learn.org/stable/modules/generated/sklearn.linear_model.SGDClassifier.html)) using parameters `loss='log_loss'` and `max_iter=2000` considering:\n",
    "\n",
    "    - **1)** the TF-IDF feature vector\n",
    "\n",
    "    - **2)** the TF-IDF feature vector and the features `PP`, `NN`, `PN`, `P`, and `N` related to the graph.\n",
    "\n",
    "- Last, report the AUC/ROC of each model in the test set."
   ]
  },
  {
   "cell_type": "code",
   "execution_count": 219,
   "id": "764a00f3",
   "metadata": {},
   "outputs": [],
   "source": [
    "# 3.5\n",
    "from sklearn.feature_extraction.text import TfidfVectorizer\n",
    "from sklearn.model_selection import train_test_split\n",
    "\n",
    "vectorizer = TfidfVectorizer(stop_words=\"english\", max_features=150)\n",
    "\n",
    "df_task_3_no_nans = df_task_3.dropna(subset=[\"TXT_PROCESSED\"])\n",
    "\n",
    "X = vectorizer.fit_transform(df_task_3_no_nans[\"TXT_PROCESSED\"])\n",
    "y = df_task_3_no_nans[\"VOT\"].replace({-1:0})\n",
    "\n",
    "X_train, X_test, y_train, y_test = train_test_split(X, y, test_size=0.1, random_state=42)\n",
    "\n",
    "X_train_with_graph_feats, X_test_with_graph_feats = train_test_split(\n",
    "    np.concatenate(\n",
    "        [\n",
    "            X.toarray(),\n",
    "            df_task_3_no_nans[[\"PP\", \"NN\", \"PN\", \"P\", \"N\"]].to_numpy()\n",
    "        ],\n",
    "        axis=1\n",
    "    ),\n",
    "    test_size=0.1, \n",
    "    random_state=42\n",
    ")\n"
   ]
  },
  {
   "cell_type": "code",
   "execution_count": 220,
   "id": "8657d794",
   "metadata": {},
   "outputs": [],
   "source": [
    "from sklearn.linear_model import SGDClassifier\n",
    "\n",
    "clf = SGDClassifier(loss=\"log_loss\", max_iter=2000).fit(X_train, y_train)\n",
    "\n",
    "clf_graph_feats = SGDClassifier(loss=\"log_loss\", max_iter=2000).fit(X_train_with_graph_feats, y_train)"
   ]
  },
  {
   "cell_type": "code",
   "execution_count": 221,
   "id": "db627f80",
   "metadata": {},
   "outputs": [
    {
     "data": {
      "text/plain": [
       "(0.7119580160792855, 0.7850070098327526)"
      ]
     },
     "execution_count": 221,
     "metadata": {},
     "output_type": "execute_result"
    }
   ],
   "source": [
    "y_test_pred = np.where(\n",
    "    clf.predict(X_test) == 0, -1, 1\n",
    ")\n",
    "\n",
    "y_test_pred_graph_feats = np.where(\n",
    "    clf_graph_feats.predict(X_test_with_graph_feats) == 0, -1, 1\n",
    ")\n",
    "\n",
    "roc_auc_score(y_test, y_test_pred), roc_auc_score(y_test, y_test_pred_graph_feats)"
   ]
  },
  {
   "cell_type": "markdown",
   "id": "898cbdd1",
   "metadata": {},
   "source": [
    "**3.6** **/Discuss:**/  According to the results in task **3.5**, does information from the graph help in the task of predicting the vote even when using the text?  What kind of subsequent analysis would make you trust that the results are not obtained simply by chance? (No need to actually perform that subsequent analysis here.) "
   ]
  },
  {
   "cell_type": "markdown",
   "id": "6b6767ad",
   "metadata": {},
   "source": [
    "**A3.6** \n",
    "\n",
    "<div class=\"alert alert-block alert-info\">\n",
    "\n",
    "Yes the graph features help for the predicition, task. As we can see there is close to a 30% increase of roc_auc_score.\n",
    "\n",
    "In order to verify if this is not chance level results, one could do bootstrapping confidence intervals to chack if the two do not overlap.\n",
    "\n",
    "</div>"
   ]
  },
  {
   "cell_type": "markdown",
   "id": "7f51071d",
   "metadata": {},
   "source": [
    "**3.7** Putting on your observational studies hat, run two logistic regressions using `statsmodels`.\n",
    "- In the first regression, the vote is the outcome, and `PP`, `NN` and `PN` are the predictors.\n",
    "- In the second regression, the vote is the outcome, and `PP`, `NN`, `PN`, and `N` are the predictors."
   ]
  },
  {
   "cell_type": "code",
   "execution_count": 222,
   "id": "9f8df411",
   "metadata": {},
   "outputs": [
    {
     "name": "stdout",
     "output_type": "stream",
     "text": [
      "Optimization terminated successfully.\n",
      "         Current function value: 0.514594\n",
      "         Iterations 7\n",
      "                           Logit Regression Results                           \n",
      "==============================================================================\n",
      "Dep. Variable:                    VOT   No. Observations:               167003\n",
      "Model:                          Logit   Df Residuals:                   166999\n",
      "Method:                           MLE   Df Model:                            3\n",
      "Date:                Mon, 13 Jan 2025   Pseudo R-squ.:                 0.01804\n",
      "Time:                        11:56:22   Log-Likelihood:                -85939.\n",
      "converged:                       True   LL-Null:                       -87517.\n",
      "Covariance Type:            nonrobust   LLR p-value:                     0.000\n",
      "==============================================================================\n",
      "                 coef    std err          z      P>|z|      [0.025      0.975]\n",
      "------------------------------------------------------------------------------\n",
      "Intercept      1.2781      0.006    206.255      0.000       1.266       1.290\n",
      "PP             0.2493      0.007     34.272      0.000       0.235       0.264\n",
      "NN            -0.6765      0.040    -16.946      0.000      -0.755      -0.598\n",
      "PN            -0.5509      0.014    -40.304      0.000      -0.578      -0.524\n",
      "==============================================================================\n"
     ]
    }
   ],
   "source": [
    "# 3.7\n",
    "import statsmodels.formula.api as smf\n",
    "\n",
    "df_task_3_bin = df_task_3.copy(deep=True)\n",
    "df_task_3_bin[\"VOT\"] = df_task_3_bin[\"VOT\"].replace({-1:0})\n",
    "mod = smf.logit(formula='VOT ~  PP + NN + PN', data=df_task_3_bin)\n",
    "res = mod.fit()\n",
    "print(res.summary())"
   ]
  },
  {
   "cell_type": "code",
   "execution_count": 223,
   "id": "e87b894b",
   "metadata": {},
   "outputs": [
    {
     "name": "stdout",
     "output_type": "stream",
     "text": [
      "Optimization terminated successfully.\n",
      "         Current function value: 0.487994\n",
      "         Iterations 7\n",
      "                           Logit Regression Results                           \n",
      "==============================================================================\n",
      "Dep. Variable:                    VOT   No. Observations:               167003\n",
      "Model:                          Logit   Df Residuals:                   166998\n",
      "Method:                           MLE   Df Model:                            4\n",
      "Date:                Mon, 13 Jan 2025   Pseudo R-squ.:                 0.06880\n",
      "Time:                        11:56:30   Log-Likelihood:                -81496.\n",
      "converged:                       True   LL-Null:                       -87517.\n",
      "Covariance Type:            nonrobust   LLR p-value:                     0.000\n",
      "==============================================================================\n",
      "                 coef    std err          z      P>|z|      [0.025      0.975]\n",
      "------------------------------------------------------------------------------\n",
      "Intercept      1.6227      0.008    212.945      0.000       1.608       1.638\n",
      "PP             0.2535      0.008     33.344      0.000       0.239       0.268\n",
      "NN            -0.5466      0.040    -13.631      0.000      -0.625      -0.468\n",
      "PN            -0.4561      0.014    -33.013      0.000      -0.483      -0.429\n",
      "N             -0.0438      0.000    -89.263      0.000      -0.045      -0.043\n",
      "==============================================================================\n"
     ]
    }
   ],
   "source": [
    "mod = smf.logit(formula='VOT ~  PP + NN + PN + N', data=df_task_3_bin)\n",
    "res = mod.fit()\n",
    "print(res.summary())"
   ]
  },
  {
   "cell_type": "markdown",
   "id": "db15d090",
   "metadata": {},
   "source": [
    "**3.8** **/Discuss:**/   Explain what the coefficient associated with `PP` means in the first regression. Is it in accordance with structural balance theory?"
   ]
  },
  {
   "cell_type": "markdown",
   "id": "48845787",
   "metadata": {},
   "source": [
    "**A3.8** \n",
    "\n",
    "<div class=\"alert alert-block alert-info\">\n",
    "\n",
    "Having two other positive edges in the triangle increase the log odds of a positive edge by around 0.25. This is in accordance with the balance theory; the friend of a friend is a friend.\n",
    "\n",
    "</div>"
   ]
  },
  {
   "cell_type": "markdown",
   "id": "49752dbb",
   "metadata": {},
   "source": [
    "**3.9** **/Discuss:**/   Compare the coefficients associated with `PN` and `NN` in the first vs. the second regression. Present a reason that may explain this difference."
   ]
  },
  {
   "cell_type": "markdown",
   "id": "8ab7612b",
   "metadata": {},
   "source": [
    "**A3.9**  \n",
    "\n",
    "<div class=\"alert alert-block alert-info\">\n",
    "\n",
    "The coefficients associated with `PN` and `NN` increase if you account for the number of negative votes previously received (`N`).\n",
    "\n",
    "A possible explanation:\n",
    "- Previous negative votes tell something about the quality of the candidate, decreasing the log odds that they receive positive votes (this can be seen in the second regression).\n",
    "- When we do not control directly for previous negative votes, the coefficients `NN` and `PN` partially capture previous negative votes.\n",
    "\n",
    "</div>"
   ]
  },
  {
   "cell_type": "markdown",
   "id": "207c9147",
   "metadata": {},
   "source": [
    "---"
   ]
  }
 ],
 "metadata": {
  "kernelspec": {
   "display_name": "ada_exam_2024",
   "language": "python",
   "name": "python3"
  },
  "language_info": {
   "codemirror_mode": {
    "name": "ipython",
    "version": 3
   },
   "file_extension": ".py",
   "mimetype": "text/x-python",
   "name": "python",
   "nbconvert_exporter": "python",
   "pygments_lexer": "ipython3",
   "version": "3.10.16"
  }
 },
 "nbformat": 4,
 "nbformat_minor": 5
}
