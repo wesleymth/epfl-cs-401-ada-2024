{
 "cells": [
  {
   "cell_type": "markdown",
   "metadata": {},
   "source": [
    "# ADA final exam (Fall 2024)"
   ]
  },
  {
   "cell_type": "markdown",
   "metadata": {},
   "source": [
    "This exam consists of 2 tasks. The two tasks are independent of each other. You can solve them in any order."
   ]
  },
  {
   "cell_type": "markdown",
   "metadata": {},
   "source": [
    "## Task 1: Natural Language Processing (50 pts)\n",
    "This part of the exam will analyze a real-world negotiation dataset:\n",
    "\n",
    "Two participants take the role of campsite neighbors and negotiate for Food, Water, and Firewood packages, based on their individual preferences and requirements. This design keeps the task tractable, while still facilitating linguistically rich and personal conversations.\n",
    "\n",
    "At the end of each negotiation, both negotiators receive an outcome score (`outcome`) reflecting their success in achieving their goals. The dataset is divided into two data frames:\n",
    "\n",
    "1. `df_negotiations`, with columns:\n",
    "    - `negotiation_id`: the negotiation identifier\n",
    "    - `agent`: the agent active in that turn, either `mt_agent_1` or `mt_agent_2` (first and second to interact)\n",
    "    - `message`: the message sent to the other agent\n",
    "    - `turn`: the negotiation turn\n",
    "2. `df_meta`, meta information for each negotiation with the outcome and agent background:\n",
    "    - `gender`: (male, female, other)\n",
    "    - `age`: integer\n",
    "    - `outcome`: integer\n",
    "\n",
    "We are interested in finding out: what makes a good (/bad) negotiator?"
   ]
  },
  {
   "cell_type": "markdown",
   "metadata": {},
   "source": [
    "### Part 1: Coding Questions (29 pt)"
   ]
  },
  {
   "cell_type": "code",
   "execution_count": null,
   "metadata": {},
   "outputs": [],
   "source": [
    "import pandas as pd\n",
    "\n",
    "df_negotiations = pd.read_csv('negotiations.csv')\n",
    "df_negotiations.head()"
   ]
  },
  {
   "cell_type": "code",
   "execution_count": null,
   "metadata": {},
   "outputs": [],
   "source": [
    "df_meta = pd.read_csv('negotiations_meta.csv')\n",
    "df_meta.head()"
   ]
  },
  {
   "cell_type": "markdown",
   "metadata": {},
   "source": [
    "**1.1 (2 pt)**\n",
    "/Discussion:/ We are interested in analyzing negotiation outcomes by analyzing language usage. In order to use TF-IDF to accomplish this, we will treat all turns from one negotiator in a single negotiation as a \"document\". Why would this definition of \"document\" be preferred over the following two alternatives? Give at least one argument per alternative.\n",
    "\n",
    "- A) Each individual turn is a document\n",
    "- B) The entire negotiation dialogue of both negotiators is a document"
   ]
  },
  {
   "cell_type": "markdown",
   "metadata": {},
   "source": [
    "[your answer]"
   ]
  },
  {
   "cell_type": "markdown",
   "metadata": {},
   "source": [
    "**1.2 (3 pt)**\n",
    "\n",
    "[A, 1 pt] Use the negotiation dataset to create a new dataframe called `df_document` with the following columns:\n",
    "- `negotiation_id`\n",
    "- `agent`\n",
    "- `document`\n",
    "\n",
    "Here, document is defined as described in question 1.1. That is: concatonate messages into a single string and split by the special character `\"\\n\"`."
   ]
  },
  {
   "cell_type": "code",
   "execution_count": null,
   "metadata": {},
   "outputs": [],
   "source": []
  },
  {
   "cell_type": "markdown",
   "metadata": {},
   "source": [
    "[B, 2pt] Next, merge this new dataframe with the `df_meta` dataframe. Print the the size and first five rows of the final dataframe"
   ]
  },
  {
   "cell_type": "code",
   "execution_count": null,
   "metadata": {},
   "outputs": [],
   "source": []
  },
  {
   "cell_type": "markdown",
   "metadata": {},
   "source": [
    "**1.3 (7 pt)**\n",
    "We would like to analyze the difference between \"best\" and \"worst\" performers based on `outcome`, top and bottom 10% respectively.\n",
    "\n",
    "[A, 2 pt] Find the top and bottom 10% thresholds for the `outcome` columns and print them."
   ]
  },
  {
   "cell_type": "code",
   "execution_count": null,
   "metadata": {},
   "outputs": [],
   "source": []
  },
  {
   "cell_type": "markdown",
   "metadata": {},
   "source": [
    "[B, 1pt] Create a TF-IDF matrix using the `TfidfVectorizer` form `sklearn`, setting `max_features=100` and `stop_words=\"english\"`. Print the resulting TF-IDF matrix shape."
   ]
  },
  {
   "cell_type": "code",
   "execution_count": null,
   "metadata": {},
   "outputs": [],
   "source": []
  },
  {
   "cell_type": "markdown",
   "metadata": {},
   "source": [
    "[C, 4pt] Use your thresholds and the TF-IDF matrix to print the top 10 terms for each type of negotiatior (i.e., the best and worst performing negotiators from question 1.3.A)."
   ]
  },
  {
   "cell_type": "code",
   "execution_count": null,
   "metadata": {},
   "outputs": [],
   "source": []
  },
  {
   "cell_type": "markdown",
   "metadata": {},
   "source": [
    "**1.4 (8 pt)**\n",
    "You never get a second chance at a first impression! Let's investigate if the same goes for negotiations...\n",
    "\n",
    "[A, 1pt] Create a new df_document that only takes into account the first three (3) turns of each negotiator in a negotiation. Again, merge on the df_meta dataframe and print the resulting size."
   ]
  },
  {
   "cell_type": "code",
   "execution_count": null,
   "metadata": {},
   "outputs": [],
   "source": []
  },
  {
   "cell_type": "markdown",
   "metadata": {},
   "source": [
    "[B, 1pt] Calculate the median negotiation outcome. Then, add a column called success to the df_document dataframe that is 1 if the outcome column is more than the median and 0 otherwise. Print the median outcome."
   ]
  },
  {
   "cell_type": "code",
   "execution_count": null,
   "metadata": {},
   "outputs": [],
   "source": []
  },
  {
   "cell_type": "markdown",
   "metadata": {},
   "source": [
    "[C, 2pt] Create a TF-IDF matrix called `X` based on `df_document` using the following settings:\n",
    "\n",
    "`max_features=100, stop_words=\"english, ngram_range=(1, 2)`\n",
    "\n",
    "Additionally, create a variable `y` that corresponds to the success column. Finally, use `sklearn.model_selection.train_test_split` to split your data into a train and test set using parameters `test_size=0.2` and `random_state=99`.\n",
    "\n",
    "Print the shape of the TF-IDF and the shape of your train and test sets."
   ]
  },
  {
   "cell_type": "code",
   "execution_count": null,
   "metadata": {},
   "outputs": [],
   "source": []
  },
  {
   "cell_type": "markdown",
   "metadata": {},
   "source": [
    "[D, 2pt] Use your prepared data to train a logistic regression model (`sklearn.linear_model.LogisticRegression`). Then, with the trained model predict on the test set and print a classification report (`sklearn.metrics.classification_report`)."
   ]
  },
  {
   "cell_type": "code",
   "execution_count": null,
   "metadata": {},
   "outputs": [],
   "source": []
  },
  {
   "cell_type": "markdown",
   "metadata": {},
   "source": [
    "[E, 2pt] Use the weights of your trained model to show which terms mostly strongly correlate with high and low outcomes. Print the best five terms for each."
   ]
  },
  {
   "cell_type": "code",
   "execution_count": null,
   "metadata": {},
   "outputs": [],
   "source": []
  },
  {
   "cell_type": "markdown",
   "metadata": {},
   "source": [
    "**1.5 (9 pt)**\n",
    "You are concerned about potential “confounding” factors for your results in the previous question. Specifically, you would like to investigate the effect of “gender” on the outcomes.\n",
    "\n",
    "[A, 3pt] Visualize the outcomes stratified by gender using a bar plot with standard deviation around the mean. Make sure you use clear x- and y-axis labels, a title, and a legend."
   ]
  },
  {
   "cell_type": "code",
   "execution_count": null,
   "metadata": {},
   "outputs": [],
   "source": []
  },
  {
   "cell_type": "markdown",
   "metadata": {},
   "source": [
    "[B, 2pt] Perform a T-Test with a confidence interval of 0.95 to check if the outcomes based on gender are statistically significantly different. Print the resulting t-statistic, the p-value, and your interpretation of the result."
   ]
  },
  {
   "cell_type": "code",
   "execution_count": null,
   "metadata": {},
   "outputs": [],
   "source": []
  },
  {
   "cell_type": "markdown",
   "metadata": {},
   "source": [
    "[C, 2pt] Finally, we would like to test if the gender distribution between high and low negotiation performers is significantly different. Please perform a chi-square test on the gender distribution of those negotiators scoring above the median outcome. Use a confidence interval of 0.95 and print the resulting chi-square statistic, p-value, and your interpretation of the result."
   ]
  },
  {
   "cell_type": "code",
   "execution_count": null,
   "metadata": {},
   "outputs": [],
   "source": []
  },
  {
   "cell_type": "markdown",
   "metadata": {},
   "source": [
    "[D, 2pt] /Discuss:/ In addition to the gender attribute, could you think of other measurable factors in this dataset that could be tested as confounders? List at least two more and explain why."
   ]
  },
  {
   "cell_type": "markdown",
   "metadata": {},
   "source": [
    "### Part 2: Insight Questions (15 pt)"
   ]
  },
  {
   "cell_type": "markdown",
   "metadata": {},
   "source": [
    "**2.1 (3pt)**\n",
    "In the context of analyzing negotiation turns, why would TF-IDF be more suitable than simple word frequency counts when trying to identify distinctive communication patterns between successful and unsuccessful negotiations?"
   ]
  },
  {
   "cell_type": "markdown",
   "metadata": {},
   "source": [
    "[your answer]"
   ]
  },
  {
   "cell_type": "markdown",
   "metadata": {},
   "source": [
    "**2.2 (2pt)**\n",
    "How would you modify the standard TF-IDF implementation to account for the temporal nature of negotiation turns? Consider that early turns might be more important for setting the tone of the negotiation than later turns."
   ]
  },
  {
   "cell_type": "markdown",
   "metadata": {},
   "source": [
    "[your answer]"
   ]
  },
  {
   "cell_type": "markdown",
   "metadata": {},
   "source": [
    "**2.3 (3 pt)**\n",
    "In our negotiation dataset, successful negotiators might simply write longer messages. How could this create a misleading interpretation of our TF-IDF results, and what would be a simple way to test for this potential bias?"
   ]
  },
  {
   "cell_type": "markdown",
   "metadata": {},
   "source": [
    "[your answer]"
   ]
  },
  {
   "cell_type": "markdown",
   "metadata": {},
   "source": [
    "**2.4 (3pt)**\n",
    "In our negotiation dataset, consider these two opening messages from different agents:\n",
    "\n",
    "Agent A: \"I propose we split the resources fairly\" Agent B: \"I suggest we divide the assets equitably\"\n",
    "\n",
    "These messages are semantically very similar but use different vocabulary. Explain:\n",
    "\n",
    "- a) How TF-IDF would process these messages differently\n",
    "- b) How word embeddings (like Word2Vec) would handle them\n",
    "- c) Why this distinction matters for negotiation analysis"
   ]
  },
  {
   "cell_type": "markdown",
   "metadata": {},
   "source": [
    "[your answer]"
   ]
  },
  {
   "cell_type": "markdown",
   "metadata": {},
   "source": [
    "**2.5 (4pt)**\n",
    "Staying in the context of negotiations, explain why N-gram models such as bigrams might be more informative than unigrams for predicting negotiation outcomes. Provide two examples of bigrams that would be particularly meaningful in negotiation contexts but would lose their significance if split into unigrams."
   ]
  },
  {
   "cell_type": "markdown",
   "metadata": {},
   "source": [
    "[your answer]"
   ]
  },
  {
   "cell_type": "code",
   "execution_count": null,
   "metadata": {},
   "outputs": [],
   "source": []
  },
  {
   "cell_type": "markdown",
   "metadata": {},
   "source": [
    "## Task 2: Analysis of Co-Author Network (50 pts)"
   ]
  },
  {
   "cell_type": "markdown",
   "metadata": {},
   "source": [
    "\n",
    "In this part, you will analyze a reserach publication dataset derived from \n",
    "[social influence analysis in large-scale networks](https://keg.cs.tsinghua.edu.cn/jietang/publications/KDD09-Tang-et-al-Social-Influence-Analysis.pdf) (the paper itself is irrelevant to this exam, don't waste time reading it).\n",
    "\n",
    "The citation data is extracted from DBLP, ACM, MAG (Microsoft Academic Graph), and other sources. Each paper is associated with abstract, authors, year, venue, and title.\n",
    "\n",
    "Dataset: [citation dataset](https://cn.aminer.org/citation)\n",
    "\n",
    "Paper: [social influence analysis in large-scale networks](https://keg.cs.tsinghua.edu.cn/jietang/publications/KDD09-Tang-et-al-Social-Influence-Analysis.pdf)\n"
   ]
  },
  {
   "cell_type": "markdown",
   "metadata": {},
   "source": [
    "### Download data from the web\n",
    "\n",
    "#### For Linux and MacOS:\n",
    "```bash\n",
    "wget https://lfs.aminer.cn/lab-datasets/citation/citation-network1.zip\n",
    "unzip citation-network1.zip\n",
    "ls -l outputacm.txt\n",
    "```\n",
    "\n",
    "#### For windows we recommend using WSL (Windows Subsystem for Linux) with above commands or directly downloading the file from the browser at \n",
    "https://lfs.aminer.cn/lab-datasets/citation\n",
    "\n"
   ]
  },
  {
   "cell_type": "code",
   "execution_count": 2,
   "metadata": {},
   "outputs": [
    {
     "name": "stdout",
     "output_type": "stream",
     "text": [
      "Dataset loaded with 629814 entries.\n",
      "colums: Index(['title', 'authors', 'year', 'venue', 'references', 'abstract'], dtype='object')\n"
     ]
    }
   ],
   "source": [
    "import numpy as np\n",
    "import pandas as pd\n",
    "import scipy as sp\n",
    "import networkx as nx\n",
    "import matplotlib.pyplot as plt\n",
    "\n",
    "from helper import load_data_as_df\n",
    "\n",
    "\n",
    "# Define the file path\n",
    "file_path = \"outputacm.txt\"\n",
    "\n",
    "# Load the data into a DataFrame\n",
    "df = load_data_as_df(file_path)\n",
    "\n",
    "# check if the index column is the same as the index \n",
    "\n",
    "print(f\"Dataset loaded with {len(df)} entries.\")\n",
    "print(f\"colums: {df.columns}\")"
   ]
  },
  {
   "cell_type": "markdown",
   "metadata": {},
   "source": [
    "**3.1 (6 pts)**: Analyze Papers Published Per Year\n",
    "\n",
    "**Objective:**  \n",
    "Analyze and visualize publication trends to understand how the research field has evolved over time.\n",
    "\n",
    "#### Instructions:\n",
    "1. Group the data by the year of publication and count the number of papers for each year (2 pts).\n",
    "2. Plot a bar chart showing the number of papers published per year from **1990 to 2010**. (2 pts)\n",
    "3. Focus on the pattern between **1996 and 2004**:\n",
    "   - **Discuss:** Describe any notable trends or changes in the number of publications during this period. (2 pts)\n",
    "   - **Bonus:** Hypothesize potential reasons for the observed pattern.  (2 pts)\n",
    "     *Hint: Consider events or trends related to the dataset's focus on computer science.* \n"
   ]
  },
  {
   "cell_type": "code",
   "execution_count": 1,
   "metadata": {},
   "outputs": [],
   "source": [
    "# TODO"
   ]
  },
  {
   "cell_type": "markdown",
   "metadata": {},
   "source": [
    "**3.2 (4 pts)**: Authors Per Paper Analysis\n",
    "\n",
    "With the rise of interdisciplinary research, multi-authored papers are becoming more common. This task will help us understand collaboration dynamics in the academic world.\n",
    "\n",
    "#### Instructions:\n",
    "- Get the number of authors for each paper and calculate the percentage of papers with four or more authors. (2 pts)\n",
    "- Plot a histogram to show the frequency distribution of the number of authors per paper (2 pts)(choose `bins=range(0, 30)` and set y-axis to log scale)."
   ]
  },
  {
   "cell_type": "code",
   "execution_count": 2,
   "metadata": {},
   "outputs": [],
   "source": [
    "# TODO"
   ]
  },
  {
   "cell_type": "markdown",
   "metadata": {},
   "source": [
    "**3.3 (4 pts)**: Temporal Collaboration Trends\n",
    "\n",
    "Collaboration dynamics can change over time. This task will help us understand how collaboration trends have evolved in the academic world.\n",
    "\n",
    "#### Instructions:\n",
    "- Group the data by publication year, calculate the average number of authors per paper for each year, and create a line plot to visualize how it has changed from 1990 to 2010 (1 pt).\n",
    "- **Discuss:** There has been a hypothesis that the number of authors per paper has increased over time. Based on the plot, do you agree with this hypothesis ? (1 pt)\n",
    "- Compute the P-value of the hypothesis that the average number of authors per paper after 2000 is significantly higher than before 2000. (2 pts)"
   ]
  },
  {
   "cell_type": "code",
   "execution_count": null,
   "metadata": {},
   "outputs": [],
   "source": [
    "# TODO"
   ]
  },
  {
   "cell_type": "markdown",
   "metadata": {},
   "source": [
    "**3.4 (6 pts)**: Build a Co-Author Network\n",
    "\n",
    "Co-author networks help us visualize and quantify collaborations in academia. Such networks are critical for identifying influential researchers and their role in fostering connections within their communities. Construct a network where nodes represent authors and edges represent collaborations.\n",
    "\n",
    "#### Instructions:\n",
    "- Create a graph where: (5 pts)\n",
    "  - Nodes: Each node represents a unique author, identified by their name in the authors field of the dataset.\n",
    "  - Edges: There is an edge between two nodes if the corresponding authors have co-authored at least one paper. The weight of the edge represents the number of papers the two authors have co-authored together.\n",
    "- After constructing the network, print the following information: (1 pt)\n",
    "  - The total number of nodes (authors) in the network.\n",
    "  - The total number of edges (collaborations) in the network.\n",
    "\n",
    "Example:\n",
    "\n",
    "For a paper authored by [\"Alice\", \"Bob\", \"Charlie\"], the graph should include:\n",
    "- Nodes: Alice, Bob, Charlie.\n",
    "- Edges: Alice-Bob, Alice-Charlie, Bob-Charlie, each with a weight of 1 (assuming no other collaborations between these pairs).\n"
   ]
  },
  {
   "cell_type": "code",
   "execution_count": null,
   "metadata": {},
   "outputs": [],
   "source": [
    "# TODO"
   ]
  },
  {
   "cell_type": "markdown",
   "metadata": {},
   "source": [
    "**3.5 (4 pts)**: Analyze the Co-Author Network\n",
    "\n",
    "Connected components in a co-author network can reveal isolated research communities or dominant research hubs. Analyzing the largest component helps us understand the core of academic collaboration\n",
    "\n",
    "#### Instructions:\n",
    "- The degree of a node is the number of edges connected to it. In the context of the co-author network, this represents the number of distinct co-authors an author has collaborated with. Compute the average degree of the network (1 pt).\n",
    "- Connectivity of the Network:\n",
    "  - A network is fully connected if there is a path between every pair of nodes. Determine if the co-author network is fully connected (2 pt). (Hint: A single answer is not enough here. You need to use a method to verify the connectivity of the network.)\n",
    "  - Can you tell how many authors are part of the largest connected component? How much does this account for the total number of authors in the network? (2 pt)\n",
    "<!-- - Compute the average clustering coefficient of the network. -->"
   ]
  },
  {
   "cell_type": "code",
   "execution_count": null,
   "metadata": {},
   "outputs": [],
   "source": [
    "# TODO"
   ]
  },
  {
   "cell_type": "markdown",
   "metadata": {},
   "source": [
    "**3.6 (4 pts)**: Top Authors by Collaborations\n",
    "\n",
    "#### Instructions:\n",
    "- Get the degree for all nodes in the network and print the top 10 authors by degree (1 pt) (Note: some entries (e.g., \"II,\" \"III,\" \"Jr.\") may not represent real authors due to data quality issues. Please keep them in the list and don't do any cleaning.)\n",
    "- A high degree  indicates that an author has collaborated with many other authors. However, it does not consider if the collaborations happen multiple times between the same authors. A weighted degree would be a better measure to consider the number of collaborations between authors. Get the top 10 authors by weighted degree. P.S. The weighted degree is the sum of the weights of the edges connected to the node. (1 pt)\n",
    "- Which two authors have the highest number of collaborations? How many papers have they co-authored together? (2 pt)"
   ]
  },
  {
   "cell_type": "code",
   "execution_count": null,
   "metadata": {},
   "outputs": [],
   "source": [
    "# TODO"
   ]
  },
  {
   "cell_type": "markdown",
   "metadata": {},
   "source": [
    "**3.7 (4 pts)**: Analyze the reference/citation information \n",
    "\n",
    "Understanding the citation patterns of papers helps reveal their academic impact and how knowledge propagates through the research community. In this task, you will analyze the reference and citation relationships within the dataset.\n",
    "\n",
    "First, let's create a citation network where:\n",
    "- Nodes: Each node represents a unique paper, identified by its id in the dataset.\n",
    "- Edges: There is an edge from paper A to paper B if paper A cites paper B. \n",
    "\n",
    "\n",
    "#### Instructions:\n",
    "- **Discuss:** Is it reasonable that the citation network contains cycles?  What would a cycle( not self loop) in the citation network represent? (2 pt)\n",
    "- Which paper has the highest number of citations? How many papers cite this paper? (1 pt)\n",
    "- Which paper has the highest number of references? How many papers does this paper cite? (1 pt)\n"
   ]
  },
  {
   "cell_type": "code",
   "execution_count": null,
   "metadata": {},
   "outputs": [],
   "source": [
    "# TODO"
   ]
  },
  {
   "cell_type": "markdown",
   "metadata": {},
   "source": [
    "**3.8 (3 pts)**: Analyze the Citation Distribution \n",
    "\n",
    "The citation distribution of papers can provide insights into the impact of research publications. In this task, you will analyze the citation distribution in the dataset.\n",
    "\n",
    "<!-- - Plot the number of papers having a certain level of citation x (x-axis) against x (y-axis) in a log-log scale. -->\n",
    "- Create a frequency distribution where the x-axis represents the number of citations and the y-axis represents the number of papers that have that number of citations. Plot two scatters plot of the frequency distribution first in a normal scale and second in a log-log scale. (2 pts)\n",
    "- **Discuss**: What does the plot suggest about the citation distribution in the dataset? (1 pt)"
   ]
  },
  {
   "cell_type": "code",
   "execution_count": null,
   "metadata": {},
   "outputs": [],
   "source": [
    "# TODO"
   ]
  },
  {
   "cell_type": "markdown",
   "metadata": {},
   "source": [
    "**3.9 (3 pts)**: Central Tendency of Citation Distribution\n",
    "\n",
    "**Discuss:**: There are different ways to describe the central tendency of a citation distribution., such as mean. Determine the measure you think best represents the dataset and explain your reasoning. (Hint: Consider the distribution of the citation data above)\n"
   ]
  },
  {
   "cell_type": "code",
   "execution_count": null,
   "metadata": {},
   "outputs": [],
   "source": [
    "# TODO"
   ]
  },
  {
   "cell_type": "markdown",
   "metadata": {},
   "source": [
    "**3.10 (2pts)**: Network Centrality Measures\n",
    "\n",
    "PageRank is a measure of influence based on link structure. Applying it to citations allows us to rank papers by their academic importance\n",
    "\n",
    "#### Instructions:\n",
    "- You are tasked with curating the 'Top 10 Influential Papers' from this dataset. Use PageRank to justify your selection and display the top 10 papers titles by page rank. (2 pts)\n",
    "- **bonus**: Identify patterns among the top-ranked papers. (2 pts)\n"
   ]
  },
  {
   "cell_type": "code",
   "execution_count": null,
   "metadata": {},
   "outputs": [],
   "source": [
    "# TODO"
   ]
  },
  {
   "cell_type": "markdown",
   "metadata": {},
   "source": [
    "**3.11 (5 pts)**: Bridge Papers\n",
    "\n",
    "Bridge papers are those that connect different research communities. They are essential for fostering interdisciplinary research and knowledge transfer. \n",
    "\n",
    "#### Instructions: \n",
    "- Build a small citation network that only includes papers published in 2005. (2 pts)\n",
    "- Which measurement can help us identify bridge papers in a citation network?  (2 pt)\n",
    "- Try to find top10 bridge papers in the dataset. By looking at their titles, can you identify the research communities they connect? (Pick 2 papers) (1 pt)\n",
    "\n"
   ]
  },
  {
   "cell_type": "code",
   "execution_count": null,
   "metadata": {},
   "outputs": [],
   "source": [
    "# TODO"
   ]
  },
  {
   "cell_type": "markdown",
   "metadata": {},
   "source": [
    "**3.12 (5 pts)**: Author-Citation Network\n",
    "\n",
    "In the previous tasks, we analyzed the co-author network and paper-citation network. In this task, we will analyze the author-citation network, where:\n",
    "- Nodes: Each node represents a unique author, identified by their name in the authors field of the dataset.\n",
    "- Edges: There is an edge from author A to author B if author A cites a paper authored by author B. \n",
    "- The weight of the edge represents the total number of citations from author A to author B.\n",
    "\n",
    "#### Instructions:\n",
    "- Given that we have a Author-Paper Matrix $A$ where each row represents an paper and each column represents an author. The value in the matrix is 1 if the author has contributed to the paper, 0 otherwise. And we also have a Paper-Paper citation matrix $P$ (square matrix) where the value at coordinates (i, j) is 1 if paper j cites paper i, 0 otherwise.\n",
    "- How can you get a Author-Author citation matrix from the above two matrices by matrix multiplication? (You don't need to implement this, just give the formula) (2 pts)\n",
    "- Author A may have never cited author B, but author A might have cited a few papers which cited works by author B. This can be seen as a 2nd degree citation.  More formally, a 2nd degree citation matrix $C_2$ has at each cell (i, j) the number 2nd degree citations from author i to author j. How can you get a 2nd degree citation matrix from the Author-Paper Matrix $A$ and Paper-Paper citation matrix $P$? (You don't need to implement this, just give the formula) (2 pts)\n",
    "- Can you generalize this to nth degree citation matrix? (1 pt)"
   ]
  },
  {
   "cell_type": "code",
   "execution_count": null,
   "metadata": {},
   "outputs": [],
   "source": [
    "# TODO"
   ]
  }
 ],
 "metadata": {
  "kernelspec": {
   "display_name": "ada_hw2_dryrun",
   "language": "python",
   "name": "python3"
  },
  "language_info": {
   "codemirror_mode": {
    "name": "ipython",
    "version": 3
   },
   "file_extension": ".py",
   "mimetype": "text/x-python",
   "name": "python",
   "nbconvert_exporter": "python",
   "pygments_lexer": "ipython3",
   "version": "3.10.15"
  }
 },
 "nbformat": 4,
 "nbformat_minor": 4
}
