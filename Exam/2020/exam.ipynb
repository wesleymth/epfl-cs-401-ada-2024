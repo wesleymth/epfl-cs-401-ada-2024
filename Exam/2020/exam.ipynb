{
 "cells": [
  {
   "cell_type": "markdown",
   "metadata": {},
   "source": [
    "## Welcome to the first-ever (and hopefully last-ever) remote ADA final exam (Fall 2020)"
   ]
  },
  {
   "cell_type": "markdown",
   "metadata": {},
   "source": [
    "In this exam, you will analyze data from Wikipedia and from the [Wikispeedia](https://dlab.epfl.ch/wikispeedia/play/) game, which you have already encountered in lecture 12 on [“Handling networks”](https://docs.google.com/presentation/d/1h6cIINJ9cNZ-Rtb7SskXrl9Xet5zPUoX2oJlNM0loHQ/edit#slide=id.g464f30ace1_0_92). The rules of the Wikispeedia game are simple:\n",
    "1. Players are given two Wikipedia articles: a *source* and a *target*.\n",
    "2. Starting from the source article, the goal is to reach the target, exclusively by following links in the articles encountered along the path."
   ]
  },
  {
   "cell_type": "markdown",
   "metadata": {},
   "source": [
    "### The data\n",
    "\n",
    "The Wikispeedia data comprises ~76K games by human players, thereby capturing human navigation behavior on a very small subset of English Wikipedia comprising ~4.5K articles with a total of ~120K links between them.\n",
    "\n",
    "The dataset is available in the `data` directory pushed to the same GitHub repo as the exam. Inside the data directory, you will find four files:\n",
    "\n",
    "####  1. `article_df_task-A.tsv.gz`: A tab-separated file with the following information about Wikipedia articles\n",
    "- *name*: The name of the Wikipedia article\n",
    "- *topic*: The top-level topic label for the article (each article is assigned exactly one topic label)\n",
    "- *content*: The cleaned text of the article (having removed punctuations, stopwords, numbers, and letter casing). It is stored as a space-separated string.\n",
    "\n",
    "#### 2. `links_task-B.tsv.gz`: A tab-separated file containing Wikipedia links\n",
    "- *linkSource*: The name of the source Wikipedia article from which the link originates\n",
    "- *linkTarget*: The name of the target Wikipedia article to which the link points\n",
    "\n",
    "#### 3.  `paths_df_task-B.tsv.gz`: A tab-separated file with the following information about the played games\n",
    "- *hashed_ip_address*: Anonymized IP address of the player\n",
    "- *source*: The name of the Wikipedia article from where the game started\n",
    "- *target*: The name of the target article that the player was supposed to reach \n",
    "- *finished*: Whether the game was successfully finished (whether the player reached the target article)\n",
    "- *human_path_length*: The number of clicks made by the player, before they either reached the target (in *finished* games) or gave up (in *unfinished* games)\n",
    "- *shortest_path_length*: The minimum number of clicks required to reach the target article from the source article. Disconnected source-target article pairs have a shortest_path_length of *-1*.\n",
    "- *duration_in_sec*: The duration of the game in seconds\n",
    "\n",
    "#### 4.  `paths_df_task-C.tsv.gz`: In continuation to the task-B paths dataframe, this tab-separated file has the following additional information\n",
    "- *in_degree_target*: In-degree of the target article, that is the number of incoming links that lead to the target article\n",
    "\n",
    "*Note: In all the aforementioned files, the first line contains the header information. Additionally, article names are URL-encoded. For example, 'Antonín_Dvořák' is stored as 'Anton%C3%ADn_Dvo%C5%99%C3%A1k'. If needed, you can decode the article names using this code: `from urllib.parse import unquote; unquote('article-name')`.*"
   ]
  },
  {
   "cell_type": "code",
   "execution_count": 10,
   "metadata": {},
   "outputs": [],
   "source": [
    "''' Some minimalistic imports '''\n",
    "import pandas as pd\n",
    "import random\n",
    "import gzip\n",
    "import operator\n",
    "import time\n",
    "from urllib.parse import unquote\n",
    "\n",
    "import math\n",
    "import numpy as np\n",
    "import scipy.stats as stats\n",
    "import sklearn\n",
    "\n",
    "import networkx as nx\n",
    "\n",
    "from IPython.display import Image\n",
    "%matplotlib inline\n",
    "import matplotlib.pyplot as plt\n",
    "import seaborn as sns"
   ]
  },
  {
   "cell_type": "markdown",
   "metadata": {},
   "source": [
    "# Task A. Can we predict article topic using textual content? (30 points)\n",
    "\n",
    "*Note-1: For the entire Task A, we will use logistic regression for its scalability and simplicity. Specifically, we will use [SGDClassifier](https://scikit-learn.org/stable/modules/generated/sklearn.linear_model.SGDClassifier.html) available in `sklearn` with 'log' loss and '5' epochs for training a logistic regression classifier.*\n",
    "\n",
    "*Note-2: In all the cases where random number generation is required (train-test split, fitting the model, etc.), make sure to use 42 as the random seed.*"
   ]
  },
  {
   "cell_type": "markdown",
   "metadata": {},
   "source": [
    "### A1. Load the text data and analyze the topic distribution (2 points)\n",
    "1. Load `data/article_df_task-A.tsv.gz` as a pandas dataframe.   \n",
    "   *Note: we have already cleaned the text for you!*\n",
    "2. Print the total number of unique topics. Additionally, using a plot of appropriate type, analyze the article topic distribution.   \n",
    "   **/Discuss:/** What do you observe? Are different topics equally likely? If not, is there a large disparity between certain highly popular and very rare topics?"
   ]
  },
  {
   "cell_type": "code",
   "execution_count": 11,
   "metadata": {},
   "outputs": [
    {
     "data": {
      "text/html": [
       "<div>\n",
       "<style scoped>\n",
       "    .dataframe tbody tr th:only-of-type {\n",
       "        vertical-align: middle;\n",
       "    }\n",
       "\n",
       "    .dataframe tbody tr th {\n",
       "        vertical-align: top;\n",
       "    }\n",
       "\n",
       "    .dataframe thead th {\n",
       "        text-align: right;\n",
       "    }\n",
       "</style>\n",
       "<table border=\"1\" class=\"dataframe\">\n",
       "  <thead>\n",
       "    <tr style=\"text-align: right;\">\n",
       "      <th></th>\n",
       "      <th>name</th>\n",
       "      <th>topic</th>\n",
       "      <th>content</th>\n",
       "    </tr>\n",
       "  </thead>\n",
       "  <tbody>\n",
       "    <tr>\n",
       "      <th>0</th>\n",
       "      <td>Áedán_mac_Gabráin</td>\n",
       "      <td>People</td>\n",
       "      <td>copyright aedan mac gabrain schools wikipedia ...</td>\n",
       "    </tr>\n",
       "    <tr>\n",
       "      <th>1</th>\n",
       "      <td>Åland</td>\n",
       "      <td>Geography</td>\n",
       "      <td>copyright aland schools wikipedia selection re...</td>\n",
       "    </tr>\n",
       "    <tr>\n",
       "      <th>2</th>\n",
       "      <td>Édouard_Manet</td>\n",
       "      <td>People</td>\n",
       "      <td>copyright edouard manet schools wikipedia sele...</td>\n",
       "    </tr>\n",
       "    <tr>\n",
       "      <th>3</th>\n",
       "      <td>Éire</td>\n",
       "      <td>Geography</td>\n",
       "      <td>copyright eire schools wikipedia selection rel...</td>\n",
       "    </tr>\n",
       "    <tr>\n",
       "      <th>4</th>\n",
       "      <td>Óengus_I_of_the_Picts</td>\n",
       "      <td>People</td>\n",
       "      <td>copyright oengus picts schools wikipedia selec...</td>\n",
       "    </tr>\n",
       "    <tr>\n",
       "      <th>...</th>\n",
       "      <td>...</td>\n",
       "      <td>...</td>\n",
       "      <td>...</td>\n",
       "    </tr>\n",
       "    <tr>\n",
       "      <th>4593</th>\n",
       "      <td>Zionism</td>\n",
       "      <td>People</td>\n",
       "      <td>copyright zionism schools wikipedia selection ...</td>\n",
       "    </tr>\n",
       "    <tr>\n",
       "      <th>4594</th>\n",
       "      <td>Zirconium</td>\n",
       "      <td>Science</td>\n",
       "      <td>copyright zirconium schools wikipedia selectio...</td>\n",
       "    </tr>\n",
       "    <tr>\n",
       "      <th>4595</th>\n",
       "      <td>Zoroaster</td>\n",
       "      <td>People</td>\n",
       "      <td>copyright zoroaster schools wikipedia selectio...</td>\n",
       "    </tr>\n",
       "    <tr>\n",
       "      <th>4596</th>\n",
       "      <td>Zuid-Gelders</td>\n",
       "      <td>Geography</td>\n",
       "      <td>copyright zuid gelders schools wikipedia selec...</td>\n",
       "    </tr>\n",
       "    <tr>\n",
       "      <th>4597</th>\n",
       "      <td>Zulu</td>\n",
       "      <td>Geography</td>\n",
       "      <td>copyright zulu schools wikipedia selection rel...</td>\n",
       "    </tr>\n",
       "  </tbody>\n",
       "</table>\n",
       "<p>4598 rows × 3 columns</p>\n",
       "</div>"
      ],
      "text/plain": [
       "                       name      topic  \\\n",
       "0         Áedán_mac_Gabráin     People   \n",
       "1                     Åland  Geography   \n",
       "2             Édouard_Manet     People   \n",
       "3                      Éire  Geography   \n",
       "4     Óengus_I_of_the_Picts     People   \n",
       "...                     ...        ...   \n",
       "4593                Zionism     People   \n",
       "4594              Zirconium    Science   \n",
       "4595              Zoroaster     People   \n",
       "4596           Zuid-Gelders  Geography   \n",
       "4597                   Zulu  Geography   \n",
       "\n",
       "                                                content  \n",
       "0     copyright aedan mac gabrain schools wikipedia ...  \n",
       "1     copyright aland schools wikipedia selection re...  \n",
       "2     copyright edouard manet schools wikipedia sele...  \n",
       "3     copyright eire schools wikipedia selection rel...  \n",
       "4     copyright oengus picts schools wikipedia selec...  \n",
       "...                                                 ...  \n",
       "4593  copyright zionism schools wikipedia selection ...  \n",
       "4594  copyright zirconium schools wikipedia selectio...  \n",
       "4595  copyright zoroaster schools wikipedia selectio...  \n",
       "4596  copyright zuid gelders schools wikipedia selec...  \n",
       "4597  copyright zulu schools wikipedia selection rel...  \n",
       "\n",
       "[4598 rows x 3 columns]"
      ]
     },
     "execution_count": 11,
     "metadata": {},
     "output_type": "execute_result"
    }
   ],
   "source": [
    "'''your code here''';\n",
    "from urllib.parse import unquote\n",
    "\n",
    "article_df_task_A = pd.read_csv(\"./data/article_df_task-A.tsv.gz\", sep=\"\\t\")\n",
    "article_df_task_A[\"name\"] = article_df_task_A[\"name\"].apply(unquote)\n",
    "article_df_task_A"
   ]
  },
  {
   "cell_type": "code",
   "execution_count": 12,
   "metadata": {},
   "outputs": [
    {
     "data": {
      "text/plain": [
       "topic\n",
       "Science                    1105\n",
       "Geography                  1058\n",
       "People                      673\n",
       "History                     434\n",
       "Everyday_life               310\n",
       "Design_and_Technology       210\n",
       "Citizenship                 196\n",
       "Language_and_literature     175\n",
       "Religion                    114\n",
       "Music                        96\n",
       "Business_Studies             76\n",
       "IT                           75\n",
       "Mathematics                  43\n",
       "Art                          33\n",
       "Name: count, dtype: int64"
      ]
     },
     "execution_count": 12,
     "metadata": {},
     "output_type": "execute_result"
    }
   ],
   "source": [
    "article_df_task_A[\"topic\"].value_counts()"
   ]
  },
  {
   "cell_type": "code",
   "execution_count": 13,
   "metadata": {},
   "outputs": [
    {
     "data": {
      "image/png": "[encoded data removed]",
      "text/plain": [
       "<Figure size 640x480 with 1 Axes>"
      ]
     },
     "metadata": {},
     "output_type": "display_data"
    }
   ],
   "source": [
    "ax = sns.countplot(article_df_task_A, y=\"topic\", order=article_df_task_A[\"topic\"].value_counts().index)\n",
    "ax.set_xscale(\"log\")"
   ]
  },
  {
   "cell_type": "markdown",
   "metadata": {},
   "source": [
    "<div class=\"alert alert-block alert-info\">\n",
    "\n",
    "**/Discuss:/** What do you observe? Are different topics equally likely? If not, is there a large disparity between certain highly popular and very rare topics?\n",
    "\n",
    "Yes there is a disparity, science is a very highly popular whereas art is not.\n",
    "\n",
    "</div>"
   ]
  },
  {
   "cell_type": "markdown",
   "metadata": {},
   "source": [
    "### A2. Topic classification (multi-class): Articles from 5 most frequent topics (8 points)\n",
    "\n",
    "#### A2.1 Prepping the data for ML (3 points)\n",
    "1. Restrict the data to articles corresponding to the top-5 topics based on topic frequency.\n",
    "2. Construct a TF-IDF representation of textual content.\n",
    "3. Classes are defined by the topic labels, which are given as *strings*. However, for training classifiers via `sklearn` the class labels need to be encoded as ordinals. Perform this encoding and add a new column of ordinal class labels in the current dataframe.\n",
    "4. Create two numpy arrays: X (TF-IDF representation of each article) and y (class-label of each article).\n",
    "\n",
    "#### A2.2 Train and evaluate a multi-class classifier (5 points)\n",
    "1. Perform a train-test split with 70% as the training portion and the remainder as the testing portion. Use `random_state=42` for fixing the seed to 42.\n",
    "2. Train a logistic regression classifier with L2 regularization using the `SGDClassifier()` method of `sklearn`. Use `SGDClassifier(loss='log', max_iter=5, tol=None, alpha=1e-4, random_state=42)` to initialize the classifier object. Do not modify the settings for any other parameter, let them be set to their default values.   \n",
    "   **Important heads-up**: *Depending on the configuration of your computer, training the model could take up to 1 minute of compute time.*\n",
    "3. Report the classifier performance on the test data using accuracy as the metric.\n",
    "4. **/Discuss:/** Are you satisfied with the model performance? Qualitatively discuss the performance of the model by comparing it to a random baseline and justify your response.\n",
    "\n",
    "**Important note:** *Based on the discussion in the class, logistic regression is a binary classification technique. A simple heuristic to perform multi-class classification using a binary classifier is to use the [one-vs.-rest (OVR)](https://en.wikipedia.org/wiki/Multiclass_classification#One-vs.-rest) strategy. In this strategy, a binary classifier is trained for each class with the capability to differentiate it from all the other classes, and thus, $k$ binary classifiers are trained for a $k$-class classification. Internally, `SGDClassifier()` uses the [OVR](https://scikit-learn.org/stable/modules/generated/sklearn.multiclass.OneVsRestClassifier.html) strategy of `sklearn` whenever it sees the number of unique values in the **y** vector to be greater than 2. Thus, you can simply use it as a black-box! The only important point for this part is to make sure that the **y** vector of class-labels should have **5** unique values, one corresponding to each class-label.*"
   ]
  },
  {
   "cell_type": "code",
   "execution_count": 14,
   "metadata": {},
   "outputs": [],
   "source": [
    "'''your answer/code here''';\n",
    "from sklearn.feature_extraction.text import TfidfVectorizer\n",
    "from sklearn.preprocessing import LabelEncoder\n",
    "\n",
    "top_5_topics = article_df_task_A[\"topic\"].value_counts().index[:5]\n",
    "\n",
    "article_df_task_A_2 = article_df_task_A[article_df_task_A[\"topic\"].isin(top_5_topics)]\n",
    "\n",
    "vectorizer_A2 = TfidfVectorizer()\n",
    "X_A2 = vectorizer_A2.fit_transform(article_df_task_A_2[\"content\"])\n",
    "\n",
    "encoder_A2 = LabelEncoder()\n",
    "y_A2 = encoder_A2.fit_transform(article_df_task_A_2[\"topic\"])"
   ]
  },
  {
   "cell_type": "code",
   "execution_count": 16,
   "metadata": {},
   "outputs": [],
   "source": [
    "from sklearn.model_selection import train_test_split\n",
    "\n",
    "X_train_A2, X_test_A2, y_train_A2, y_test_A2 = train_test_split(X_A2, y_A2, train_size=0.7, random_state=42, stratify=y_A2)"
   ]
  },
  {
   "cell_type": "code",
   "execution_count": 17,
   "metadata": {},
   "outputs": [
    {
     "data": {
      "text/plain": [
       "0.866852886405959"
      ]
     },
     "execution_count": 17,
     "metadata": {},
     "output_type": "execute_result"
    }
   ],
   "source": [
    "from sklearn.linear_model import SGDClassifier\n",
    "clf_A2 = SGDClassifier(loss='log_loss', max_iter=5, tol=None, alpha=1e-4, random_state=42)\n",
    "clf_A2.fit(X_train_A2, y_train_A2)\n",
    "clf_A2.score(X_test_A2, y_test_A2)"
   ]
  },
  {
   "cell_type": "code",
   "execution_count": 18,
   "metadata": {},
   "outputs": [
    {
     "data": {
      "text/plain": [
       "(array([0, 1, 2, 3, 4]), array([ 93, 317, 130, 202, 332]))"
      ]
     },
     "execution_count": 18,
     "metadata": {},
     "output_type": "execute_result"
    }
   ],
   "source": [
    "np.unique(y_test_A2, return_counts=True)"
   ]
  },
  {
   "cell_type": "code",
   "execution_count": 19,
   "metadata": {},
   "outputs": [
    {
     "data": {
      "text/plain": [
       "0.3091247672253259"
      ]
     },
     "execution_count": 19,
     "metadata": {},
     "output_type": "execute_result"
    }
   ],
   "source": [
    "np.mean(y_test_A2 == 4)"
   ]
  },
  {
   "cell_type": "markdown",
   "metadata": {},
   "source": [
    "<div class=\"alert alert-block alert-info\">\n",
    "\n",
    "We are satisfied with this accuracy because we have 5 classes, chance level accuracy would get around 20%. If we were to simply vote the most frequent class i.e. class 4 we would get around 30% of accuracy. Therefore 86% is quite good.\n",
    "\n",
    "</div>"
   ]
  },
  {
   "cell_type": "markdown",
   "metadata": {},
   "source": [
    "### A3. Topic classification (binary): Articles from the most and least frequent topics (12 points)\n",
    "\n",
    "#### A3.1 Train and evaluate a binary classifier (2 points)\n",
    "1. Restrict the data to articles belonging to the most frequent or to the least frequent topic.\n",
    "2. Create two numpy arrays: X (TF-IDF representation of each article) and y (class-label of each article).\n",
    "3. Perform a train-test split with 70% as the training portion and the remainder as the testing portion. Use `random_state=42` for fixing the seed to 42.\n",
    "4. Train a logistic regression classifier with L2 regularization using the `SGDClassifier()` method of `sklearn`. Use `SGDClassifier(loss='log', max_iter=5, tol=None, alpha=1e-4, random_state=42)` to initialize the classifier object. Do not modify the settings for any other parameter, let them be set to their default values.\n",
    "5. Report the classifier performance on the test data using accuracy as the metric."
   ]
  },
  {
   "cell_type": "code",
   "execution_count": 20,
   "metadata": {},
   "outputs": [],
   "source": [
    "'''your answer/code here''';\n",
    "most_and_least_freq_topic = article_df_task_A[\"topic\"].value_counts().index[[0, -1]]\n",
    "\n",
    "article_df_task_A_3 = article_df_task_A[article_df_task_A[\"topic\"].isin(most_and_least_freq_topic)]\n",
    "\n",
    "vectorizer = TfidfVectorizer()\n",
    "X = vectorizer.fit_transform(article_df_task_A_3[\"content\"])\n",
    "\n",
    "encoder = LabelEncoder()\n",
    "y = encoder.fit_transform(article_df_task_A_3[\"topic\"])"
   ]
  },
  {
   "cell_type": "code",
   "execution_count": 21,
   "metadata": {},
   "outputs": [],
   "source": [
    "from sklearn.model_selection import train_test_split\n",
    "\n",
    "X_train, X_test, y_train, y_test = train_test_split(X, y, train_size=0.7, random_state=42, stratify=y)"
   ]
  },
  {
   "cell_type": "code",
   "execution_count": null,
   "metadata": {},
   "outputs": [
    {
     "data": {
      "text/plain": [
       "0.97953216374269"
      ]
     },
     "execution_count": 22,
     "metadata": {},
     "output_type": "execute_result"
    }
   ],
   "source": [
    "from sklearn.linear_model import SGDClassifier\n",
    "clf = SGDClassifier(loss='log_loss', max_iter=5, tol=None, alpha=1e-4, random_state=42)\n",
    "clf.fit(X_train, y_train)\n",
    "clf.score(X_test, y_test)"
   ]
  },
  {
   "cell_type": "markdown",
   "metadata": {},
   "source": [
    "#### A3.2 Assessing the evaluation metric (5 points)\n",
    "1. **/Discuss:/** What is your take on the accuracy obtained in A3.1? Do you think accuracy is the correct evaluation metric for this task? If yes, justify! If not, why not, and what else can be used?\n",
    "2. If you included additional evaluation metrics in A3.2.1, then perform an empirical analysis of the performance using these metrics.   \n",
    "   **/Discuss:/** Additionally, discuss what you observe. Is it harder to predict the topic labels of certain articles? Why, or why not? Please elaborate!"
   ]
  },
  {
   "cell_type": "code",
   "execution_count": 23,
   "metadata": {},
   "outputs": [
    {
     "data": {
      "text/plain": [
       "(array([0, 1]), array([ 10, 332]))"
      ]
     },
     "execution_count": 23,
     "metadata": {},
     "output_type": "execute_result"
    }
   ],
   "source": [
    "'''your answer/code here''';\n",
    "np.unique(y_test, return_counts=True)"
   ]
  },
  {
   "cell_type": "code",
   "execution_count": 24,
   "metadata": {},
   "outputs": [
    {
     "data": {
      "text/plain": [
       "0.4615384615384615"
      ]
     },
     "execution_count": 24,
     "metadata": {},
     "output_type": "execute_result"
    }
   ],
   "source": [
    "from sklearn.metrics import f1_score\n",
    "\n",
    "y_test_pred = clf.predict(X_test)\n",
    "f1_score(y_test, y_test_pred, pos_label=0)"
   ]
  },
  {
   "cell_type": "markdown",
   "metadata": {},
   "source": [
    "<div class=\"alert alert-block alert-info\">\n",
    "\n",
    "Classes are imbalenced therefore F1 score may be a better metric.\n",
    "Indeed we see that we obtain an F1 score of 46% when trying to predict wether the topic is `Art`\n",
    "\n",
    "</div>"
   ]
  },
  {
   "cell_type": "markdown",
   "metadata": {},
   "source": [
    "#### A3.3 Class proportions (5 points)\n",
    "1. **/Discuss:/** Does the disparity in class proportions hurt the model? If yes, how can you fix it? If not, why not? Justify your response with clear and crisp reasons!    \n",
    "   *Hint: The learning objective of a classifier can be modified by altering the importance of each class in the computation of the loss function.*\n",
    "2. If your answer to the aforementioned question is a \"yes\", please do the following. If not, move to **Task A4**.\n",
    "    * Implement the fix you proposed in A3.3.1, and repeat the classification task performed in Step A3.1 using the fixed model.\n",
    "    * Vary the regularization parameter `alpha` in the range [1e-6, 1e-5, 1e-4, 1e-3, 1e-2, 1e-1], and using accuracy as the metric find and report its optimal value using 5-fold cross validation on the training set.   \n",
    "       **Important heads-up**: *Depending on the configuration of your computer, grid search for the optimal value of `alpha` could take up to 1 minute of compute time.*\n",
    "    * Lastly, using the optimal `alpha` identified in the previous step, redo the evaluations proposed in A3.2.   \n",
    "       **/Discuss:/** Do you observe any differences from the results obtained in A3.2? Why, or why not? Please elaborate!"
   ]
  },
  {
   "cell_type": "markdown",
   "metadata": {},
   "source": [
    "<div class=\"alert alert-block alert-info\">\n",
    "\n",
    "Yes the disparity of class proportions is hurting the model in learning significant features simply because it favors the dominant class. Therefore we can add class weights to the learning algorithm in order to balance the loss value, such that both classes are favoured equally.\n",
    "\n",
    "</div>"
   ]
  },
  {
   "cell_type": "code",
   "execution_count": 112,
   "metadata": {},
   "outputs": [
    {
     "data": {
      "text/plain": [
       "0.9912280701754386"
      ]
     },
     "execution_count": 112,
     "metadata": {},
     "output_type": "execute_result"
    }
   ],
   "source": [
    "'''your answer/code here''';\n",
    "clf = SGDClassifier(loss='log_loss', max_iter=5, tol=None, alpha=1e-4, random_state=42, class_weight=\"balanced\")\n",
    "clf.fit(X_train, y_train)\n",
    "clf.score(X_test, y_test)"
   ]
  },
  {
   "cell_type": "code",
   "execution_count": 113,
   "metadata": {},
   "outputs": [
    {
     "data": {
      "text/plain": [
       "0.8235294117647058"
      ]
     },
     "execution_count": 113,
     "metadata": {},
     "output_type": "execute_result"
    }
   ],
   "source": [
    "y_test_pred = clf.predict(X_test)\n",
    "f1_score(y_test, y_test_pred, pos_label=0)"
   ]
  },
  {
   "cell_type": "code",
   "execution_count": 114,
   "metadata": {},
   "outputs": [
    {
     "data": {
      "text/html": [
       "<style>#sk-container-id-3 {color: black;}#sk-container-id-3 pre{padding: 0;}#sk-container-id-3 div.sk-toggleable {background-color: white;}#sk-container-id-3 label.sk-toggleable__label {cursor: pointer;display: block;width: 100%;margin-bottom: 0;padding: 0.3em;box-sizing: border-box;text-align: center;}#sk-container-id-3 label.sk-toggleable__label-arrow:before {content: \"▸\";float: left;margin-right: 0.25em;color: #696969;}#sk-container-id-3 label.sk-toggleable__label-arrow:hover:before {color: black;}#sk-container-id-3 div.sk-estimator:hover label.sk-toggleable__label-arrow:before {color: black;}#sk-container-id-3 div.sk-toggleable__content {max-height: 0;max-width: 0;overflow: hidden;text-align: left;background-color: #f0f8ff;}#sk-container-id-3 div.sk-toggleable__content pre {margin: 0.2em;color: black;border-radius: 0.25em;background-color: #f0f8ff;}#sk-container-id-3 input.sk-toggleable__control:checked~div.sk-toggleable__content {max-height: 200px;max-width: 100%;overflow: auto;}#sk-container-id-3 input.sk-toggleable__control:checked~label.sk-toggleable__label-arrow:before {content: \"▾\";}#sk-container-id-3 div.sk-estimator input.sk-toggleable__control:checked~label.sk-toggleable__label {background-color: #d4ebff;}#sk-container-id-3 div.sk-label input.sk-toggleable__control:checked~label.sk-toggleable__label {background-color: #d4ebff;}#sk-container-id-3 input.sk-hidden--visually {border: 0;clip: rect(1px 1px 1px 1px);clip: rect(1px, 1px, 1px, 1px);height: 1px;margin: -1px;overflow: hidden;padding: 0;position: absolute;width: 1px;}#sk-container-id-3 div.sk-estimator {font-family: monospace;background-color: #f0f8ff;border: 1px dotted black;border-radius: 0.25em;box-sizing: border-box;margin-bottom: 0.5em;}#sk-container-id-3 div.sk-estimator:hover {background-color: #d4ebff;}#sk-container-id-3 div.sk-parallel-item::after {content: \"\";width: 100%;border-bottom: 1px solid gray;flex-grow: 1;}#sk-container-id-3 div.sk-label:hover label.sk-toggleable__label {background-color: #d4ebff;}#sk-container-id-3 div.sk-serial::before {content: \"\";position: absolute;border-left: 1px solid gray;box-sizing: border-box;top: 0;bottom: 0;left: 50%;z-index: 0;}#sk-container-id-3 div.sk-serial {display: flex;flex-direction: column;align-items: center;background-color: white;padding-right: 0.2em;padding-left: 0.2em;position: relative;}#sk-container-id-3 div.sk-item {position: relative;z-index: 1;}#sk-container-id-3 div.sk-parallel {display: flex;align-items: stretch;justify-content: center;background-color: white;position: relative;}#sk-container-id-3 div.sk-item::before, #sk-container-id-3 div.sk-parallel-item::before {content: \"\";position: absolute;border-left: 1px solid gray;box-sizing: border-box;top: 0;bottom: 0;left: 50%;z-index: -1;}#sk-container-id-3 div.sk-parallel-item {display: flex;flex-direction: column;z-index: 1;position: relative;background-color: white;}#sk-container-id-3 div.sk-parallel-item:first-child::after {align-self: flex-end;width: 50%;}#sk-container-id-3 div.sk-parallel-item:last-child::after {align-self: flex-start;width: 50%;}#sk-container-id-3 div.sk-parallel-item:only-child::after {width: 0;}#sk-container-id-3 div.sk-dashed-wrapped {border: 1px dashed gray;margin: 0 0.4em 0.5em 0.4em;box-sizing: border-box;padding-bottom: 0.4em;background-color: white;}#sk-container-id-3 div.sk-label label {font-family: monospace;font-weight: bold;display: inline-block;line-height: 1.2em;}#sk-container-id-3 div.sk-label-container {text-align: center;}#sk-container-id-3 div.sk-container {/* jupyter's `normalize.less` sets `[hidden] { display: none; }` but bootstrap.min.css set `[hidden] { display: none !important; }` so we also need the `!important` here to be able to override the default hidden behavior on the sphinx rendered scikit-learn.org. See: https://github.com/scikit-learn/scikit-learn/issues/21755 */display: inline-block !important;position: relative;}#sk-container-id-3 div.sk-text-repr-fallback {display: none;}</style><div id=\"sk-container-id-3\" class=\"sk-top-container\"><div class=\"sk-text-repr-fallback\"><pre>GridSearchCV(cv=StratifiedKFold(n_splits=5, random_state=None, shuffle=False),\n",
       "             estimator=SGDClassifier(class_weight=&#x27;balanced&#x27;, loss=&#x27;log_loss&#x27;,\n",
       "                                     max_iter=5, random_state=42, tol=None),\n",
       "             param_grid={&#x27;alpha&#x27;: [1e-06, 1e-05, 0.0001, 0.001, 0.01, 0.1]},\n",
       "             scoring=&#x27;f1&#x27;)</pre><b>In a Jupyter environment, please rerun this cell to show the HTML representation or trust the notebook. <br />On GitHub, the HTML representation is unable to render, please try loading this page with nbviewer.org.</b></div><div class=\"sk-container\" hidden><div class=\"sk-item sk-dashed-wrapped\"><div class=\"sk-label-container\"><div class=\"sk-label sk-toggleable\"><input class=\"sk-toggleable__control sk-hidden--visually\" id=\"sk-estimator-id-7\" type=\"checkbox\" ><label for=\"sk-estimator-id-7\" class=\"sk-toggleable__label sk-toggleable__label-arrow\">GridSearchCV</label><div class=\"sk-toggleable__content\"><pre>GridSearchCV(cv=StratifiedKFold(n_splits=5, random_state=None, shuffle=False),\n",
       "             estimator=SGDClassifier(class_weight=&#x27;balanced&#x27;, loss=&#x27;log_loss&#x27;,\n",
       "                                     max_iter=5, random_state=42, tol=None),\n",
       "             param_grid={&#x27;alpha&#x27;: [1e-06, 1e-05, 0.0001, 0.001, 0.01, 0.1]},\n",
       "             scoring=&#x27;f1&#x27;)</pre></div></div></div><div class=\"sk-parallel\"><div class=\"sk-parallel-item\"><div class=\"sk-item\"><div class=\"sk-label-container\"><div class=\"sk-label sk-toggleable\"><input class=\"sk-toggleable__control sk-hidden--visually\" id=\"sk-estimator-id-8\" type=\"checkbox\" ><label for=\"sk-estimator-id-8\" class=\"sk-toggleable__label sk-toggleable__label-arrow\">estimator: SGDClassifier</label><div class=\"sk-toggleable__content\"><pre>SGDClassifier(class_weight=&#x27;balanced&#x27;, loss=&#x27;log_loss&#x27;, max_iter=5,\n",
       "              random_state=42, tol=None)</pre></div></div></div><div class=\"sk-serial\"><div class=\"sk-item\"><div class=\"sk-estimator sk-toggleable\"><input class=\"sk-toggleable__control sk-hidden--visually\" id=\"sk-estimator-id-9\" type=\"checkbox\" ><label for=\"sk-estimator-id-9\" class=\"sk-toggleable__label sk-toggleable__label-arrow\">SGDClassifier</label><div class=\"sk-toggleable__content\"><pre>SGDClassifier(class_weight=&#x27;balanced&#x27;, loss=&#x27;log_loss&#x27;, max_iter=5,\n",
       "              random_state=42, tol=None)</pre></div></div></div></div></div></div></div></div></div></div>"
      ],
      "text/plain": [
       "GridSearchCV(cv=StratifiedKFold(n_splits=5, random_state=None, shuffle=False),\n",
       "             estimator=SGDClassifier(class_weight='balanced', loss='log_loss',\n",
       "                                     max_iter=5, random_state=42, tol=None),\n",
       "             param_grid={'alpha': [1e-06, 1e-05, 0.0001, 0.001, 0.01, 0.1]},\n",
       "             scoring='f1')"
      ]
     },
     "execution_count": 114,
     "metadata": {},
     "output_type": "execute_result"
    }
   ],
   "source": [
    "from sklearn.model_selection import GridSearchCV, StratifiedKFold\n",
    "\n",
    "\n",
    "clf = SGDClassifier(loss='log_loss', max_iter=5, tol=None, alpha=1e-4, random_state=42, class_weight=\"balanced\")\n",
    "gs = GridSearchCV(clf, param_grid={\"alpha\":[1e-6, 1e-5, 1e-4, 1e-3, 1e-2, 1e-1]}, cv=StratifiedKFold(n_splits=5), scoring=\"f1\")\n",
    "gs.fit(X_train, y_train)\n",
    "gs"
   ]
  },
  {
   "cell_type": "code",
   "execution_count": 115,
   "metadata": {},
   "outputs": [
    {
     "data": {
      "text/plain": [
       "{'alpha': 0.01}"
      ]
     },
     "execution_count": 115,
     "metadata": {},
     "output_type": "execute_result"
    }
   ],
   "source": [
    "gs.best_params_"
   ]
  },
  {
   "cell_type": "code",
   "execution_count": 116,
   "metadata": {},
   "outputs": [
    {
     "data": {
      "text/plain": [
       "0.996996996996997"
      ]
     },
     "execution_count": 116,
     "metadata": {},
     "output_type": "execute_result"
    }
   ],
   "source": [
    "gs.score(X_test, y_test)"
   ]
  },
  {
   "cell_type": "code",
   "execution_count": 117,
   "metadata": {},
   "outputs": [
    {
     "data": {
      "text/plain": [
       "0.888888888888889"
      ]
     },
     "execution_count": 117,
     "metadata": {},
     "output_type": "execute_result"
    }
   ],
   "source": [
    "y_test_pred = gs.predict(X_test)\n",
    "f1_score(y_test, y_test_pred, pos_label=0)"
   ]
  },
  {
   "cell_type": "code",
   "execution_count": 118,
   "metadata": {},
   "outputs": [
    {
     "name": "stdout",
     "output_type": "stream",
     "text": [
      "              precision    recall  f1-score   support\n",
      "\n",
      "           0       1.00      0.80      0.89        10\n",
      "           1       0.99      1.00      1.00       332\n",
      "\n",
      "    accuracy                           0.99       342\n",
      "   macro avg       1.00      0.90      0.94       342\n",
      "weighted avg       0.99      0.99      0.99       342\n",
      "\n"
     ]
    }
   ],
   "source": [
    "from sklearn.metrics import classification_report\n",
    "\n",
    "print(classification_report(y_test, y_test_pred))"
   ]
  },
  {
   "cell_type": "markdown",
   "metadata": {},
   "source": [
    "<div class=\"alert alert-block alert-info\">\n",
    "\n",
    "Yes we see an increase is the f1 score. Prior to hyper parameter tuning we see that our model is already able to better discern the minority `Art` class. Afetr hyper parameter tuning we see a moderate increase of 2% in the F1 score.\n",
    "\n",
    "</div>"
   ]
  },
  {
   "cell_type": "markdown",
   "metadata": {},
   "source": [
    "### A4. Revisiting Multi-class classifier of A2.2 (4 points)\n",
    "\n",
    "1. Print and analyze the confusion matrix for the multi-class model trained in A2.2. **/Discuss:/** What do you observe? Please elaborate!\n",
    "2. **/Discuss:/** Similar to A3.3, does the disparity in class proportions hurt the model? If yes, how can you fix it? If not, why not? Justify your response with clear and crisp reasons!\n",
    "3. If your answer to the aforementioned question is a \"yes\", please do the following. If not, move to **Task A5**.\n",
    "    * Implement the fix you proposed in A4.2, and repeat the classification task performed in Step A2.2 using the fixed model.\n",
    "    * Vary the regularization parameter `alpha` in the range [1e-6, 1e-5, 1e-4, 1e-3], and using accuracy as the metric find and report its optimal value using 5-fold cross validation on the training set.   \n",
    "       **Important heads-up**: *Depending on the configuration of your computer, grid search for the optimal value of `alpha` could take up to 2 minutes of compute time.*\n",
    "    * Lastly, using the optimal `alpha` identified in the previous step, obtain the accuracy and confusion matrix.\n",
    "4. **/Discuss:/** Contrast the confusion matrix obtained in A4.1 with the one obtained in A4.3. Do you observe any differences? Why, or why not? Please elaborate!"
   ]
  },
  {
   "cell_type": "code",
   "execution_count": 121,
   "metadata": {
    "scrolled": true
   },
   "outputs": [
    {
     "data": {
      "image/png": "[encoded data removed]",
      "text/plain": [
       "<Figure size 640x480 with 2 Axes>"
      ]
     },
     "metadata": {},
     "output_type": "display_data"
    }
   ],
   "source": [
    "'''your answer/code here''';\n",
    "from sklearn.metrics import confusion_matrix\n",
    "\n",
    "y_test_pred_A2 = clf_A2.predict(X_test_A2)\n",
    "\n",
    "cfs_mat = pd.DataFrame(\n",
    "    confusion_matrix(y_test_A2, y_test_pred_A2),\n",
    "    columns=encoder_A2.classes_,\n",
    "    index=encoder_A2.classes_,\n",
    ")\n",
    "ax = sns.heatmap(cfs_mat, annot=True)\n",
    "ax.set_ylabel(\"Ground Truth\")\n",
    "ax.set_xlabel(\"Predicted\")\n",
    "plt.tight_layout()\n",
    "plt.show()"
   ]
  },
  {
   "cell_type": "code",
   "execution_count": 122,
   "metadata": {},
   "outputs": [
    {
     "name": "stdout",
     "output_type": "stream",
     "text": [
      "              precision    recall  f1-score   support\n",
      "\n",
      "           0       0.96      0.58      0.72        93\n",
      "           1       0.93      0.91      0.92       317\n",
      "           2       0.85      0.56      0.68       130\n",
      "           3       0.79      0.92      0.85       202\n",
      "           4       0.86      0.99      0.92       332\n",
      "\n",
      "    accuracy                           0.87      1074\n",
      "   macro avg       0.88      0.79      0.82      1074\n",
      "weighted avg       0.87      0.87      0.86      1074\n",
      "\n"
     ]
    }
   ],
   "source": [
    "print(classification_report(y_test_A2, y_test_pred_A2))"
   ]
  },
  {
   "cell_type": "markdown",
   "metadata": {},
   "source": [
    "<div class=\"alert alert-block alert-info\">\n",
    "\n",
    "We can see that some the classes which are large are often missclassified ...\n",
    "\n",
    "</div>"
   ]
  },
  {
   "cell_type": "code",
   "execution_count": 123,
   "metadata": {},
   "outputs": [
    {
     "data": {
      "text/plain": [
       "{'alpha': 1e-05}"
      ]
     },
     "execution_count": 123,
     "metadata": {},
     "output_type": "execute_result"
    }
   ],
   "source": [
    "clf_A4 = SGDClassifier(loss='log_loss', max_iter=5, tol=None, alpha=1e-4, random_state=42, class_weight=\"balanced\")\n",
    "\n",
    "gs_A4 = GridSearchCV(clf, param_grid={\"alpha\":[1e-6, 1e-5, 1e-4, 1e-3, 1e-2, 1e-1]}, cv=StratifiedKFold(n_splits=5))\n",
    "gs_A4.fit(X_train_A2, y_train_A2)\n",
    "gs_A4.best_params_"
   ]
  },
  {
   "cell_type": "code",
   "execution_count": 124,
   "metadata": {},
   "outputs": [
    {
     "data": {
      "image/png": "[encoded data removed]",
      "text/plain": [
       "<Figure size 640x480 with 2 Axes>"
      ]
     },
     "metadata": {},
     "output_type": "display_data"
    }
   ],
   "source": [
    "y_test_pred_A4 = gs_A4.predict(X_test_A2)\n",
    "\n",
    "cfs_mat = pd.DataFrame(\n",
    "    confusion_matrix(y_test_A2, y_test_pred_A4),\n",
    "    columns=encoder_A2.classes_,\n",
    "    index=encoder_A2.classes_,\n",
    ")\n",
    "ax = sns.heatmap(cfs_mat, annot=True)\n",
    "ax.set_ylabel(\"Ground Truth\")\n",
    "ax.set_xlabel(\"Predicted\")\n",
    "plt.tight_layout()\n",
    "plt.show()"
   ]
  },
  {
   "cell_type": "code",
   "execution_count": 125,
   "metadata": {},
   "outputs": [
    {
     "name": "stdout",
     "output_type": "stream",
     "text": [
      "              precision    recall  f1-score   support\n",
      "\n",
      "           0       0.87      0.77      0.82        93\n",
      "           1       0.96      0.91      0.93       317\n",
      "           2       0.80      0.67      0.73       130\n",
      "           3       0.83      0.92      0.88       202\n",
      "           4       0.91      0.98      0.94       332\n",
      "\n",
      "    accuracy                           0.89      1074\n",
      "   macro avg       0.87      0.85      0.86      1074\n",
      "weighted avg       0.89      0.89      0.89      1074\n",
      "\n"
     ]
    }
   ],
   "source": [
    "print(classification_report(y_test_A2, y_test_pred_A4))"
   ]
  },
  {
   "cell_type": "markdown",
   "metadata": {},
   "source": [
    "### A5. Interpretability (4 points)\n",
    "1. For each of the 5-classes considered in **A4**, obtain a list of top-10 words (sorted in descending order of their importance) based on the feature weights learned by the classifier.\n",
    "\n",
    "2. **/Discuss:/** Qualitatively discuss the relevance of the identified words and their association with the respective class-labels. Is the classifier correct to assign them high weights? Are they truly discriminative/predictive of the respective class-labels? Justify your responses with clear and crisp reasons!"
   ]
  },
  {
   "cell_type": "code",
   "execution_count": 129,
   "metadata": {},
   "outputs": [
    {
     "data": {
      "text/html": [
       "<div>\n",
       "<style scoped>\n",
       "    .dataframe tbody tr th:only-of-type {\n",
       "        vertical-align: middle;\n",
       "    }\n",
       "\n",
       "    .dataframe tbody tr th {\n",
       "        vertical-align: top;\n",
       "    }\n",
       "\n",
       "    .dataframe thead th {\n",
       "        text-align: right;\n",
       "    }\n",
       "</style>\n",
       "<table border=\"1\" class=\"dataframe\">\n",
       "  <thead>\n",
       "    <tr style=\"text-align: right;\">\n",
       "      <th></th>\n",
       "      <th>top_1</th>\n",
       "      <th>top_2</th>\n",
       "      <th>top_3</th>\n",
       "      <th>top_4</th>\n",
       "      <th>top_5</th>\n",
       "      <th>top_6</th>\n",
       "      <th>top_7</th>\n",
       "      <th>top_8</th>\n",
       "      <th>top_9</th>\n",
       "      <th>top_10</th>\n",
       "    </tr>\n",
       "  </thead>\n",
       "  <tbody>\n",
       "    <tr>\n",
       "      <th>Everyday_life</th>\n",
       "      <td>garden</td>\n",
       "      <td>film</td>\n",
       "      <td>apricot</td>\n",
       "      <td>wrestling</td>\n",
       "      <td>game</td>\n",
       "      <td>libraries</td>\n",
       "      <td>games</td>\n",
       "      <td>love</td>\n",
       "      <td>pearls</td>\n",
       "      <td>honey</td>\n",
       "    </tr>\n",
       "    <tr>\n",
       "      <th>Geography</th>\n",
       "      <td>city</td>\n",
       "      <td>population</td>\n",
       "      <td>river</td>\n",
       "      <td>species</td>\n",
       "      <td>area</td>\n",
       "      <td>islands</td>\n",
       "      <td>country</td>\n",
       "      <td>sea</td>\n",
       "      <td>national</td>\n",
       "      <td>lake</td>\n",
       "    </tr>\n",
       "    <tr>\n",
       "      <th>History</th>\n",
       "      <td>war</td>\n",
       "      <td>bc</td>\n",
       "      <td>history</td>\n",
       "      <td>louisville</td>\n",
       "      <td>folklore</td>\n",
       "      <td>olmec</td>\n",
       "      <td>nuclear</td>\n",
       "      <td>century</td>\n",
       "      <td>pyramid</td>\n",
       "      <td>empire</td>\n",
       "    </tr>\n",
       "    <tr>\n",
       "      <th>People</th>\n",
       "      <td>career</td>\n",
       "      <td>born</td>\n",
       "      <td>city</td>\n",
       "      <td>son</td>\n",
       "      <td>species</td>\n",
       "      <td>work</td>\n",
       "      <td>died</td>\n",
       "      <td>life</td>\n",
       "      <td>father</td>\n",
       "      <td>death</td>\n",
       "    </tr>\n",
       "    <tr>\n",
       "      <th>Science</th>\n",
       "      <td>species</td>\n",
       "      <td>genus</td>\n",
       "      <td>city</td>\n",
       "      <td>space</td>\n",
       "      <td>classification</td>\n",
       "      <td>war</td>\n",
       "      <td>birds</td>\n",
       "      <td>orbit</td>\n",
       "      <td>leaves</td>\n",
       "      <td>lake</td>\n",
       "    </tr>\n",
       "  </tbody>\n",
       "</table>\n",
       "</div>"
      ],
      "text/plain": [
       "                 top_1       top_2    top_3       top_4           top_5  \\\n",
       "Everyday_life   garden        film  apricot   wrestling            game   \n",
       "Geography         city  population    river     species            area   \n",
       "History            war          bc  history  louisville        folklore   \n",
       "People          career        born     city         son         species   \n",
       "Science        species       genus     city       space  classification   \n",
       "\n",
       "                   top_6    top_7    top_8     top_9  top_10  \n",
       "Everyday_life  libraries    games     love    pearls   honey  \n",
       "Geography        islands  country      sea  national    lake  \n",
       "History            olmec  nuclear  century   pyramid  empire  \n",
       "People              work     died     life    father   death  \n",
       "Science              war    birds    orbit    leaves    lake  "
      ]
     },
     "execution_count": 129,
     "metadata": {},
     "output_type": "execute_result"
    }
   ],
   "source": [
    "pd.DataFrame(\n",
    "    (\n",
    "        vectorizer_A2\n",
    "        .get_feature_names_out()\n",
    "        [\n",
    "            np.argsort(\n",
    "                np.abs(gs_A4.best_estimator_.coef_)\n",
    "            )\n",
    "            [:, -10:] # Take only the 5 most important\n",
    "            [:, ::-1] # put the top 1 in first col and top 5 in last col\n",
    "            .reshape(-1)\n",
    "        ].reshape(5, -1)\n",
    "    ),\n",
    "    columns=[f\"top_{i}\" for i in range(1,11)],\n",
    "    index=encoder_A2.classes_\n",
    "    \n",
    ")"
   ]
  },
  {
   "cell_type": "code",
   "execution_count": 130,
   "metadata": {},
   "outputs": [
    {
     "data": {
      "text/html": [
       "<div>\n",
       "<style scoped>\n",
       "    .dataframe tbody tr th:only-of-type {\n",
       "        vertical-align: middle;\n",
       "    }\n",
       "\n",
       "    .dataframe tbody tr th {\n",
       "        vertical-align: top;\n",
       "    }\n",
       "\n",
       "    .dataframe thead th {\n",
       "        text-align: right;\n",
       "    }\n",
       "</style>\n",
       "<table border=\"1\" class=\"dataframe\">\n",
       "  <thead>\n",
       "    <tr style=\"text-align: right;\">\n",
       "      <th></th>\n",
       "      <th>top_1</th>\n",
       "      <th>top_2</th>\n",
       "      <th>top_3</th>\n",
       "      <th>top_4</th>\n",
       "      <th>top_5</th>\n",
       "      <th>top_6</th>\n",
       "      <th>top_7</th>\n",
       "      <th>top_8</th>\n",
       "      <th>top_9</th>\n",
       "      <th>top_10</th>\n",
       "    </tr>\n",
       "  </thead>\n",
       "  <tbody>\n",
       "    <tr>\n",
       "      <th>Everyday_life</th>\n",
       "      <td>10.643526</td>\n",
       "      <td>10.187468</td>\n",
       "      <td>9.660364</td>\n",
       "      <td>9.401175</td>\n",
       "      <td>9.215415</td>\n",
       "      <td>9.160000</td>\n",
       "      <td>8.873873</td>\n",
       "      <td>8.753754</td>\n",
       "      <td>8.728436</td>\n",
       "      <td>8.571526</td>\n",
       "    </tr>\n",
       "    <tr>\n",
       "      <th>Geography</th>\n",
       "      <td>13.231960</td>\n",
       "      <td>7.858642</td>\n",
       "      <td>7.250834</td>\n",
       "      <td>-6.774557</td>\n",
       "      <td>6.764749</td>\n",
       "      <td>6.707630</td>\n",
       "      <td>6.527106</td>\n",
       "      <td>6.525553</td>\n",
       "      <td>6.508637</td>\n",
       "      <td>6.497850</td>\n",
       "    </tr>\n",
       "    <tr>\n",
       "      <th>History</th>\n",
       "      <td>10.583139</td>\n",
       "      <td>9.414670</td>\n",
       "      <td>8.153687</td>\n",
       "      <td>7.923267</td>\n",
       "      <td>7.353650</td>\n",
       "      <td>6.996734</td>\n",
       "      <td>6.719767</td>\n",
       "      <td>6.425105</td>\n",
       "      <td>6.408758</td>\n",
       "      <td>6.323947</td>\n",
       "    </tr>\n",
       "    <tr>\n",
       "      <th>People</th>\n",
       "      <td>9.461501</td>\n",
       "      <td>9.215066</td>\n",
       "      <td>-7.470206</td>\n",
       "      <td>7.419798</td>\n",
       "      <td>-7.369421</td>\n",
       "      <td>7.281834</td>\n",
       "      <td>7.208570</td>\n",
       "      <td>6.985040</td>\n",
       "      <td>6.802949</td>\n",
       "      <td>6.676509</td>\n",
       "    </tr>\n",
       "    <tr>\n",
       "      <th>Science</th>\n",
       "      <td>14.392590</td>\n",
       "      <td>9.038969</td>\n",
       "      <td>-6.044285</td>\n",
       "      <td>5.427765</td>\n",
       "      <td>4.964728</td>\n",
       "      <td>-4.767251</td>\n",
       "      <td>4.387815</td>\n",
       "      <td>4.360982</td>\n",
       "      <td>4.338311</td>\n",
       "      <td>-4.298703</td>\n",
       "    </tr>\n",
       "  </tbody>\n",
       "</table>\n",
       "</div>"
      ],
      "text/plain": [
       "                   top_1      top_2     top_3     top_4     top_5     top_6  \\\n",
       "Everyday_life  10.643526  10.187468  9.660364  9.401175  9.215415  9.160000   \n",
       "Geography      13.231960   7.858642  7.250834 -6.774557  6.764749  6.707630   \n",
       "History        10.583139   9.414670  8.153687  7.923267  7.353650  6.996734   \n",
       "People          9.461501   9.215066 -7.470206  7.419798 -7.369421  7.281834   \n",
       "Science        14.392590   9.038969 -6.044285  5.427765  4.964728 -4.767251   \n",
       "\n",
       "                  top_7     top_8     top_9    top_10  \n",
       "Everyday_life  8.873873  8.753754  8.728436  8.571526  \n",
       "Geography      6.527106  6.525553  6.508637  6.497850  \n",
       "History        6.719767  6.425105  6.408758  6.323947  \n",
       "People         7.208570  6.985040  6.802949  6.676509  \n",
       "Science        4.387815  4.360982  4.338311 -4.298703  "
      ]
     },
     "execution_count": 130,
     "metadata": {},
     "output_type": "execute_result"
    }
   ],
   "source": [
    "important_word_ids = np.argsort(np.abs(gs_A4.best_estimator_.coef_))[:, -10:][:, ::-1]\n",
    "\n",
    "coefs = np.zeros((5, 10))\n",
    "for i, row in enumerate(gs_A4.best_estimator_.coef_):\n",
    "    coefs[i] = row[important_word_ids[i]]\n",
    "\n",
    "pd.DataFrame(\n",
    "    coefs,\n",
    "    columns=[f\"top_{i}\" for i in range(1,11)],\n",
    "    index=encoder_A2.classes_\n",
    ")"
   ]
  },
  {
   "cell_type": "markdown",
   "metadata": {},
   "source": [
    "<div class=\"alert alert-block alert-info\">\n",
    "\n",
    "These make sense!\n",
    "\n",
    "</div>"
   ]
  },
  {
   "cell_type": "markdown",
   "metadata": {},
   "source": [
    "# Task B. The Wikipedia link network (30 points)"
   ]
  },
  {
   "cell_type": "markdown",
   "metadata": {},
   "source": [
    "### B1. Wikipedia network: reveal your shape! (12 points)\n",
    "#### B1.1 Load the Wikipedia link network (`data/links_task-B.tsv.gz`) into memory as a directed graph using `NetworkX`. (4 points)\n",
    "1. Compute the following from the loaded graph object:\n",
    "    * the number of nodes,\n",
    "    * the number of edges, and\n",
    "    * the average degree.\n",
    "2. **/Discuss:/** In order to summarize the degree distribution in a single number, would you recommend using the average degree? Why, or why not? If not, what alternatives can you think of? Please elaborate!"
   ]
  },
  {
   "cell_type": "code",
   "execution_count": 40,
   "metadata": {},
   "outputs": [],
   "source": [
    "'''your answer/code here''';\n",
    "import networkx as nx\n",
    "\n",
    "links_task_B = pd.read_csv(\"./data/links_task-B.tsv.gz\", sep='\\t')\n",
    "# links_task_B[\"linkSource\"] = links_task_B[\"linkSource\"].apply(unquote)\n",
    "# links_task_B[\"linkTarget\"] = links_task_B[\"linkTarget\"].apply(unquote)\n",
    "# Adj = pd.crosstab(links_task_B[\"linkSource\"], links_task_B[\"linkTarget\"])\n",
    "\n",
    "G = nx.from_pandas_edgelist(links_task_B, source=\"linkSource\", target=\"linkTarget\", create_using=nx.DiGraph())"
   ]
  },
  {
   "cell_type": "code",
   "execution_count": 41,
   "metadata": {},
   "outputs": [
    {
     "data": {
      "text/plain": [
       "4592"
      ]
     },
     "execution_count": 41,
     "metadata": {},
     "output_type": "execute_result"
    }
   ],
   "source": [
    "len(G.nodes())"
   ]
  },
  {
   "cell_type": "code",
   "execution_count": 42,
   "metadata": {},
   "outputs": [
    {
     "data": {
      "text/plain": [
       "119882"
      ]
     },
     "execution_count": 42,
     "metadata": {},
     "output_type": "execute_result"
    }
   ],
   "source": [
    "len(G.edges())"
   ]
  },
  {
   "cell_type": "code",
   "execution_count": 43,
   "metadata": {},
   "outputs": [
    {
     "data": {
      "text/plain": [
       "52.21341463414634"
      ]
     },
     "execution_count": 43,
     "metadata": {},
     "output_type": "execute_result"
    }
   ],
   "source": [
    "np.mean(list(dict(G.degree()).values()))"
   ]
  },
  {
   "cell_type": "code",
   "execution_count": 44,
   "metadata": {},
   "outputs": [
    {
     "data": {
      "text/plain": [
       "<AxesSubplot: ylabel='Count'>"
      ]
     },
     "execution_count": 44,
     "metadata": {},
     "output_type": "execute_result"
    },
    {
     "data": {
      "image/png": "[encoded data removed]",
      "text/plain": [
       "<Figure size 640x480 with 1 Axes>"
      ]
     },
     "metadata": {},
     "output_type": "display_data"
    }
   ],
   "source": [
    "sns.histplot(list(dict(G.degree()).values()), log_scale=True)"
   ]
  },
  {
   "cell_type": "markdown",
   "metadata": {},
   "source": [
    "\n",
    "<div class=\"alert alert-block alert-info\">\n",
    "\n",
    "No I would not use the average degree because it is non-robust to outliars. I would rather use the median.\n",
    "\n",
    "</div>"
   ]
  },
  {
   "cell_type": "code",
   "execution_count": 45,
   "metadata": {},
   "outputs": [
    {
     "data": {
      "text/plain": [
       "30.0"
      ]
     },
     "execution_count": 45,
     "metadata": {},
     "output_type": "execute_result"
    }
   ],
   "source": [
    "np.median(list(dict(G.degree()).values()))"
   ]
  },
  {
   "cell_type": "markdown",
   "metadata": {},
   "source": [
    "#### B1.2 Using the appropriate plot type, plot the in-degree and out-degree distributions of the Wikipedia link network and analyze it. (4 points)\n",
    "1. **/Discuss:/** What is the appropriate scale of the axes?\n",
    "2. **/Discuss:/** Does the distribution (roughly) follow a particular distribution, and if yes, which one? Additionally, explain how you arrived at your conclusion."
   ]
  },
  {
   "cell_type": "code",
   "execution_count": 46,
   "metadata": {},
   "outputs": [
    {
     "data": {
      "image/png": "[encoded data removed]",
      "text/plain": [
       "<Figure size 640x480 with 2 Axes>"
      ]
     },
     "metadata": {},
     "output_type": "display_data"
    }
   ],
   "source": [
    "'''your answer/code here''';\n",
    "fig, (ax1, ax2) = plt.subplots(ncols=2)\n",
    "\n",
    "\n",
    "sns.histplot(list(dict(G.in_degree()).values()), log_scale=True, ax=ax1, bins=50)\n",
    "ax1.set_title(\"in_degree\")\n",
    "ax1.set_yscale(\"log\")\n",
    "sns.histplot(list(dict(G.out_degree()).values()), log_scale=True, ax=ax2, bins=50)\n",
    "ax2.set_title(\"out_degree\")\n",
    "ax2.set_yscale(\"log\")\n"
   ]
  },
  {
   "cell_type": "markdown",
   "metadata": {},
   "source": [
    "\n",
    "<div class=\"alert alert-block alert-info\">\n",
    "\n",
    "Appropriate axes are a log log plot. Above 10^1 we can distinguish a power law.\n",
    "\n",
    "</div>"
   ]
  },
  {
   "cell_type": "markdown",
   "metadata": {},
   "source": [
    "#### B1.3 Connectedness of the Wikipedia link network (4 points)\n",
    "\n",
    "**Definition-1:** An undirected graph $G$ is said to be connected if, for every pair of vertices $(u, v)$, it contains a path that connects the two vertices.\n",
    "\n",
    "**Definition-2:** A directed graph $G_{dir}$ is **weakly connected** (or simply connected) if the underlying undirected graph obtained by replacing all directed edges of the graph with undirected edges is a connected graph (cf. Definition-1). \n",
    "\n",
    "**Definition-3:** A directed graph $G_{dir}$ is **strongly connected** if, for every pair of vertices $(u, v)$, it contains a directed path from $u$ to $v$ and a directed path from $v$ to $u$.\n",
    "\n",
    "Given these definitions, what can you say about the connectedness of the Wikipedia link network? Specifically, answer the following:\n",
    "1. Is the Wikipedia link network weakly connected? If not, print the number of weakly connected components. Additionally, print the number of nodes and edges of the subgraph corresponding to the largest weakly connected component.\n",
    "2. Is the Wikipedia link network strongly connected? If not, print the number of strongly connected components. Additionally, print the number of nodes and edges of the subgraph corresponding to the largest strongly connected component."
   ]
  },
  {
   "cell_type": "code",
   "execution_count": 47,
   "metadata": {},
   "outputs": [
    {
     "data": {
      "text/plain": [
       "(False, False)"
      ]
     },
     "execution_count": 47,
     "metadata": {},
     "output_type": "execute_result"
    }
   ],
   "source": [
    "'''your answer/code here''';\n",
    "nx.is_weakly_connected(G), nx.is_strongly_connected(G)"
   ]
  },
  {
   "cell_type": "code",
   "execution_count": 48,
   "metadata": {},
   "outputs": [
    {
     "data": {
      "text/plain": [
       "2"
      ]
     },
     "execution_count": 48,
     "metadata": {},
     "output_type": "execute_result"
    }
   ],
   "source": [
    "weakly_connected_subgraphs_nodes = [list(c) for c in nx.weakly_connected_components(G)]\n",
    "len(weakly_connected_subgraphs_nodes)"
   ]
  },
  {
   "cell_type": "code",
   "execution_count": 49,
   "metadata": {},
   "outputs": [
    {
     "data": {
      "text/plain": [
       "(4589, 119879)"
      ]
     },
     "execution_count": 49,
     "metadata": {},
     "output_type": "execute_result"
    }
   ],
   "source": [
    "weakly_connected_subgraphs_sizes = [len(subgraph_nodes) for subgraph_nodes in weakly_connected_subgraphs_nodes]\n",
    "largest_weakly_connected_subgraph = G.subgraph(weakly_connected_subgraphs_nodes[np.argmax(weakly_connected_subgraphs_sizes)])\n",
    "len(largest_weakly_connected_subgraph.nodes()), len(largest_weakly_connected_subgraph.edges())"
   ]
  },
  {
   "cell_type": "code",
   "execution_count": 50,
   "metadata": {},
   "outputs": [
    {
     "data": {
      "text/plain": [
       "519"
      ]
     },
     "execution_count": 50,
     "metadata": {},
     "output_type": "execute_result"
    }
   ],
   "source": [
    "strongly_connected_subgraphs_nodes = [list(c) for c in nx.strongly_connected_components(G)]\n",
    "len(strongly_connected_subgraphs_nodes)"
   ]
  },
  {
   "cell_type": "code",
   "execution_count": 51,
   "metadata": {},
   "outputs": [
    {
     "data": {
      "text/plain": [
       "(4051, 111900)"
      ]
     },
     "execution_count": 51,
     "metadata": {},
     "output_type": "execute_result"
    }
   ],
   "source": [
    "strongly_connected_subgraphs_sizes = [len(subgraph_nodes) for subgraph_nodes in strongly_connected_subgraphs_nodes]\n",
    "largest_strongly_connected_subgraph = G.subgraph(strongly_connected_subgraphs_nodes[np.argmax(strongly_connected_subgraphs_sizes)])\n",
    "len(largest_strongly_connected_subgraph.nodes()), len(largest_strongly_connected_subgraph.edges())"
   ]
  },
  {
   "cell_type": "markdown",
   "metadata": {},
   "source": [
    "### B2. The interplay between human navigation behavior and Wikipedia network structure (18 points)\n",
    "\n",
    "#### B2.1 Loading and analyzing the game data (3 points)\n",
    "1. Load `data/paths_df_task-B.tsv.gz` as a pandas dataframe.\n",
    "2. Some games were successfully finished (*finished=True*) while others were unsuccessful (i.e., the player gave up before reaching the target article). However, not all unsuccessful games are infeasible; the player might simply not have been good enough at the game to reach the target from the source. **/Discuss:/** Clearly state the reasons why there may be games that are *truly infeasible*.   \n",
    "3. List all unsuccessful games that are *truly infeasible* and remove them from the dataframe."
   ]
  },
  {
   "cell_type": "code",
   "execution_count": 52,
   "metadata": {},
   "outputs": [
    {
     "data": {
      "text/html": [
       "<div>\n",
       "<style scoped>\n",
       "    .dataframe tbody tr th:only-of-type {\n",
       "        vertical-align: middle;\n",
       "    }\n",
       "\n",
       "    .dataframe tbody tr th {\n",
       "        vertical-align: top;\n",
       "    }\n",
       "\n",
       "    .dataframe thead th {\n",
       "        text-align: right;\n",
       "    }\n",
       "</style>\n",
       "<table border=\"1\" class=\"dataframe\">\n",
       "  <thead>\n",
       "    <tr style=\"text-align: right;\">\n",
       "      <th></th>\n",
       "      <th>hashed_ip_address</th>\n",
       "      <th>source</th>\n",
       "      <th>target</th>\n",
       "      <th>finished</th>\n",
       "      <th>human_path_length</th>\n",
       "      <th>shortest_path_length</th>\n",
       "      <th>duration_in_sec</th>\n",
       "    </tr>\n",
       "  </thead>\n",
       "  <tbody>\n",
       "    <tr>\n",
       "      <th>0</th>\n",
       "      <td>6a3701d319fc3754</td>\n",
       "      <td>14th_century</td>\n",
       "      <td>African_slave_trade</td>\n",
       "      <td>True</td>\n",
       "      <td>9</td>\n",
       "      <td>3</td>\n",
       "      <td>166</td>\n",
       "    </tr>\n",
       "    <tr>\n",
       "      <th>1</th>\n",
       "      <td>3824310e536af032</td>\n",
       "      <td>14th_century</td>\n",
       "      <td>African_slave_trade</td>\n",
       "      <td>True</td>\n",
       "      <td>5</td>\n",
       "      <td>3</td>\n",
       "      <td>88</td>\n",
       "    </tr>\n",
       "    <tr>\n",
       "      <th>2</th>\n",
       "      <td>415612e93584d30e</td>\n",
       "      <td>14th_century</td>\n",
       "      <td>African_slave_trade</td>\n",
       "      <td>True</td>\n",
       "      <td>8</td>\n",
       "      <td>3</td>\n",
       "      <td>138</td>\n",
       "    </tr>\n",
       "    <tr>\n",
       "      <th>3</th>\n",
       "      <td>64dd5cd342e3780c</td>\n",
       "      <td>14th_century</td>\n",
       "      <td>Greece</td>\n",
       "      <td>True</td>\n",
       "      <td>4</td>\n",
       "      <td>2</td>\n",
       "      <td>37</td>\n",
       "    </tr>\n",
       "    <tr>\n",
       "      <th>4</th>\n",
       "      <td>015245d773376aab</td>\n",
       "      <td>14th_century</td>\n",
       "      <td>John_F._Kennedy</td>\n",
       "      <td>True</td>\n",
       "      <td>7</td>\n",
       "      <td>3</td>\n",
       "      <td>175</td>\n",
       "    </tr>\n",
       "    <tr>\n",
       "      <th>...</th>\n",
       "      <td>...</td>\n",
       "      <td>...</td>\n",
       "      <td>...</td>\n",
       "      <td>...</td>\n",
       "      <td>...</td>\n",
       "      <td>...</td>\n",
       "      <td>...</td>\n",
       "    </tr>\n",
       "    <tr>\n",
       "      <th>76184</th>\n",
       "      <td>109ed71f571d86e9</td>\n",
       "      <td>Franz_Kafka</td>\n",
       "      <td>Cholera</td>\n",
       "      <td>False</td>\n",
       "      <td>8</td>\n",
       "      <td>3</td>\n",
       "      <td>180</td>\n",
       "    </tr>\n",
       "    <tr>\n",
       "      <th>76185</th>\n",
       "      <td>232f992e57d43e8d</td>\n",
       "      <td>Modern_history</td>\n",
       "      <td>Hollandic</td>\n",
       "      <td>False</td>\n",
       "      <td>1</td>\n",
       "      <td>3</td>\n",
       "      <td>6</td>\n",
       "    </tr>\n",
       "    <tr>\n",
       "      <th>76186</th>\n",
       "      <td>2e09a7224600a7cd</td>\n",
       "      <td>Computer_programming</td>\n",
       "      <td>The_Beatles</td>\n",
       "      <td>False</td>\n",
       "      <td>5</td>\n",
       "      <td>3</td>\n",
       "      <td>1900</td>\n",
       "    </tr>\n",
       "    <tr>\n",
       "      <th>76187</th>\n",
       "      <td>60af9e2138051b96</td>\n",
       "      <td>Jamaica</td>\n",
       "      <td>Alan_Turing</td>\n",
       "      <td>False</td>\n",
       "      <td>4</td>\n",
       "      <td>3</td>\n",
       "      <td>1903</td>\n",
       "    </tr>\n",
       "    <tr>\n",
       "      <th>76188</th>\n",
       "      <td>1cf0cbb3281049ab</td>\n",
       "      <td>Mark_Antony</td>\n",
       "      <td>Feather</td>\n",
       "      <td>False</td>\n",
       "      <td>5</td>\n",
       "      <td>3</td>\n",
       "      <td>352</td>\n",
       "    </tr>\n",
       "  </tbody>\n",
       "</table>\n",
       "<p>76189 rows × 7 columns</p>\n",
       "</div>"
      ],
      "text/plain": [
       "      hashed_ip_address                source               target  finished  \\\n",
       "0      6a3701d319fc3754          14th_century  African_slave_trade      True   \n",
       "1      3824310e536af032          14th_century  African_slave_trade      True   \n",
       "2      415612e93584d30e          14th_century  African_slave_trade      True   \n",
       "3      64dd5cd342e3780c          14th_century               Greece      True   \n",
       "4      015245d773376aab          14th_century      John_F._Kennedy      True   \n",
       "...                 ...                   ...                  ...       ...   \n",
       "76184  109ed71f571d86e9           Franz_Kafka              Cholera     False   \n",
       "76185  232f992e57d43e8d        Modern_history            Hollandic     False   \n",
       "76186  2e09a7224600a7cd  Computer_programming          The_Beatles     False   \n",
       "76187  60af9e2138051b96               Jamaica          Alan_Turing     False   \n",
       "76188  1cf0cbb3281049ab           Mark_Antony              Feather     False   \n",
       "\n",
       "       human_path_length  shortest_path_length  duration_in_sec  \n",
       "0                      9                     3              166  \n",
       "1                      5                     3               88  \n",
       "2                      8                     3              138  \n",
       "3                      4                     2               37  \n",
       "4                      7                     3              175  \n",
       "...                  ...                   ...              ...  \n",
       "76184                  8                     3              180  \n",
       "76185                  1                     3                6  \n",
       "76186                  5                     3             1900  \n",
       "76187                  4                     3             1903  \n",
       "76188                  5                     3              352  \n",
       "\n",
       "[76189 rows x 7 columns]"
      ]
     },
     "execution_count": 52,
     "metadata": {},
     "output_type": "execute_result"
    }
   ],
   "source": [
    "'''your answer/code here''';\n",
    "paths_df_task_B = pd.read_csv(\"./data/paths_df_task-B.tsv.gz\", sep='\\t')\n",
    "# paths_df_task_B[\"source\"] = paths_df_task_B[\"source\"].apply(unquote)\n",
    "# paths_df_task_B[\"target\"] = paths_df_task_B[\"target\"].apply(unquote)\n",
    "paths_df_task_B"
   ]
  },
  {
   "cell_type": "markdown",
   "metadata": {},
   "source": [
    "<div class=\"alert alert-block alert-info\">\n",
    "\n",
    "Since the network is not fully connected, you may end up in a different strongly connected subgraph than your target.\n",
    "\n",
    "</div>\n"
   ]
  },
  {
   "cell_type": "code",
   "execution_count": 53,
   "metadata": {},
   "outputs": [
    {
     "data": {
      "text/html": [
       "<div>\n",
       "<style scoped>\n",
       "    .dataframe tbody tr th:only-of-type {\n",
       "        vertical-align: middle;\n",
       "    }\n",
       "\n",
       "    .dataframe tbody tr th {\n",
       "        vertical-align: top;\n",
       "    }\n",
       "\n",
       "    .dataframe thead th {\n",
       "        text-align: right;\n",
       "    }\n",
       "</style>\n",
       "<table border=\"1\" class=\"dataframe\">\n",
       "  <thead>\n",
       "    <tr style=\"text-align: right;\">\n",
       "      <th></th>\n",
       "      <th>hashed_ip_address</th>\n",
       "      <th>source</th>\n",
       "      <th>target</th>\n",
       "      <th>finished</th>\n",
       "      <th>human_path_length</th>\n",
       "      <th>shortest_path_length</th>\n",
       "      <th>duration_in_sec</th>\n",
       "    </tr>\n",
       "  </thead>\n",
       "  <tbody>\n",
       "    <tr>\n",
       "      <th>53533</th>\n",
       "      <td>4c03b8fb18fc9752</td>\n",
       "      <td>Oasis_%28band%29</td>\n",
       "      <td>Final_Fantasy_%28video_game%29</td>\n",
       "      <td>False</td>\n",
       "      <td>1</td>\n",
       "      <td>-1</td>\n",
       "      <td>13</td>\n",
       "    </tr>\n",
       "    <tr>\n",
       "      <th>56880</th>\n",
       "      <td>3af13b307343dec9</td>\n",
       "      <td>Adolf_Hitler</td>\n",
       "      <td>The_Frogs</td>\n",
       "      <td>False</td>\n",
       "      <td>6</td>\n",
       "      <td>-1</td>\n",
       "      <td>1874</td>\n",
       "    </tr>\n",
       "    <tr>\n",
       "      <th>63647</th>\n",
       "      <td>093e40d06992b8dc</td>\n",
       "      <td>Anne_Frank</td>\n",
       "      <td>Final_Fantasy_%28video_game%29</td>\n",
       "      <td>False</td>\n",
       "      <td>21</td>\n",
       "      <td>-1</td>\n",
       "      <td>519</td>\n",
       "    </tr>\n",
       "    <tr>\n",
       "      <th>63648</th>\n",
       "      <td>093e42416992ba4d</td>\n",
       "      <td>Anne_Frank</td>\n",
       "      <td>Final_Fantasy_%28video_game%29</td>\n",
       "      <td>False</td>\n",
       "      <td>21</td>\n",
       "      <td>-1</td>\n",
       "      <td>542</td>\n",
       "    </tr>\n",
       "    <tr>\n",
       "      <th>64511</th>\n",
       "      <td>17ef27577d43939d</td>\n",
       "      <td>Toy</td>\n",
       "      <td>Lego</td>\n",
       "      <td>False</td>\n",
       "      <td>1</td>\n",
       "      <td>-1</td>\n",
       "      <td>1807</td>\n",
       "    </tr>\n",
       "    <tr>\n",
       "      <th>66654</th>\n",
       "      <td>5e55877267bd6864</td>\n",
       "      <td>Hymenoptera</td>\n",
       "      <td>Portuguese_Communist_Party</td>\n",
       "      <td>False</td>\n",
       "      <td>8</td>\n",
       "      <td>-1</td>\n",
       "      <td>264</td>\n",
       "    </tr>\n",
       "    <tr>\n",
       "      <th>71566</th>\n",
       "      <td>3d9b105c56bcf38a</td>\n",
       "      <td>Private_Peaceful</td>\n",
       "      <td>Unix</td>\n",
       "      <td>False</td>\n",
       "      <td>1</td>\n",
       "      <td>-1</td>\n",
       "      <td>1804</td>\n",
       "    </tr>\n",
       "    <tr>\n",
       "      <th>75567</th>\n",
       "      <td>360d256e3fd2a746</td>\n",
       "      <td>Quantum_mechanics</td>\n",
       "      <td>Blue_Tit</td>\n",
       "      <td>False</td>\n",
       "      <td>15</td>\n",
       "      <td>-1</td>\n",
       "      <td>2464</td>\n",
       "    </tr>\n",
       "  </tbody>\n",
       "</table>\n",
       "</div>"
      ],
      "text/plain": [
       "      hashed_ip_address             source                          target  \\\n",
       "53533  4c03b8fb18fc9752   Oasis_%28band%29  Final_Fantasy_%28video_game%29   \n",
       "56880  3af13b307343dec9       Adolf_Hitler                       The_Frogs   \n",
       "63647  093e40d06992b8dc         Anne_Frank  Final_Fantasy_%28video_game%29   \n",
       "63648  093e42416992ba4d         Anne_Frank  Final_Fantasy_%28video_game%29   \n",
       "64511  17ef27577d43939d                Toy                            Lego   \n",
       "66654  5e55877267bd6864        Hymenoptera      Portuguese_Communist_Party   \n",
       "71566  3d9b105c56bcf38a   Private_Peaceful                            Unix   \n",
       "75567  360d256e3fd2a746  Quantum_mechanics                        Blue_Tit   \n",
       "\n",
       "       finished  human_path_length  shortest_path_length  duration_in_sec  \n",
       "53533     False                  1                    -1               13  \n",
       "56880     False                  6                    -1             1874  \n",
       "63647     False                 21                    -1              519  \n",
       "63648     False                 21                    -1              542  \n",
       "64511     False                  1                    -1             1807  \n",
       "66654     False                  8                    -1              264  \n",
       "71566     False                  1                    -1             1804  \n",
       "75567     False                 15                    -1             2464  "
      ]
     },
     "execution_count": 53,
     "metadata": {},
     "output_type": "execute_result"
    }
   ],
   "source": [
    "paths_df_task_B.query(\"finished == False and shortest_path_length == -1\")"
   ]
  },
  {
   "cell_type": "code",
   "execution_count": 54,
   "metadata": {},
   "outputs": [],
   "source": [
    "paths_df_task_B = paths_df_task_B.drop(\n",
    "    index=paths_df_task_B.query(\"finished == False and shortest_path_length == -1\").index\n",
    ")"
   ]
  },
  {
   "cell_type": "markdown",
   "metadata": {},
   "source": [
    "#### B2.2 Wikispeedia => Wikislowia? (9 points)\n",
    "1. Compute and report the average and median path lengths for games that were successfully finished (*finished=True*). You should compute and report path length in two ways: (1) with respect to the number of clicks needed by *human players*, (2) with respect to the *minimum* number clicks an *optimal player* would need.   \n",
    "   **/Discuss:/** What can you say about the navigability of the Wikipedia link network?   \n",
    "   *Hint: Think about [Milgram's experiment](https://docs.google.com/presentation/d/1h6cIINJ9cNZ-Rtb7SskXrl9Xet5zPUoX2oJlNM0loHQ/edit#slide=id.g464f30ace1_0_261) and relate your findings with his findings!*\n",
    "2. **/Discuss:/** Suppose you want to maliciously decrease Wikipedia's navigability. You are allowed to remove certain edges in the network. What criterion would you use to decide which edges should be removed? Additionally, discuss why these edges are critical for Wikipedia's navigability. Justify your answer with clear and substantive reasoning!   \n",
    "   _Hint: Navigability of a network depends on the existence of short paths in the network._\n",
    "3. **/Discuss:/** In continuation to B2.2.2, assume you are given a budget of $k<<n$ edges to be removed. Design the algorithm that you would employ, provide its pseudocode (as a list of steps), and justify your algorithm design choice.   \n",
    "   *Note: You don't have to describe the steps for computing the criterion you identified in Step B.2.2. Instead, using the identified criterion as a blackbox, you have to provide the steps required to remove $k>1$ edges.*"
   ]
  },
  {
   "cell_type": "code",
   "execution_count": 55,
   "metadata": {},
   "outputs": [
    {
     "data": {
      "text/plain": [
       "(6.757493081810033, 6.0)"
      ]
     },
     "execution_count": 55,
     "metadata": {},
     "output_type": "execute_result"
    }
   ],
   "source": [
    "'''your answer/code here''';\n",
    "paths_df_task_B.query(\"finished == True\")[\"human_path_length\"].mean(), paths_df_task_B.query(\"finished == True\")[\"human_path_length\"].median()"
   ]
  },
  {
   "cell_type": "code",
   "execution_count": 56,
   "metadata": {},
   "outputs": [
    {
     "data": {
      "text/plain": [
       "(2.845500253342168, 3.0)"
      ]
     },
     "execution_count": 56,
     "metadata": {},
     "output_type": "execute_result"
    }
   ],
   "source": [
    "paths_df_task_B.query(\"finished == True\")[\"shortest_path_length\"].mean(), paths_df_task_B.query(\"finished == True\")[\"shortest_path_length\"].median()"
   ]
  },
  {
   "cell_type": "markdown",
   "metadata": {},
   "source": [
    "<div class=\"alert alert-block alert-info\">\n",
    "\n",
    "To maliciously decrease Wikipedia's navigability, the criterion used would be edges possessing high betweeness centrality as they separate communities.\n",
    "\n",
    "</div>"
   ]
  },
  {
   "cell_type": "code",
   "execution_count": 57,
   "metadata": {},
   "outputs": [],
   "source": [
    "# !pseudo-code\n",
    "def remove_edges(G:nx.Graph, k:int)->nx.DiGraph:\n",
    "    \"\"\"Inspired by the Girvan-Newman algorithm\"\"\"\n",
    "    # 1. The betweenness of all existing edges in the network is calculated first.\n",
    "    edge_centralities = nx.edge_betweenness_centrality(G)\n",
    "    for i in range(k):\n",
    "        # 2. The edge(s) with the highest betweenness are removed.\n",
    "        max_edge_centrality_index = np.argmax(edge_centralities)\n",
    "        G.remove_edge(max_edge_centrality_index)\n",
    "        # 3. The betweenness of all edges affected by the removal is recalculated.\n",
    "        edge_centralities = nx.edge_betweenness_centrality(G)\n",
    "        # 4. Steps 2 and 3 are repeated until i >= k.\n",
    "    return G"
   ]
  },
  {
   "cell_type": "markdown",
   "metadata": {},
   "source": [
    "#### B2.3 Relationship between network structure and game completion (6 points)\n",
    "1. Enrich the dataframe with the eigenvector centrality and in-degree of the target article for each game path.\n",
    "2. Using plots of appropriate type, plot the in-degree distribution of the target articles of game paths. What is the appropriate scale of the axes? Additionally, summarize the in-degree distribution of the target articles in a single number using a suitable metric. Justify your choice of the metric.\n",
    "3. Using plots of appropriate type, analyze the differences in in-degree and eigenvector centrality of finished and unfinished games.   \n",
    "   **/Discuss:/** What do you observe? Clearly discuss your observations!"
   ]
  },
  {
   "cell_type": "code",
   "execution_count": 58,
   "metadata": {},
   "outputs": [],
   "source": [
    "'''your answer/code here''';\n",
    "G_B23 = nx.from_pandas_edgelist(paths_df_task_B, create_using=nx.DiGraph())\n",
    "paths_df_task_B = pd.merge(\n",
    "    paths_df_task_B,\n",
    "    pd.DataFrame(\n",
    "        [\n",
    "            {\n",
    "                \"target\":k,\n",
    "                \"eigenvector_centrality\":v,\n",
    "                \"in_degree\":G_B23.in_degree(k),\n",
    "            }\n",
    "            for k, v in nx.eigenvector_centrality(G_B23).items()\n",
    "        ]\n",
    "    )\n",
    ")"
   ]
  },
  {
   "cell_type": "code",
   "execution_count": 59,
   "metadata": {},
   "outputs": [
    {
     "data": {
      "image/png": "[encoded data removed]",
      "text/plain": [
       "<Figure size 640x480 with 2 Axes>"
      ]
     },
     "metadata": {},
     "output_type": "display_data"
    }
   ],
   "source": [
    "fig, (ax1, ax2) = plt.subplots(ncols=2)\n",
    "sns.histplot(paths_df_task_B.drop_duplicates(\"target\"), x=\"in_degree\", bins=100, log_scale=True, ax=ax1)\n",
    "ax1.set_yscale(\"log\")\n",
    "sns.boxplot(paths_df_task_B.drop_duplicates(\"target\"), x=\"in_degree\", log_scale=True, ax=ax2)\n",
    "plt.tight_layout()\n",
    "plt.show()"
   ]
  },
  {
   "cell_type": "code",
   "execution_count": 60,
   "metadata": {},
   "outputs": [
    {
     "data": {
      "text/plain": [
       "9.0"
      ]
     },
     "execution_count": 60,
     "metadata": {},
     "output_type": "execute_result"
    }
   ],
   "source": [
    "paths_df_task_B.drop_duplicates(\"target\")[\"in_degree\"].median() # robust to outliars"
   ]
  },
  {
   "cell_type": "code",
   "execution_count": 61,
   "metadata": {},
   "outputs": [
    {
     "data": {
      "image/png": "[encoded data removed]",
      "text/plain": [
       "<Figure size 640x480 with 4 Axes>"
      ]
     },
     "metadata": {},
     "output_type": "display_data"
    }
   ],
   "source": [
    "fig, ((ax1, ax2), (ax3, ax4)) = plt.subplots(ncols=2, nrows=2)\n",
    "sns.histplot(paths_df_task_B, x=\"eigenvector_centrality\", bins=100, log_scale=True, ax=ax1, hue=\"finished\")\n",
    "sns.boxplot(paths_df_task_B, x=\"eigenvector_centrality\", log_scale=True, ax=ax2, hue=\"finished\")\n",
    "\n",
    "sns.histplot(paths_df_task_B, x=\"in_degree\", bins=100, log_scale=True, ax=ax3, hue=\"finished\")\n",
    "ax3.set_yscale(\"log\")\n",
    "sns.boxplot(paths_df_task_B, x=\"in_degree\", log_scale=True, ax=ax4, hue=\"finished\")\n",
    "\n",
    "plt.tight_layout()\n",
    "plt.show()"
   ]
  },
  {
   "cell_type": "markdown",
   "metadata": {},
   "source": [
    "# Task C. Putting on the causality hat (30 points)"
   ]
  },
  {
   "cell_type": "markdown",
   "metadata": {},
   "source": [
    "### C1. Are articles with high in-degree easier to find? A naive analysis (6 points)\n",
    "\n",
    "Recall that in each Wikispeedia game, a player is **randomly** assigned a source article and a target article. In task **C**, we are interested in measuring the effect of the target article's in-degree on the player's chances of successfully finishing the game.\n",
    "\n",
    "1. Load `data/paths_df_task-C.tsv.gz` as a pandas dataframe.\n",
    "2. Consider target articles with fewer than 20 incoming links to have a *low in-degree* and articles with at least 20 to have a *high in-degree*.\n",
    "3. Calculate the fraction of games with a high-in-degree target that was finished, and the fraction of games with a low-in-degree target that was finished. Do you observe significant differences, and in what direction? (You may do a statistical test or provide confidence intervals.)\n",
    "4. Repeat the same analysis for the game duration, for finished games only.\n",
    "5. Quantify and discuss your findings from Steps C1.3 and C1.4."
   ]
  },
  {
   "cell_type": "code",
   "execution_count": 166,
   "metadata": {},
   "outputs": [
    {
     "data": {
      "text/html": [
       "<div>\n",
       "<style scoped>\n",
       "    .dataframe tbody tr th:only-of-type {\n",
       "        vertical-align: middle;\n",
       "    }\n",
       "\n",
       "    .dataframe tbody tr th {\n",
       "        vertical-align: top;\n",
       "    }\n",
       "\n",
       "    .dataframe thead th {\n",
       "        text-align: right;\n",
       "    }\n",
       "</style>\n",
       "<table border=\"1\" class=\"dataframe\">\n",
       "  <thead>\n",
       "    <tr style=\"text-align: right;\">\n",
       "      <th></th>\n",
       "      <th></th>\n",
       "      <th>hashed_ip_address</th>\n",
       "    </tr>\n",
       "    <tr>\n",
       "      <th>high_in_degree_target</th>\n",
       "      <th>finished</th>\n",
       "      <th></th>\n",
       "    </tr>\n",
       "  </thead>\n",
       "  <tbody>\n",
       "    <tr>\n",
       "      <th rowspan=\"2\" valign=\"top\">0</th>\n",
       "      <th>False</th>\n",
       "      <td>16119</td>\n",
       "    </tr>\n",
       "    <tr>\n",
       "      <th>True</th>\n",
       "      <td>20671</td>\n",
       "    </tr>\n",
       "    <tr>\n",
       "      <th rowspan=\"2\" valign=\"top\">1</th>\n",
       "      <th>False</th>\n",
       "      <td>8748</td>\n",
       "    </tr>\n",
       "    <tr>\n",
       "      <th>True</th>\n",
       "      <td>30643</td>\n",
       "    </tr>\n",
       "  </tbody>\n",
       "</table>\n",
       "</div>"
      ],
      "text/plain": [
       "                                hashed_ip_address\n",
       "high_in_degree_target finished                   \n",
       "0                     False                 16119\n",
       "                      True                  20671\n",
       "1                     False                  8748\n",
       "                      True                  30643"
      ]
     },
     "execution_count": 166,
     "metadata": {},
     "output_type": "execute_result"
    }
   ],
   "source": [
    "'''your answer/code here''';\n",
    "paths_df_task_C = pd.read_csv(\"./data/paths_df_task-C.tsv.gz\", sep=\"\\t\")\n",
    "paths_df_task_C[\"high_in_degree_target\"] = (paths_df_task_C[\"in_degree_target\"] >= 20).astype(int)\n",
    "freqs = (\n",
    "    paths_df_task_C\n",
    "    .groupby([\"high_in_degree_target\", \"finished\"])\n",
    "    .aggregate({\"hashed_ip_address\":\"count\"})\n",
    ")\n",
    "# freqs /= np.repeat(\n",
    "#     freqs.reset_index().groupby(\"high_in_degree_target\").aggregate({\"hashed_ip_address\":\"sum\"}).to_numpy(),\n",
    "#     2\n",
    "# ).reshape((-1, 1))\n",
    "freqs"
   ]
  },
  {
   "cell_type": "code",
   "execution_count": 170,
   "metadata": {},
   "outputs": [
    {
     "data": {
      "text/plain": [
       "((0.5568082359336777, 0.5671656700190268),\n",
       " (0.7738061993856464, 0.782185651544769))"
      ]
     },
     "execution_count": 170,
     "metadata": {},
     "output_type": "execute_result"
    }
   ],
   "source": [
    "def do_bootstrap(data, n=1000):\n",
    "    sample_statistic = [] \n",
    "    for _ in range(n):\n",
    "        sampled_data = np.random.choice(data, size=len(data))  \n",
    "        sample_statistic.append(np.mean(sampled_data))\n",
    "    return (np.percentile(sample_statistic, 2.5), np.percentile(sample_statistic, 97.5))\n",
    "\n",
    "do_bootstrap(paths_df_task_C.query(\"high_in_degree_target == 0\")[\"finished\"]), do_bootstrap(paths_df_task_C.query(\"high_in_degree_target == 1\")[\"finished\"])"
   ]
  },
  {
   "cell_type": "code",
   "execution_count": 168,
   "metadata": {},
   "outputs": [
    {
     "name": "stdout",
     "output_type": "stream",
     "text": [
      "Chi-squared: 4037.69823741195\n",
      "P-value: 0.0\n",
      "Degrees of Freedom: 1\n",
      "Expected Frequencies:\n",
      " [[12008.99082448 24781.00917552]\n",
      " [12858.00917552 26532.99082448]]\n"
     ]
    }
   ],
   "source": [
    "import numpy as np\n",
    "from scipy.stats import chi2_contingency\n",
    "\n",
    "# Raw data\n",
    "data = [\n",
    "    [16119, 20671],  # high_in_degree_target = 0\n",
    "    [8748, 30643]    # high_in_degree_target = 1\n",
    "]\n",
    "\n",
    "# Perform chi-square test\n",
    "chi2, p, dof, expected = chi2_contingency(data)\n",
    "\n",
    "# Results\n",
    "print(\"Chi-squared:\", chi2)\n",
    "print(\"P-value:\", p)\n",
    "print(\"Degrees of Freedom:\", dof)\n",
    "print(\"Expected Frequencies:\\n\", expected)\n"
   ]
  },
  {
   "cell_type": "code",
   "execution_count": 167,
   "metadata": {},
   "outputs": [],
   "source": [
    "freqs.to_clipboard()"
   ]
  },
  {
   "cell_type": "code",
   "execution_count": 161,
   "metadata": {},
   "outputs": [
    {
     "data": {
      "text/plain": [
       "array([[0.43813536, 0.56186464],\n",
       "       [0.22208119, 0.77791881]])"
      ]
     },
     "execution_count": 161,
     "metadata": {},
     "output_type": "execute_result"
    }
   ],
   "source": [
    "freqs.to_numpy().reshape((2, 2))"
   ]
  },
  {
   "cell_type": "code",
   "execution_count": null,
   "metadata": {},
   "outputs": [
    {
     "data": {
      "text/plain": [
       "array([[16119, 20671],\n",
       "       [ 8748, 30643]])"
      ]
     },
     "execution_count": 162,
     "metadata": {},
     "output_type": "execute_result"
    }
   ],
   "source": []
  },
  {
   "cell_type": "code",
   "execution_count": 164,
   "metadata": {},
   "outputs": [
    {
     "data": {
      "text/plain": [
       "Chi2ContingencyResult(statistic=4037.69823741195, pvalue=0.0, dof=1, expected_freq=array([[12008.99082448, 12858.00917552],\n",
       "       [24781.00917552, 26532.99082448]]))"
      ]
     },
     "execution_count": 164,
     "metadata": {},
     "output_type": "execute_result"
    }
   ],
   "source": [
    "stats.chi2_contingency(\n",
    "    (\n",
    "        paths_df_task_C\n",
    "        .groupby([\"high_in_degree_target\", \"finished\"])\n",
    "        .aggregate({\"hashed_ip_address\":\"count\"})\n",
    "    ).to_numpy().reshape((2, 2)).T\n",
    ")"
   ]
  },
  {
   "cell_type": "code",
   "execution_count": 63,
   "metadata": {},
   "outputs": [
    {
     "data": {
      "text/plain": [
       "PearsonRResult(statistic=0.2302482995613612, pvalue=0.0)"
      ]
     },
     "execution_count": 63,
     "metadata": {},
     "output_type": "execute_result"
    }
   ],
   "source": [
    "stats.pearsonr(\n",
    "    paths_df_task_C[\"high_in_degree_target\"],\n",
    "    paths_df_task_C[\"finished\"]\n",
    ")\n"
   ]
  },
  {
   "cell_type": "code",
   "execution_count": 64,
   "metadata": {},
   "outputs": [
    {
     "data": {
      "text/html": [
       "<div>\n",
       "<style scoped>\n",
       "    .dataframe tbody tr th:only-of-type {\n",
       "        vertical-align: middle;\n",
       "    }\n",
       "\n",
       "    .dataframe tbody tr th {\n",
       "        vertical-align: top;\n",
       "    }\n",
       "\n",
       "    .dataframe thead tr th {\n",
       "        text-align: left;\n",
       "    }\n",
       "\n",
       "    .dataframe thead tr:last-of-type th {\n",
       "        text-align: right;\n",
       "    }\n",
       "</style>\n",
       "<table border=\"1\" class=\"dataframe\">\n",
       "  <thead>\n",
       "    <tr>\n",
       "      <th></th>\n",
       "      <th colspan=\"2\" halign=\"left\">duration_in_sec</th>\n",
       "    </tr>\n",
       "    <tr>\n",
       "      <th></th>\n",
       "      <th>mean</th>\n",
       "      <th>median</th>\n",
       "    </tr>\n",
       "    <tr>\n",
       "      <th>high_in_degree_target</th>\n",
       "      <th></th>\n",
       "      <th></th>\n",
       "    </tr>\n",
       "  </thead>\n",
       "  <tbody>\n",
       "    <tr>\n",
       "      <th>0</th>\n",
       "      <td>199.571961</td>\n",
       "      <td>134.0</td>\n",
       "    </tr>\n",
       "    <tr>\n",
       "      <th>1</th>\n",
       "      <td>130.428515</td>\n",
       "      <td>91.0</td>\n",
       "    </tr>\n",
       "  </tbody>\n",
       "</table>\n",
       "</div>"
      ],
      "text/plain": [
       "                      duration_in_sec       \n",
       "                                 mean median\n",
       "high_in_degree_target                       \n",
       "0                          199.571961  134.0\n",
       "1                          130.428515   91.0"
      ]
     },
     "execution_count": 64,
     "metadata": {},
     "output_type": "execute_result"
    }
   ],
   "source": [
    "paths_df_task_C.query(\"finished == True\").groupby([\"high_in_degree_target\"]).aggregate({\"duration_in_sec\":[\"mean\", \"median\"]})"
   ]
  },
  {
   "cell_type": "code",
   "execution_count": 65,
   "metadata": {},
   "outputs": [
    {
     "data": {
      "text/plain": [
       "TtestResult(statistic=21.38300527091685, pvalue=5.3178885355993734e-101, df=51312.0)"
      ]
     },
     "execution_count": 65,
     "metadata": {},
     "output_type": "execute_result"
    }
   ],
   "source": [
    "stats.ttest_ind(\n",
    "    paths_df_task_C.query(\"finished == True and high_in_degree_target==0\")[\"duration_in_sec\"],\n",
    "    paths_df_task_C.query(\"finished == True and high_in_degree_target==1\")[\"duration_in_sec\"]\n",
    ")"
   ]
  },
  {
   "cell_type": "markdown",
   "metadata": {},
   "source": [
    "### C2. Modeling the study setup with a causal diagram (9 points)\n",
    "\n",
    "**C2.1** We are interested in the effect of target in-degree (**deg(T)**) on the binary outcome **(O)** that captures whether the game was successfully finished or not. In the previously conducted naive analysis, we did not take into account the shortest path length **(L)**, which is the minimum number of clicks necessary in order to reach the target article from the source article **(S)**. Target and source articles are randomly assigned, independently from each other. The assigned source article S and deg(T) affect the shortest path length L. The source article affects the outcome through the shortest path length, and also directly, as some sources might be more central in the network.   \n",
    "Choose a causal diagram **(A, B, C, D, E, or F)** that corresponds to the described relationships between the following 4 variables. Additionally, justify your choice and explain your reasoning. **(4 points)**\n",
    "- **deg(T):** target in-degree,\n",
    "- **L:** shortest path length between source and target,\n",
    "- **S:** name of source article,\n",
    "- **O:** outcome, i.e., the binary indicator that says whether the game was successfully finished."
   ]
  },
  {
   "cell_type": "code",
   "execution_count": 66,
   "metadata": {
    "scrolled": false
   },
   "outputs": [
    {
     "data": {
      "image/png": "[encoded data removed]",
      "text/plain": [
       "<IPython.core.display.Image object>"
      ]
     },
     "execution_count": 66,
     "metadata": {},
     "output_type": "execute_result"
    }
   ],
   "source": [
    "Image(filename=\"img/diagram.png\") "
   ]
  },
  {
   "cell_type": "markdown",
   "metadata": {},
   "source": [
    "<div class=\"alert alert-block alert-info\">\n",
    "\n",
    "Proceeding by elimination:\n",
    "\n",
    "- The degree of the target does not impact the name of the source therefore we can eliminate C, E and F\n",
    "\n",
    "- The outcome does not impact the shortest path L, therefore we eliminate A.\n",
    "\n",
    "- The name of the source impact the shortest past and not the other way around therefore the correct answer is B\n",
    "\n",
    "B\n",
    "\n",
    "</div>\n"
   ]
  },
  {
   "cell_type": "markdown",
   "metadata": {},
   "source": [
    "**C2.2** **/Discuss:/** What is potentially misleading about the naive analysis done in task **C1**? In what conceivable ways could the conclusions about the impact of target in-degree **deg(T)** on the outcome **O** be wrong?\n",
    "Could the findings go in the opposite direction of a true direct causal effect? Justify your answer. **(5 points)**"
   ]
  },
  {
   "cell_type": "code",
   "execution_count": 67,
   "metadata": {},
   "outputs": [],
   "source": [
    "'''your answer here''';"
   ]
  },
  {
   "cell_type": "markdown",
   "metadata": {},
   "source": [
    "### C3. A more controlled analysis: matching on source article and shortest path length (15 points)\n",
    "\n",
    "Let's now understand how the estimated effect of the target in-degree would differ if we controlled for both the source article and the shortest path length between source and target. Construct a set of matched pairs of games. In a matched pair, the two games differ in target in-degree (one has a high in-degree, and the other has a low in-degree), but the source article and the shortest path length are exactly the same. Note that your output must be a 1-to-1 matching.\n",
    "\n",
    "1. Perform exact matching on source article and shortest path length. This means that two candidate games can be matched only if the source article and the shortest path length are exactly the same. Additionally, report the number of matched pairs of games. **(7 points)**   \n",
    "   **Important heads-up**: *Depending on the configuration of your computer, computing the exact matching could take up to 3 minutes of compute time.*\n",
    "2. Among the matched pairs of games, calculate the fraction of games with a high-in-degree target that was successfully finished, and the fraction of games with a low-in-degree target that was successfully finished. Do you observe significant differences, and in what direction? (You may do a statistical test or provide confidence intervals.) **(3 points)**\n",
    "3. **/Discuss:/** What do you observe? Are the conclusions different from the conclusions reached in C1? If yes, speculate as to why that is the case. How is the estimation in task C1 different from the estimation in task C3? **(4 points)**\n",
    "4. **/Discuss:/** Based on your findings, how should Wikipedia be modified in order to increase the fraction of finished Wikispeedia games? **(1 points)**\n",
    "\n",
    "*Hint: How you construct the set of matched pairs is up to you. One way can be to build an unweighted bipartite graph where games with targets with a high in-degree are on one side (the \"treated class\"), and games with targets with a low in-degree are on the other side (the \"control class\"). The edge between two matching candidate games is created only if there is an exact match on the source article and the shortest path length. Based on this bipartite graph, you can then find the **optimal** matching. However, note that this is neither the required nor the only way.*"
   ]
  },
  {
   "cell_type": "code",
   "execution_count": 68,
   "metadata": {},
   "outputs": [
    {
     "data": {
      "text/html": [
       "<div>\n",
       "<style scoped>\n",
       "    .dataframe tbody tr th:only-of-type {\n",
       "        vertical-align: middle;\n",
       "    }\n",
       "\n",
       "    .dataframe tbody tr th {\n",
       "        vertical-align: top;\n",
       "    }\n",
       "\n",
       "    .dataframe thead th {\n",
       "        text-align: right;\n",
       "    }\n",
       "</style>\n",
       "<table border=\"1\" class=\"dataframe\">\n",
       "  <thead>\n",
       "    <tr style=\"text-align: right;\">\n",
       "      <th></th>\n",
       "      <th>hashed_ip_address</th>\n",
       "      <th>source</th>\n",
       "      <th>target</th>\n",
       "      <th>finished</th>\n",
       "      <th>human_path_length</th>\n",
       "      <th>shortest_path_length</th>\n",
       "      <th>duration_in_sec</th>\n",
       "      <th>in_degree_target</th>\n",
       "      <th>high_in_degree_target</th>\n",
       "    </tr>\n",
       "  </thead>\n",
       "  <tbody>\n",
       "    <tr>\n",
       "      <th>0</th>\n",
       "      <td>6a3701d319fc3754</td>\n",
       "      <td>14th_century</td>\n",
       "      <td>African_slave_trade</td>\n",
       "      <td>True</td>\n",
       "      <td>9</td>\n",
       "      <td>3</td>\n",
       "      <td>166</td>\n",
       "      <td>7.0</td>\n",
       "      <td>0</td>\n",
       "    </tr>\n",
       "    <tr>\n",
       "      <th>1</th>\n",
       "      <td>3824310e536af032</td>\n",
       "      <td>14th_century</td>\n",
       "      <td>African_slave_trade</td>\n",
       "      <td>True</td>\n",
       "      <td>5</td>\n",
       "      <td>3</td>\n",
       "      <td>88</td>\n",
       "      <td>7.0</td>\n",
       "      <td>0</td>\n",
       "    </tr>\n",
       "    <tr>\n",
       "      <th>2</th>\n",
       "      <td>415612e93584d30e</td>\n",
       "      <td>14th_century</td>\n",
       "      <td>African_slave_trade</td>\n",
       "      <td>True</td>\n",
       "      <td>8</td>\n",
       "      <td>3</td>\n",
       "      <td>138</td>\n",
       "      <td>7.0</td>\n",
       "      <td>0</td>\n",
       "    </tr>\n",
       "    <tr>\n",
       "      <th>3</th>\n",
       "      <td>64dd5cd342e3780c</td>\n",
       "      <td>14th_century</td>\n",
       "      <td>Greece</td>\n",
       "      <td>True</td>\n",
       "      <td>4</td>\n",
       "      <td>2</td>\n",
       "      <td>37</td>\n",
       "      <td>246.0</td>\n",
       "      <td>1</td>\n",
       "    </tr>\n",
       "    <tr>\n",
       "      <th>4</th>\n",
       "      <td>015245d773376aab</td>\n",
       "      <td>14th_century</td>\n",
       "      <td>John_F._Kennedy</td>\n",
       "      <td>True</td>\n",
       "      <td>7</td>\n",
       "      <td>3</td>\n",
       "      <td>175</td>\n",
       "      <td>60.0</td>\n",
       "      <td>1</td>\n",
       "    </tr>\n",
       "    <tr>\n",
       "      <th>...</th>\n",
       "      <td>...</td>\n",
       "      <td>...</td>\n",
       "      <td>...</td>\n",
       "      <td>...</td>\n",
       "      <td>...</td>\n",
       "      <td>...</td>\n",
       "      <td>...</td>\n",
       "      <td>...</td>\n",
       "      <td>...</td>\n",
       "    </tr>\n",
       "    <tr>\n",
       "      <th>76176</th>\n",
       "      <td>109ed71f571d86e9</td>\n",
       "      <td>Franz_Kafka</td>\n",
       "      <td>Cholera</td>\n",
       "      <td>False</td>\n",
       "      <td>8</td>\n",
       "      <td>3</td>\n",
       "      <td>180</td>\n",
       "      <td>38.0</td>\n",
       "      <td>1</td>\n",
       "    </tr>\n",
       "    <tr>\n",
       "      <th>76177</th>\n",
       "      <td>232f992e57d43e8d</td>\n",
       "      <td>Modern_history</td>\n",
       "      <td>Hollandic</td>\n",
       "      <td>False</td>\n",
       "      <td>1</td>\n",
       "      <td>3</td>\n",
       "      <td>6</td>\n",
       "      <td>8.0</td>\n",
       "      <td>0</td>\n",
       "    </tr>\n",
       "    <tr>\n",
       "      <th>76178</th>\n",
       "      <td>2e09a7224600a7cd</td>\n",
       "      <td>Computer_programming</td>\n",
       "      <td>The_Beatles</td>\n",
       "      <td>False</td>\n",
       "      <td>5</td>\n",
       "      <td>3</td>\n",
       "      <td>1900</td>\n",
       "      <td>61.0</td>\n",
       "      <td>1</td>\n",
       "    </tr>\n",
       "    <tr>\n",
       "      <th>76179</th>\n",
       "      <td>60af9e2138051b96</td>\n",
       "      <td>Jamaica</td>\n",
       "      <td>Alan_Turing</td>\n",
       "      <td>False</td>\n",
       "      <td>4</td>\n",
       "      <td>3</td>\n",
       "      <td>1903</td>\n",
       "      <td>11.0</td>\n",
       "      <td>0</td>\n",
       "    </tr>\n",
       "    <tr>\n",
       "      <th>76180</th>\n",
       "      <td>1cf0cbb3281049ab</td>\n",
       "      <td>Mark_Antony</td>\n",
       "      <td>Feather</td>\n",
       "      <td>False</td>\n",
       "      <td>5</td>\n",
       "      <td>3</td>\n",
       "      <td>352</td>\n",
       "      <td>35.0</td>\n",
       "      <td>1</td>\n",
       "    </tr>\n",
       "  </tbody>\n",
       "</table>\n",
       "<p>76181 rows × 9 columns</p>\n",
       "</div>"
      ],
      "text/plain": [
       "      hashed_ip_address                source               target  finished  \\\n",
       "0      6a3701d319fc3754          14th_century  African_slave_trade      True   \n",
       "1      3824310e536af032          14th_century  African_slave_trade      True   \n",
       "2      415612e93584d30e          14th_century  African_slave_trade      True   \n",
       "3      64dd5cd342e3780c          14th_century               Greece      True   \n",
       "4      015245d773376aab          14th_century      John_F._Kennedy      True   \n",
       "...                 ...                   ...                  ...       ...   \n",
       "76176  109ed71f571d86e9           Franz_Kafka              Cholera     False   \n",
       "76177  232f992e57d43e8d        Modern_history            Hollandic     False   \n",
       "76178  2e09a7224600a7cd  Computer_programming          The_Beatles     False   \n",
       "76179  60af9e2138051b96               Jamaica          Alan_Turing     False   \n",
       "76180  1cf0cbb3281049ab           Mark_Antony              Feather     False   \n",
       "\n",
       "       human_path_length  shortest_path_length  duration_in_sec  \\\n",
       "0                      9                     3              166   \n",
       "1                      5                     3               88   \n",
       "2                      8                     3              138   \n",
       "3                      4                     2               37   \n",
       "4                      7                     3              175   \n",
       "...                  ...                   ...              ...   \n",
       "76176                  8                     3              180   \n",
       "76177                  1                     3                6   \n",
       "76178                  5                     3             1900   \n",
       "76179                  4                     3             1903   \n",
       "76180                  5                     3              352   \n",
       "\n",
       "       in_degree_target  high_in_degree_target  \n",
       "0                   7.0                      0  \n",
       "1                   7.0                      0  \n",
       "2                   7.0                      0  \n",
       "3                 246.0                      1  \n",
       "4                  60.0                      1  \n",
       "...                 ...                    ...  \n",
       "76176              38.0                      1  \n",
       "76177               8.0                      0  \n",
       "76178              61.0                      1  \n",
       "76179              11.0                      0  \n",
       "76180              35.0                      1  \n",
       "\n",
       "[76181 rows x 9 columns]"
      ]
     },
     "execution_count": 68,
     "metadata": {},
     "output_type": "execute_result"
    }
   ],
   "source": [
    "paths_df_task_C"
   ]
  },
  {
   "cell_type": "code",
   "execution_count": null,
   "metadata": {},
   "outputs": [
    {
     "name": "stderr",
     "output_type": "stream",
     "text": [
      "9479it [03:52, 40.84it/s]\n"
     ]
    }
   ],
   "source": [
    "'''your answer/code here''';\n",
    "import tqdm\n",
    "\n",
    "\n",
    "G = nx.Graph()\n",
    "\n",
    "for _, row in tqdm.tqdm((\n",
    "    paths_df_task_C\n",
    "    .value_counts([\"source\", \"shortest_path_length\"])\n",
    "    .reset_index()\n",
    "    .query(\"count!=1\")\n",
    ").iterrows()):\n",
    "    subdf = paths_df_task_C.query(f\"source == '{row['source']}' and shortest_path_length == {row['shortest_path_length']}\")\n",
    "    \n",
    "    for high_id, high_in_degree_target_row in subdf.query(\"high_in_degree_target==1\").iterrows():\n",
    "        for low_id, low_in_degree_target_row in subdf.query(\"high_in_degree_target==0\").iterrows():\n",
    "            G.add_edge(high_id, low_id)"
   ]
  },
  {
   "cell_type": "code",
   "execution_count": 84,
   "metadata": {},
   "outputs": [],
   "source": [
    "matching = nx.maximal_matching(G)"
   ]
  },
  {
   "cell_type": "code",
   "execution_count": 86,
   "metadata": {},
   "outputs": [
    {
     "data": {
      "text/plain": [
       "12710"
      ]
     },
     "execution_count": 86,
     "metadata": {},
     "output_type": "execute_result"
    }
   ],
   "source": [
    "len(matching)"
   ]
  },
  {
   "cell_type": "code",
   "execution_count": 90,
   "metadata": {},
   "outputs": [
    {
     "data": {
      "text/plain": [
       "array([31392, 31383, 38573, ..., 11134, 33261, 33259])"
      ]
     },
     "execution_count": 90,
     "metadata": {},
     "output_type": "execute_result"
    }
   ],
   "source": [
    "np.array(list(matching)).flatten()"
   ]
  },
  {
   "cell_type": "code",
   "execution_count": 103,
   "metadata": {},
   "outputs": [
    {
     "data": {
      "text/html": [
       "<div>\n",
       "<style scoped>\n",
       "    .dataframe tbody tr th:only-of-type {\n",
       "        vertical-align: middle;\n",
       "    }\n",
       "\n",
       "    .dataframe tbody tr th {\n",
       "        vertical-align: top;\n",
       "    }\n",
       "\n",
       "    .dataframe thead th {\n",
       "        text-align: right;\n",
       "    }\n",
       "</style>\n",
       "<table border=\"1\" class=\"dataframe\">\n",
       "  <thead>\n",
       "    <tr style=\"text-align: right;\">\n",
       "      <th></th>\n",
       "      <th>hashed_ip_address</th>\n",
       "      <th>source</th>\n",
       "      <th>target</th>\n",
       "      <th>finished</th>\n",
       "      <th>human_path_length</th>\n",
       "      <th>shortest_path_length</th>\n",
       "      <th>duration_in_sec</th>\n",
       "      <th>in_degree_target</th>\n",
       "      <th>high_in_degree_target</th>\n",
       "    </tr>\n",
       "  </thead>\n",
       "  <tbody>\n",
       "    <tr>\n",
       "      <th>31392</th>\n",
       "      <td>5eb23a2c1293435f</td>\n",
       "      <td>Henrik_Ibsen</td>\n",
       "      <td>Yak</td>\n",
       "      <td>True</td>\n",
       "      <td>5</td>\n",
       "      <td>3</td>\n",
       "      <td>206</td>\n",
       "      <td>12.0</td>\n",
       "      <td>0</td>\n",
       "    </tr>\n",
       "    <tr>\n",
       "      <th>31383</th>\n",
       "      <td>6d136e371e42474f</td>\n",
       "      <td>Henrik_Ibsen</td>\n",
       "      <td>Water</td>\n",
       "      <td>True</td>\n",
       "      <td>4</td>\n",
       "      <td>3</td>\n",
       "      <td>39</td>\n",
       "      <td>191.0</td>\n",
       "      <td>1</td>\n",
       "    </tr>\n",
       "    <tr>\n",
       "      <th>38573</th>\n",
       "      <td>748f8f2b05a7fb39</td>\n",
       "      <td>Esperanto</td>\n",
       "      <td>Antarctica</td>\n",
       "      <td>True</td>\n",
       "      <td>3</td>\n",
       "      <td>2</td>\n",
       "      <td>39</td>\n",
       "      <td>104.0</td>\n",
       "      <td>1</td>\n",
       "    </tr>\n",
       "    <tr>\n",
       "      <th>38572</th>\n",
       "      <td>1d8386dc0e2fb66a</td>\n",
       "      <td>Esperanto</td>\n",
       "      <td>Trigonometry</td>\n",
       "      <td>True</td>\n",
       "      <td>4</td>\n",
       "      <td>2</td>\n",
       "      <td>165</td>\n",
       "      <td>12.0</td>\n",
       "      <td>0</td>\n",
       "    </tr>\n",
       "    <tr>\n",
       "      <th>23823</th>\n",
       "      <td>0d57c8c57d75e2f5</td>\n",
       "      <td>Fern</td>\n",
       "      <td>U.S._state</td>\n",
       "      <td>True</td>\n",
       "      <td>7</td>\n",
       "      <td>3</td>\n",
       "      <td>98</td>\n",
       "      <td>77.0</td>\n",
       "      <td>1</td>\n",
       "    </tr>\n",
       "    <tr>\n",
       "      <th>...</th>\n",
       "      <td>...</td>\n",
       "      <td>...</td>\n",
       "      <td>...</td>\n",
       "      <td>...</td>\n",
       "      <td>...</td>\n",
       "      <td>...</td>\n",
       "      <td>...</td>\n",
       "      <td>...</td>\n",
       "      <td>...</td>\n",
       "    </tr>\n",
       "    <tr>\n",
       "      <th>50460</th>\n",
       "      <td>6293ef704fc70d9d</td>\n",
       "      <td>William_and_Mary</td>\n",
       "      <td>Tsunami</td>\n",
       "      <td>True</td>\n",
       "      <td>7</td>\n",
       "      <td>4</td>\n",
       "      <td>208</td>\n",
       "      <td>42.0</td>\n",
       "      <td>1</td>\n",
       "    </tr>\n",
       "    <tr>\n",
       "      <th>11144</th>\n",
       "      <td>590a991c1fd0240c</td>\n",
       "      <td>Space_Race</td>\n",
       "      <td>Claudius</td>\n",
       "      <td>True</td>\n",
       "      <td>4</td>\n",
       "      <td>3</td>\n",
       "      <td>37</td>\n",
       "      <td>16.0</td>\n",
       "      <td>0</td>\n",
       "    </tr>\n",
       "    <tr>\n",
       "      <th>11134</th>\n",
       "      <td>78822dc5586eec73</td>\n",
       "      <td>Space_Race</td>\n",
       "      <td>Tobacco</td>\n",
       "      <td>True</td>\n",
       "      <td>8</td>\n",
       "      <td>3</td>\n",
       "      <td>267</td>\n",
       "      <td>60.0</td>\n",
       "      <td>1</td>\n",
       "    </tr>\n",
       "    <tr>\n",
       "      <th>33261</th>\n",
       "      <td>66c9795a6eab354f</td>\n",
       "      <td>Hurricane_Andrew</td>\n",
       "      <td>Lille</td>\n",
       "      <td>True</td>\n",
       "      <td>5</td>\n",
       "      <td>3</td>\n",
       "      <td>95</td>\n",
       "      <td>18.0</td>\n",
       "      <td>0</td>\n",
       "    </tr>\n",
       "    <tr>\n",
       "      <th>33259</th>\n",
       "      <td>6ce5337702c99148</td>\n",
       "      <td>Hurricane_Andrew</td>\n",
       "      <td>Frankfurt</td>\n",
       "      <td>True</td>\n",
       "      <td>5</td>\n",
       "      <td>3</td>\n",
       "      <td>102</td>\n",
       "      <td>37.0</td>\n",
       "      <td>1</td>\n",
       "    </tr>\n",
       "  </tbody>\n",
       "</table>\n",
       "<p>25420 rows × 9 columns</p>\n",
       "</div>"
      ],
      "text/plain": [
       "      hashed_ip_address            source        target  finished  \\\n",
       "31392  5eb23a2c1293435f      Henrik_Ibsen           Yak      True   \n",
       "31383  6d136e371e42474f      Henrik_Ibsen         Water      True   \n",
       "38573  748f8f2b05a7fb39         Esperanto    Antarctica      True   \n",
       "38572  1d8386dc0e2fb66a         Esperanto  Trigonometry      True   \n",
       "23823  0d57c8c57d75e2f5              Fern    U.S._state      True   \n",
       "...                 ...               ...           ...       ...   \n",
       "50460  6293ef704fc70d9d  William_and_Mary       Tsunami      True   \n",
       "11144  590a991c1fd0240c        Space_Race      Claudius      True   \n",
       "11134  78822dc5586eec73        Space_Race       Tobacco      True   \n",
       "33261  66c9795a6eab354f  Hurricane_Andrew         Lille      True   \n",
       "33259  6ce5337702c99148  Hurricane_Andrew     Frankfurt      True   \n",
       "\n",
       "       human_path_length  shortest_path_length  duration_in_sec  \\\n",
       "31392                  5                     3              206   \n",
       "31383                  4                     3               39   \n",
       "38573                  3                     2               39   \n",
       "38572                  4                     2              165   \n",
       "23823                  7                     3               98   \n",
       "...                  ...                   ...              ...   \n",
       "50460                  7                     4              208   \n",
       "11144                  4                     3               37   \n",
       "11134                  8                     3              267   \n",
       "33261                  5                     3               95   \n",
       "33259                  5                     3              102   \n",
       "\n",
       "       in_degree_target  high_in_degree_target  \n",
       "31392              12.0                      0  \n",
       "31383             191.0                      1  \n",
       "38573             104.0                      1  \n",
       "38572              12.0                      0  \n",
       "23823              77.0                      1  \n",
       "...                 ...                    ...  \n",
       "50460              42.0                      1  \n",
       "11144              16.0                      0  \n",
       "11134              60.0                      1  \n",
       "33261              18.0                      0  \n",
       "33259              37.0                      1  \n",
       "\n",
       "[25420 rows x 9 columns]"
      ]
     },
     "execution_count": 103,
     "metadata": {},
     "output_type": "execute_result"
    }
   ],
   "source": [
    "matched_paths_df_task_C= paths_df_task_C.loc[np.array(list(matching)).flatten()]\n",
    "matched_paths_df_task_C"
   ]
  },
  {
   "cell_type": "code",
   "execution_count": 104,
   "metadata": {},
   "outputs": [
    {
     "data": {
      "text/html": [
       "<div>\n",
       "<style scoped>\n",
       "    .dataframe tbody tr th:only-of-type {\n",
       "        vertical-align: middle;\n",
       "    }\n",
       "\n",
       "    .dataframe tbody tr th {\n",
       "        vertical-align: top;\n",
       "    }\n",
       "\n",
       "    .dataframe thead th {\n",
       "        text-align: right;\n",
       "    }\n",
       "</style>\n",
       "<table border=\"1\" class=\"dataframe\">\n",
       "  <thead>\n",
       "    <tr style=\"text-align: right;\">\n",
       "      <th></th>\n",
       "      <th></th>\n",
       "      <th>hashed_ip_address</th>\n",
       "    </tr>\n",
       "    <tr>\n",
       "      <th>high_in_degree_target</th>\n",
       "      <th>finished</th>\n",
       "      <th></th>\n",
       "    </tr>\n",
       "  </thead>\n",
       "  <tbody>\n",
       "    <tr>\n",
       "      <th rowspan=\"2\" valign=\"top\">0</th>\n",
       "      <th>False</th>\n",
       "      <td>0.139024</td>\n",
       "    </tr>\n",
       "    <tr>\n",
       "      <th>True</th>\n",
       "      <td>0.360976</td>\n",
       "    </tr>\n",
       "    <tr>\n",
       "      <th rowspan=\"2\" valign=\"top\">1</th>\n",
       "      <th>False</th>\n",
       "      <td>0.065342</td>\n",
       "    </tr>\n",
       "    <tr>\n",
       "      <th>True</th>\n",
       "      <td>0.434658</td>\n",
       "    </tr>\n",
       "  </tbody>\n",
       "</table>\n",
       "</div>"
      ],
      "text/plain": [
       "                                hashed_ip_address\n",
       "high_in_degree_target finished                   \n",
       "0                     False              0.139024\n",
       "                      True               0.360976\n",
       "1                     False              0.065342\n",
       "                      True               0.434658"
      ]
     },
     "execution_count": 104,
     "metadata": {},
     "output_type": "execute_result"
    }
   ],
   "source": [
    "matched_paths_df_task_C.groupby([\"high_in_degree_target\", \"finished\"]).aggregate({\"hashed_ip_address\":\"count\"})/len(matched_paths_df_task_C)"
   ]
  },
  {
   "cell_type": "code",
   "execution_count": 108,
   "metadata": {},
   "outputs": [
    {
     "data": {
      "text/plain": [
       "0.14736428009441385"
      ]
     },
     "execution_count": 108,
     "metadata": {},
     "output_type": "execute_result"
    }
   ],
   "source": [
    "ATE = np.mean(\n",
    "    (\n",
    "        matched_paths_df_task_C.query('high_in_degree_target == 1')['finished'].to_numpy(dtype=int) # y_treat vector\n",
    "        - matched_paths_df_task_C.query('high_in_degree_target == 0')['finished'].to_numpy(dtype=int) # y_control vector\n",
    "    )\n",
    ")\n",
    "ATE"
   ]
  },
  {
   "cell_type": "code",
   "execution_count": 109,
   "metadata": {},
   "outputs": [
    {
     "data": {
      "text/plain": [
       "TtestResult(statistic=29.630946471004435, pvalue=1.005074906998764e-189, df=25418.0)"
      ]
     },
     "execution_count": 109,
     "metadata": {},
     "output_type": "execute_result"
    }
   ],
   "source": [
    "stats.ttest_ind(\n",
    "    matched_paths_df_task_C.query('high_in_degree_target == 1')['finished'].to_numpy(dtype=int),\n",
    "    matched_paths_df_task_C.query('high_in_degree_target == 0')['finished'].to_numpy(dtype=int)\n",
    ")"
   ]
  },
  {
   "cell_type": "code",
   "execution_count": null,
   "metadata": {},
   "outputs": [],
   "source": []
  }
 ],
 "metadata": {
  "kernelspec": {
   "display_name": "ada_exam_2024",
   "language": "python",
   "name": "python3"
  },
  "language_info": {
   "codemirror_mode": {
    "name": "ipython",
    "version": 3
   },
   "file_extension": ".py",
   "mimetype": "text/x-python",
   "name": "python",
   "nbconvert_exporter": "python",
   "pygments_lexer": "ipython3",
   "version": "3.10.16"
  },
  "pycharm": {
   "stem_cell": {
    "cell_type": "raw",
    "metadata": {
     "collapsed": false
    },
    "source": []
   }
  },
  "varInspector": {
   "cols": {
    "lenName": 16,
    "lenType": 16,
    "lenVar": 40
   },
   "kernels_config": {
    "python": {
     "delete_cmd_postfix": "",
     "delete_cmd_prefix": "del ",
     "library": "var_list.py",
     "varRefreshCmd": "print(var_dic_list())"
    },
    "r": {
     "delete_cmd_postfix": ") ",
     "delete_cmd_prefix": "rm(",
     "library": "var_list.r",
     "varRefreshCmd": "cat(var_dic_list()) "
    }
   },
   "types_to_exclude": [
    "module",
    "function",
    "builtin_function_or_method",
    "instance",
    "_Feature"
   ],
   "window_display": false
  }
 },
 "nbformat": 4,
 "nbformat_minor": 4
}
