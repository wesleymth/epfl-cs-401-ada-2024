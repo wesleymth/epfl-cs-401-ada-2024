{
 "cells": [
  {
   "cell_type": "markdown",
   "metadata": {},
   "source": [
    "## Welcome to the first-ever (and hopefully last-ever) remote ADA final exam (Fall 2020)"
   ]
  },
  {
   "cell_type": "markdown",
   "metadata": {},
   "source": [
    "In this exam, you will analyze data from Wikipedia and from the [Wikispeedia](https://dlab.epfl.ch/wikispeedia/play/) game, which you have already encountered in lecture 12 on [“Handling networks”](https://docs.google.com/presentation/d/1h6cIINJ9cNZ-Rtb7SskXrl9Xet5zPUoX2oJlNM0loHQ/edit#slide=id.g464f30ace1_0_92). The rules of the Wikispeedia game are simple:\n",
    "1. Players are given two Wikipedia articles: a *source* and a *target*.\n",
    "2. Starting from the source article, the goal is to reach the target, exclusively by following links in the articles encountered along the path."
   ]
  },
  {
   "cell_type": "markdown",
   "metadata": {},
   "source": [
    "### The data\n",
    "\n",
    "The Wikispeedia data comprises ~76K games by human players, thereby capturing human navigation behavior on a very small subset of English Wikipedia comprising ~4.5K articles with a total of ~120K links between them.\n",
    "\n",
    "The dataset is available in the `data` directory pushed to the same GitHub repo as the exam. Inside the data directory, you will find four files:\n",
    "\n",
    "####  1. `article_df_task-A.tsv.gz`: A tab-separated file with the following information about Wikipedia articles\n",
    "- *name*: The name of the Wikipedia article\n",
    "- *topic*: The top-level topic label for the article (each article is assigned exactly one topic label)\n",
    "- *content*: The cleaned text of the article (having removed punctuations, stopwords, numbers, and letter casing). It is stored as a space-separated string.\n",
    "\n",
    "#### 2. `links_task-B.tsv.gz`: A tab-separated file containing Wikipedia links\n",
    "- *linkSource*: The name of the source Wikipedia article from which the link originates\n",
    "- *linkTarget*: The name of the target Wikipedia article to which the link points\n",
    "\n",
    "#### 3.  `paths_df_task-B.tsv.gz`: A tab-separated file with the following information about the played games\n",
    "- *hashed_ip_address*: Anonymized IP address of the player\n",
    "- *source*: The name of the Wikipedia article from where the game started\n",
    "- *target*: The name of the target article that the player was supposed to reach \n",
    "- *finished*: Whether the game was successfully finished (whether the player reached the target article)\n",
    "- *human_path_length*: The number of clicks made by the player, before they either reached the target (in *finished* games) or gave up (in *unfinished* games)\n",
    "- *shortest_path_length*: The minimum number of clicks required to reach the target article from the source article. Disconnected source-target article pairs have a shortest_path_length of *-1*.\n",
    "- *duration_in_sec*: The duration of the game in seconds\n",
    "\n",
    "#### 4.  `paths_df_task-C.tsv.gz`: In continuation to the task-B paths dataframe, this tab-separated file has the following additional information\n",
    "- *in_degree_target*: In-degree of the target article, that is the number of incoming links that lead to the target article\n",
    "\n",
    "*Note: In all the aforementioned files, the first line contains the header information. Additionally, article names are URL-encoded. For example, 'Antonín_Dvořák' is stored as 'Anton%C3%ADn_Dvo%C5%99%C3%A1k'. If needed, you can decode the article names using this code: `from urllib.parse import unquote; unquote('article-name')`.*"
   ]
  },
  {
   "cell_type": "code",
   "execution_count": 1,
   "metadata": {},
   "outputs": [],
   "source": [
    "''' Some minimalistic imports '''\n",
    "import pandas as pd\n",
    "import random\n",
    "import gzip\n",
    "import operator\n",
    "import time\n",
    "from urllib.parse import unquote\n",
    "\n",
    "import numpy as np\n",
    "import scipy.stats as stats\n",
    "from sklearn.feature_extraction.text import CountVectorizer, TfidfTransformer\n",
    "from sklearn.model_selection import train_test_split, GridSearchCV\n",
    "from sklearn.linear_model import SGDClassifier\n",
    "from sklearn.pipeline import Pipeline\n",
    "from sklearn.metrics import classification_report, confusion_matrix, roc_auc_score, average_precision_score, balanced_accuracy_score\n",
    "\n",
    "import networkx as nx\n",
    "\n",
    "from IPython.display import Image\n",
    "%matplotlib inline\n",
    "import matplotlib.pyplot as plt\n",
    "import seaborn as sns"
   ]
  },
  {
   "cell_type": "markdown",
   "metadata": {},
   "source": [
    "# Task A. Can we predict article topic using textual content?\n",
    "\n",
    "*Note-1: For the entire Task A, we will use logistic regression for its scalability and simplicity. Specifically, we will use [SGDClassifier](https://scikit-learn.org/stable/modules/generated/sklearn.linear_model.SGDClassifier.html) available in `sklearn` with 'log' loss and '5' epochs for training a logistic regression classifier.*\n",
    "\n",
    "*Note-2: In all the cases where random number generation is required (train-test split, fitting the model, etc.), make sure to use 42 as the random seed.*"
   ]
  },
  {
   "cell_type": "markdown",
   "metadata": {},
   "source": [
    "### A1. Load the text data and analyze the topic distribution\n",
    "1. Load `data/article_df_task-A.tsv.gz` as a pandas dataframe.   \n",
    "   *Note: we have already cleaned the text for you!*\n",
    "2. Print the total number of unique topics. Additionally, using a plot of appropriate type, analyze the article topic distribution.   \n",
    "   **/Discuss:/** What do you observe? Are different topics equally likely? If not, is there a large disparity between certain highly popular and very rare topics?"
   ]
  },
  {
   "cell_type": "code",
   "execution_count": 2,
   "metadata": {},
   "outputs": [],
   "source": [
    "'''your code here''';\n",
    "articles_content = pd.read_csv('data/article_df_task-A.tsv.gz', sep=\"\\t\", compression='gzip')"
   ]
  },
  {
   "cell_type": "code",
   "execution_count": 3,
   "metadata": {},
   "outputs": [
    {
     "name": "stdout",
     "output_type": "stream",
     "text": [
      "Total number of unique topics are:  14\n"
     ]
    },
    {
     "data": {
      "image/png": "[encoded data removed]",
      "text/plain": [
       "<Figure size 432x288 with 1 Axes>"
      ]
     },
     "metadata": {
      "needs_background": "light"
     },
     "output_type": "display_data"
    }
   ],
   "source": [
    "topic_dist = articles_content['topic'].value_counts()\n",
    "print(\"Total number of unique topics are: \", len(topic_dist))\n",
    "topic_dist.plot(kind='bar')\n",
    "plt.show()"
   ]
  },
  {
   "cell_type": "markdown",
   "metadata": {},
   "source": [
    "**Answering A1.2:**   \n",
    "There is a substantial disparity in topic frequency of different topics. Certain topics such as 'Science' and 'Geography' are highly frequent, while others such as 'Mathematics' and 'Art' are super rare."
   ]
  },
  {
   "cell_type": "markdown",
   "metadata": {},
   "source": [
    "### A2. Topic classification (multi-class): Articles from 5 most frequent topics\n",
    "\n",
    "#### A2.1 Prepping the data for ML\n",
    "1. Restrict the data to articles corresponding to the top-5 topics based on topic frequency.\n",
    "2. Construct a TF-IDF representation of textual content.\n",
    "3. Classes are defined by the topic labels, which are given as *strings*. However, for training classifiers via `sklearn` the class labels need to be encoded as ordinals. Perform this encoding and add a new column of ordinal class labels in the current dataframe.\n",
    "4. Create two numpy arrays: X (TF-IDF representation of each article) and y (class-label of each article).\n",
    "\n",
    "#### A2.2 Train and evaluate a multi-class classifier\n",
    "1. Perform a train-test split with 70% as the training portion and the remainder as the testing portion. Use `random_state=42` for fixing the seed to 42.\n",
    "2. Train a logistic regression classifier with L2 regularization using the `SGDClassifier()` method of `sklearn`. Use `SGDClassifier(loss='log', max_iter=5, tol=None, alpha=1e-4, random_state=42)` to initialize the classifier object. Do not modify the settings for any other parameter, let them be set to their default values.   \n",
    "   **Important heads-up**: *Depending on the configuration of your computer, training the model could take up to 1 minute of compute time.*\n",
    "3. Report the classifier performance on the test data using accuracy as the metric.\n",
    "4. **/Discuss:/** Are you satisfied with the model performance? Qualitatively discuss the performance of the model by comparing it to a random baseline and justify your response.\n",
    "\n",
    "**Important note:** *Based on the discussion in the class, logistic regression is a binary classification technique. A simple heuristic to perform multi-class classification using a binary classifier is to use the [one-vs.-rest (OVR)](https://en.wikipedia.org/wiki/Multiclass_classification#One-vs.-rest) strategy. In this strategy, a binary classifier is trained for each class with the capability to differentiate it from all the other classes, and thus, $k$ binary classifiers are trained for a $k$-class classification. Internally, `SGDClassifier()` uses the [OVR](https://scikit-learn.org/stable/modules/generated/sklearn.multiclass.OneVsRestClassifier.html) strategy of `sklearn` whenever it sees the number of unique values in the **y** vector to be greater than 2. Thus, you can simply use it as a black-box! The only important point for this part is to make sure that the **y** vector of class-labels should have **5** unique values, one corresponding to each class-label.*"
   ]
  },
  {
   "cell_type": "code",
   "execution_count": 4,
   "metadata": {},
   "outputs": [
    {
     "name": "stdout",
     "output_type": "stream",
     "text": [
      "Index(['People', 'Geography', 'History', 'Science', 'Everyday_life'], dtype='object')\n"
     ]
    },
    {
     "data": {
      "text/html": [
       "<div>\n",
       "<style scoped>\n",
       "    .dataframe tbody tr th:only-of-type {\n",
       "        vertical-align: middle;\n",
       "    }\n",
       "\n",
       "    .dataframe tbody tr th {\n",
       "        vertical-align: top;\n",
       "    }\n",
       "\n",
       "    .dataframe thead th {\n",
       "        text-align: right;\n",
       "    }\n",
       "</style>\n",
       "<table border=\"1\" class=\"dataframe\">\n",
       "  <thead>\n",
       "    <tr style=\"text-align: right;\">\n",
       "      <th></th>\n",
       "      <th>name</th>\n",
       "      <th>topic</th>\n",
       "      <th>content</th>\n",
       "      <th>labels</th>\n",
       "    </tr>\n",
       "  </thead>\n",
       "  <tbody>\n",
       "    <tr>\n",
       "      <th>0</th>\n",
       "      <td>%C3%81ed%C3%A1n_mac_Gabr%C3%A1in</td>\n",
       "      <td>People</td>\n",
       "      <td>copyright aedan mac gabrain schools wikipedia ...</td>\n",
       "      <td>0</td>\n",
       "    </tr>\n",
       "    <tr>\n",
       "      <th>1</th>\n",
       "      <td>%C3%85land</td>\n",
       "      <td>Geography</td>\n",
       "      <td>copyright aland schools wikipedia selection re...</td>\n",
       "      <td>1</td>\n",
       "    </tr>\n",
       "    <tr>\n",
       "      <th>2</th>\n",
       "      <td>%C3%89douard_Manet</td>\n",
       "      <td>People</td>\n",
       "      <td>copyright edouard manet schools wikipedia sele...</td>\n",
       "      <td>0</td>\n",
       "    </tr>\n",
       "    <tr>\n",
       "      <th>3</th>\n",
       "      <td>%C3%89ire</td>\n",
       "      <td>Geography</td>\n",
       "      <td>copyright eire schools wikipedia selection rel...</td>\n",
       "      <td>1</td>\n",
       "    </tr>\n",
       "    <tr>\n",
       "      <th>4</th>\n",
       "      <td>%C3%93engus_I_of_the_Picts</td>\n",
       "      <td>People</td>\n",
       "      <td>copyright oengus picts schools wikipedia selec...</td>\n",
       "      <td>0</td>\n",
       "    </tr>\n",
       "  </tbody>\n",
       "</table>\n",
       "</div>"
      ],
      "text/plain": [
       "                               name      topic  \\\n",
       "0  %C3%81ed%C3%A1n_mac_Gabr%C3%A1in     People   \n",
       "1                        %C3%85land  Geography   \n",
       "2                %C3%89douard_Manet     People   \n",
       "3                         %C3%89ire  Geography   \n",
       "4        %C3%93engus_I_of_the_Picts     People   \n",
       "\n",
       "                                             content  labels  \n",
       "0  copyright aedan mac gabrain schools wikipedia ...       0  \n",
       "1  copyright aland schools wikipedia selection re...       1  \n",
       "2  copyright edouard manet schools wikipedia sele...       0  \n",
       "3  copyright eire schools wikipedia selection rel...       1  \n",
       "4  copyright oengus picts schools wikipedia selec...       0  "
      ]
     },
     "execution_count": 4,
     "metadata": {},
     "output_type": "execute_result"
    }
   ],
   "source": [
    "'''your answer/code here''';\n",
    "top5 = list(topic_dist.index)[0:5]\n",
    "top5_articles_content = articles_content.loc[articles_content['topic'].apply(lambda x: x in top5)].copy()\n",
    "'''\n",
    "another way\n",
    "top5_articles_content = articles_content.loc[articles_content['topic'].isin(top5)].copy()\n",
    "'''\n",
    "factor = pd.factorize(top5_articles_content['topic'])\n",
    "top5_articles_content['labels'] = factor[0]\n",
    "top5_definitions = factor[1]\n",
    "print(top5_definitions)\n",
    "top5_articles_content.head()"
   ]
  },
  {
   "cell_type": "code",
   "execution_count": 5,
   "metadata": {},
   "outputs": [],
   "source": [
    "X = top5_articles_content['content'].to_numpy()\n",
    "y = top5_articles_content['labels'].to_numpy()"
   ]
  },
  {
   "cell_type": "code",
   "execution_count": 6,
   "metadata": {},
   "outputs": [
    {
     "name": "stdout",
     "output_type": "stream",
     "text": [
      "31.59963583946228\n"
     ]
    }
   ],
   "source": [
    "X_train, X_test, y_train, y_test = train_test_split(X, y, test_size=0.3, random_state=42)\n",
    "\n",
    "parameters = {\n",
    "    'clf__alpha': [1e-4],    \n",
    "}\n",
    "\n",
    "text_clf = Pipeline([\n",
    "    ('vect', CountVectorizer()),\n",
    "    ('tfidf', TfidfTransformer()),\n",
    "    ('clf', SGDClassifier(penalty='l2', loss='log', max_iter=5, tol=None, random_state=42))\n",
    "])\n",
    "\n",
    "tstart = time.time()\n",
    "gs_clf = GridSearchCV(text_clf, parameters, cv=5)\n",
    "gs_clf = gs_clf.fit(X_train, y_train)\n",
    "tend = time.time()\n",
    "print(tend-tstart)"
   ]
  },
  {
   "cell_type": "code",
   "execution_count": 7,
   "metadata": {},
   "outputs": [
    {
     "name": "stdout",
     "output_type": "stream",
     "text": [
      "0.8778912294932049\n",
      "clf__alpha: 0.0001\n"
     ]
    }
   ],
   "source": [
    "print(gs_clf.best_score_)\n",
    "for param_name in sorted(parameters.keys()):\n",
    "    print(\"%s: %r\" % (param_name, gs_clf.best_params_[param_name]))"
   ]
  },
  {
   "cell_type": "code",
   "execution_count": 8,
   "metadata": {},
   "outputs": [
    {
     "name": "stdout",
     "output_type": "stream",
     "text": [
      "Accuracy on Test Data:  0.88268156424581\n"
     ]
    }
   ],
   "source": [
    "predicted = gs_clf.predict(X_test)\n",
    "print(\"Accuracy on Test Data: \", np.mean(predicted == y_test))"
   ]
  },
  {
   "cell_type": "markdown",
   "metadata": {},
   "source": [
    "**Answering A2.2.4:**   \n",
    "In a 5-class classification a random model obtains an accuracy of 20% in expectation. Thus, obtaining an accuracy in high 80s is a strong outcome."
   ]
  },
  {
   "cell_type": "markdown",
   "metadata": {},
   "source": [
    "### A3. Topic classification (binary): Articles from the most and least frequent topics\n",
    "\n",
    "#### A3.1 Train and evaluate a binary classifier\n",
    "1. Restrict the data to articles belonging to the most frequent or to the least frequent topic.\n",
    "2. Create two numpy arrays: X (TF-IDF representation of each article) and y (class-label of each article).\n",
    "3. Perform a train-test split with 70% as the training portion and the remainder as the testing portion. Use `random_state=42` for fixing the seed to 42.\n",
    "4. Train a logistic regression classifier with L2 regularization using the `SGDClassifier()` method of `sklearn`. Use `SGDClassifier(loss='log', max_iter=5, tol=None, alpha=1e-4, random_state=42)` to initialize the classifier object. Do not modify the settings for any other parameter, let them be set to their default values.\n",
    "5. Report the classifier performance on the test data using accuracy as the metric."
   ]
  },
  {
   "cell_type": "code",
   "execution_count": 9,
   "metadata": {},
   "outputs": [
    {
     "name": "stdout",
     "output_type": "stream",
     "text": [
      "Index(['Science', 'Art'], dtype='object')\n"
     ]
    },
    {
     "data": {
      "text/html": [
       "<div>\n",
       "<style scoped>\n",
       "    .dataframe tbody tr th:only-of-type {\n",
       "        vertical-align: middle;\n",
       "    }\n",
       "\n",
       "    .dataframe tbody tr th {\n",
       "        vertical-align: top;\n",
       "    }\n",
       "\n",
       "    .dataframe thead th {\n",
       "        text-align: right;\n",
       "    }\n",
       "</style>\n",
       "<table border=\"1\" class=\"dataframe\">\n",
       "  <thead>\n",
       "    <tr style=\"text-align: right;\">\n",
       "      <th></th>\n",
       "      <th>name</th>\n",
       "      <th>topic</th>\n",
       "      <th>content</th>\n",
       "      <th>labels</th>\n",
       "    </tr>\n",
       "  </thead>\n",
       "  <tbody>\n",
       "    <tr>\n",
       "      <th>13</th>\n",
       "      <td>16_Cygni</td>\n",
       "      <td>Science</td>\n",
       "      <td>copyright cygni schools wikipedia selection re...</td>\n",
       "      <td>0</td>\n",
       "    </tr>\n",
       "    <tr>\n",
       "      <th>14</th>\n",
       "      <td>16_Cygni_Bb</td>\n",
       "      <td>Science</td>\n",
       "      <td>copyright cygni bb schools wikipedia selection...</td>\n",
       "      <td>0</td>\n",
       "    </tr>\n",
       "    <tr>\n",
       "      <th>25</th>\n",
       "      <td>1_Ceres</td>\n",
       "      <td>Science</td>\n",
       "      <td>copyright ceres dwarf planet schools wikipedia...</td>\n",
       "      <td>0</td>\n",
       "    </tr>\n",
       "    <tr>\n",
       "      <th>41</th>\n",
       "      <td>3_Juno</td>\n",
       "      <td>Science</td>\n",
       "      <td>copyright juno schools wikipedia selection rel...</td>\n",
       "      <td>0</td>\n",
       "    </tr>\n",
       "    <tr>\n",
       "      <th>46</th>\n",
       "      <td>47_Ursae_Majoris</td>\n",
       "      <td>Science</td>\n",
       "      <td>copyright ursae majoris schools wikipedia sele...</td>\n",
       "      <td>0</td>\n",
       "    </tr>\n",
       "  </tbody>\n",
       "</table>\n",
       "</div>"
      ],
      "text/plain": [
       "                name    topic  \\\n",
       "13          16_Cygni  Science   \n",
       "14       16_Cygni_Bb  Science   \n",
       "25           1_Ceres  Science   \n",
       "41            3_Juno  Science   \n",
       "46  47_Ursae_Majoris  Science   \n",
       "\n",
       "                                              content  labels  \n",
       "13  copyright cygni schools wikipedia selection re...       0  \n",
       "14  copyright cygni bb schools wikipedia selection...       0  \n",
       "25  copyright ceres dwarf planet schools wikipedia...       0  \n",
       "41  copyright juno schools wikipedia selection rel...       0  \n",
       "46  copyright ursae majoris schools wikipedia sele...       0  "
      ]
     },
     "execution_count": 9,
     "metadata": {},
     "output_type": "execute_result"
    }
   ],
   "source": [
    "'''your answer/code here''';\n",
    "top_and_bottom = list(topic_dist.index)[::len(list(topic_dist.index))-1]\n",
    "top_and_bottom_articles_content = articles_content.loc[articles_content['topic'].apply(lambda x: x in top_and_bottom)].copy()\n",
    "'''\n",
    "another way\n",
    "top_and_bottom_articles_content = articles_content.loc[articles_content['topic'].isin(top_and_bottom)].copy()\n",
    "'''\n",
    "factor = pd.factorize(top_and_bottom_articles_content['topic'])\n",
    "top_and_bottom_articles_content['labels'] = factor[0]\n",
    "top_and_bottom_definitions = factor[1]\n",
    "print(top_and_bottom_definitions)\n",
    "top_and_bottom_articles_content.head()"
   ]
  },
  {
   "cell_type": "code",
   "execution_count": 10,
   "metadata": {},
   "outputs": [],
   "source": [
    "X_small = top_and_bottom_articles_content['content'].to_numpy()\n",
    "y_small = top_and_bottom_articles_content['labels'].to_numpy()"
   ]
  },
  {
   "cell_type": "code",
   "execution_count": 11,
   "metadata": {},
   "outputs": [
    {
     "name": "stdout",
     "output_type": "stream",
     "text": [
      "6.040582895278931\n"
     ]
    }
   ],
   "source": [
    "X_train_small, X_test_small, y_train_small, y_test_small = train_test_split(X_small, y_small, test_size=0.3, random_state=42)\n",
    "\n",
    "parameters = {\n",
    "    'clf__alpha': [1e-4],\n",
    "}\n",
    "\n",
    "text_clf_small = Pipeline([\n",
    "    ('vect', CountVectorizer()),\n",
    "    ('tfidf', TfidfTransformer()),\n",
    "    ('clf', SGDClassifier(penalty='l2', loss='log', max_iter=5, tol=None, random_state=42))\n",
    "])\n",
    "\n",
    "tstart = time.time()\n",
    "gs_clf_small = GridSearchCV(text_clf_small, parameters, cv=5)\n",
    "gs_clf_small = gs_clf_small.fit(X_train_small, y_train_small)\n",
    "tend = time.time()\n",
    "print(tend-tstart)"
   ]
  },
  {
   "cell_type": "code",
   "execution_count": 12,
   "metadata": {},
   "outputs": [
    {
     "name": "stdout",
     "output_type": "stream",
     "text": [
      "0.9824056603773584\n",
      "clf__alpha: 0.0001\n"
     ]
    }
   ],
   "source": [
    "print(gs_clf_small.best_score_)\n",
    "for param_name in sorted(parameters.keys()):\n",
    "    print(\"%s: %r\" % (param_name, gs_clf_small.best_params_[param_name]))"
   ]
  },
  {
   "cell_type": "code",
   "execution_count": 13,
   "metadata": {},
   "outputs": [
    {
     "name": "stdout",
     "output_type": "stream",
     "text": [
      "Accuracy on Test Data:  0.9707602339181286\n"
     ]
    }
   ],
   "source": [
    "predicted_small = gs_clf_small.predict(X_test_small)\n",
    "print(\"Accuracy on Test Data: \", np.mean(predicted_small == y_test_small))"
   ]
  },
  {
   "cell_type": "markdown",
   "metadata": {},
   "source": [
    "#### A3.2 Assessing the evaluation metric\n",
    "1. **/Discuss:/** What is your take on the accuracy obtained in A3.1? Do you think accuracy is the correct evaluation metric for this task? If yes, justify! If not, why not, and what else can be used?\n",
    "2. If you included additional evaluation metrics in A3.2.1, then perform an empirical analysis of the performance using these metrics.   \n",
    "   **/Discuss:/** Additionally, discuss what you observe. Is it harder to predict the topic labels of certain articles? Why, or why not? Please elaborate!"
   ]
  },
  {
   "cell_type": "markdown",
   "metadata": {},
   "source": [
    "**Answering A3.2.1**   \n",
    "There is a huge class imbalance, thus, accuracy is not a good metric. It is very easy for accuracy to be biased. If you label everything as the majority class, the accuracy would still be very high (in the high 90s), but the performance on the minority class would be terrible.\n",
    "\n",
    "In such cases, one can use the either of the following for evaluation.\n",
    "1. confusion matrix, \n",
    "2. balanced accuracy score (sklearn), or \n",
    "3. (un)weighted micro/macro averaged F1 scores"
   ]
  },
  {
   "cell_type": "markdown",
   "metadata": {},
   "source": [
    "**Answering A3.2.2**   \n",
    "It is hard to correctly predict the topic labels of the articles in the minority class. This could be because of the following reasons:\n",
    "1. The model didn't see enough training data from the minority class to learn to classify/discriminate it.\n",
    "2. The loss function treats each training sample as equally important. Thus, trying to minimize the overall loss would  guide the model to focus more on the majority class."
   ]
  },
  {
   "cell_type": "markdown",
   "metadata": {},
   "source": [
    "#### At least one of the following should be be used to report the performance. If a reasonable alternate metric is suggested, judge based on it's correctness!"
   ]
  },
  {
   "cell_type": "code",
   "execution_count": 14,
   "metadata": {
    "scrolled": true
   },
   "outputs": [
    {
     "name": "stdout",
     "output_type": "stream",
     "text": [
      "[[329   1]\n",
      " [  9   3]]\n"
     ]
    }
   ],
   "source": [
    "print(confusion_matrix(y_test_small, predicted_small))"
   ]
  },
  {
   "cell_type": "code",
   "execution_count": 15,
   "metadata": {},
   "outputs": [
    {
     "name": "stdout",
     "output_type": "stream",
     "text": [
      "0.6234848484848485\n"
     ]
    }
   ],
   "source": [
    "print(balanced_accuracy_score(y_test_small, predicted_small))"
   ]
  },
  {
   "cell_type": "code",
   "execution_count": 16,
   "metadata": {},
   "outputs": [
    {
     "name": "stdout",
     "output_type": "stream",
     "text": [
      "              precision    recall  f1-score   support\n",
      "\n",
      "           0      0.973     0.997     0.985       330\n",
      "           1      0.750     0.250     0.375        12\n",
      "\n",
      "    accuracy                          0.971       342\n",
      "   macro avg      0.862     0.623     0.680       342\n",
      "weighted avg      0.966     0.971     0.964       342\n",
      "\n"
     ]
    }
   ],
   "source": [
    "print(classification_report(y_test_small, predicted_small, digits=3))"
   ]
  },
  {
   "cell_type": "markdown",
   "metadata": {},
   "source": [
    "#### A3.3 Class proportions\n",
    "1. **/Discuss:/** Does the disparity in class proportions hurt the model? If yes, how can you fix it? If not, justify the reasons behind your choice.   \n",
    "   *Hint: The learning objective of a classifier can be modified by altering the importance of each class in the computation of the loss function.*\n",
    "2. If your answer to the aforementioned question is a \"yes\", please do the following. If not, move to **Task A4**.\n",
    "    * Implement the fix you proposed in A3.3.1, and repeat the classification task performed in Step A3.1 using the fixed model.\n",
    "    * Vary the regularization parameter `alpha` in the range [1e-6, 1e-5, 1e-4, 1e-3, 1e-2, 1e-1], and using accuracy as the metric find and report its optimal value using 5-fold cross validation on the training set.   \n",
    "       **Important heads-up**: *Depending on the configuration of your computer, grid search for the optimal value of `alpha` could take up to 1 minute of compute time.*\n",
    "    * Lastly, redo the evaluations proposed in A3.2.   \n",
    "       **/Discuss:/** Do you observe any differences from the results obtained in A3.2? Why, or why not? Please elaborate!"
   ]
  },
  {
   "cell_type": "markdown",
   "metadata": {},
   "source": [
    "**Answering A3.3.1**   \n",
    "As evident from the confusion matrix, the disparity in class proportions does indeed hurt the model. Almost all (99%) of the examples are classified as class 0. What's more, 75% of the articles in class 1, are predicted to belong to class 0.\n",
    "\n",
    "One way to address this is to employ cost-sensitive learning, i.e., using `class-weight`='balanced' while training the model. Another way could be up/down sampling minority/majority class. 'SMOTE' is a very popular technique of oversampling the minority class that can be employed here.\n",
    "\n",
    "The solution described below uses `class-weight`='balanced', however, if someone uses 'SMOTE' that's acceptable as well."
   ]
  },
  {
   "cell_type": "markdown",
   "metadata": {},
   "source": [
    "**A3.3.2**"
   ]
  },
  {
   "cell_type": "code",
   "execution_count": 17,
   "metadata": {},
   "outputs": [
    {
     "name": "stdout",
     "output_type": "stream",
     "text": [
      "29.97704792022705\n"
     ]
    }
   ],
   "source": [
    "parameters = {\n",
    "    'clf__alpha': [1e-1, 1e-2, 1e-3, 1e-4, 1e-5, 1e-6],\n",
    "}\n",
    "\n",
    "text_clf_small = Pipeline([\n",
    "    ('vect', CountVectorizer()),\n",
    "    ('tfidf', TfidfTransformer()),\n",
    "    ('clf', SGDClassifier(penalty='l2', loss='log', max_iter=5, tol=None, random_state=42, class_weight='balanced'))\n",
    "])\n",
    "\n",
    "tstart = time.time()\n",
    "gs_clf_small = GridSearchCV(text_clf_small, parameters, cv=5)\n",
    "gs_clf_small = gs_clf_small.fit(X_train_small, y_train_small)\n",
    "tend = time.time()\n",
    "print(tend-tstart)"
   ]
  },
  {
   "cell_type": "code",
   "execution_count": 18,
   "metadata": {},
   "outputs": [
    {
     "name": "stdout",
     "output_type": "stream",
     "text": [
      "0.9987421383647799\n",
      "The optimal clf__alpha is: 0.01\n"
     ]
    }
   ],
   "source": [
    "print(gs_clf_small.best_score_)\n",
    "for param_name in sorted(parameters.keys()):\n",
    "    print(\"The optimal %s is: %r\" % (param_name, gs_clf_small.best_params_[param_name]))"
   ]
  },
  {
   "cell_type": "code",
   "execution_count": 19,
   "metadata": {},
   "outputs": [
    {
     "name": "stdout",
     "output_type": "stream",
     "text": [
      "Accuracy on Test Data:  0.9941520467836257\n"
     ]
    }
   ],
   "source": [
    "predicted_small = gs_clf_small.predict(X_test_small)\n",
    "print(\"Accuracy on Test Data: \", np.mean(predicted_small == y_test_small))"
   ]
  },
  {
   "cell_type": "markdown",
   "metadata": {},
   "source": [
    "#### Similar to A3.2, at least one of the following should be be used to report the performance. If a reasonable alternate metric is suggested, judge based on it's correctness!"
   ]
  },
  {
   "cell_type": "code",
   "execution_count": 20,
   "metadata": {},
   "outputs": [
    {
     "name": "stdout",
     "output_type": "stream",
     "text": [
      "[[329   1]\n",
      " [  1  11]]\n"
     ]
    }
   ],
   "source": [
    "print(confusion_matrix(y_test_small, predicted_small))"
   ]
  },
  {
   "cell_type": "code",
   "execution_count": 21,
   "metadata": {},
   "outputs": [
    {
     "name": "stdout",
     "output_type": "stream",
     "text": [
      "0.9568181818181818\n"
     ]
    }
   ],
   "source": [
    "print(balanced_accuracy_score(y_test_small, predicted_small))"
   ]
  },
  {
   "cell_type": "code",
   "execution_count": 22,
   "metadata": {
    "scrolled": true
   },
   "outputs": [
    {
     "name": "stdout",
     "output_type": "stream",
     "text": [
      "              precision    recall  f1-score   support\n",
      "\n",
      "           0      0.997     0.997     0.997       330\n",
      "           1      0.917     0.917     0.917        12\n",
      "\n",
      "    accuracy                          0.994       342\n",
      "   macro avg      0.957     0.957     0.957       342\n",
      "weighted avg      0.994     0.994     0.994       342\n",
      "\n"
     ]
    }
   ],
   "source": [
    "print(classification_report(y_test_small, predicted_small, digits=3))"
   ]
  },
  {
   "cell_type": "markdown",
   "metadata": {},
   "source": [
    "**Ansering A3.3.2**   \n",
    "The results are much better now as both the minority and majoirty classes are properly classified. This is evident from the confusion matrix, balanced accuracy score, or macro averaged f1-score.\n",
    "\n",
    "Using 'balanced' class weights while training the model forces the loss function to give higher relative importance to training samples corresponding to the minority class. Actually, the training samples are weighted as inverse of the class proportions."
   ]
  },
  {
   "cell_type": "markdown",
   "metadata": {},
   "source": [
    "### A4. Revisiting Multi-class classifier of A2.2\n",
    "\n",
    "1. Print and analyze the confusion matrix for the multi-class model trained in A2.2. **/Discuss:/** What do you observe?\n",
    "2. **/Discuss:/** Similar to A3.3, does the disparity in class proportions hurt the model? If yes, how can you fix it? If not, justify the reasons behind your choice.\n",
    "3. If your answer to the aforementioned question is a \"yes\", please do the following. If not, move to **Task A5**.\n",
    "    * Implement the fix you proposed in A4.2, and repeat the classification task performed in Step A2.2 using the fixed model.\n",
    "    * Vary the regularization parameter `alpha` in the range [1e-6, 1e-5, 1e-4, 1e-3], and using accuracy as the metric find and report its optimal value using 5-fold cross validation on the training set.   \n",
    "       **Important heads-up**: *Depending on the configuration of your computer, grid search for the optimal value of `alpha` could take up to 2 minutes of compute time.*\n",
    "    * Lastly, obtain the accuracy and confusion matrix.\n",
    "4. **/Discuss:/** Contrast the confusion matrix obtained in A4.1 with the one obtained in A4.3. Do you observe any differences? Why, or why not? Please elaborate!"
   ]
  },
  {
   "cell_type": "code",
   "execution_count": 23,
   "metadata": {},
   "outputs": [
    {
     "name": "stdout",
     "output_type": "stream",
     "text": [
      "[[182   3  11   3   1]\n",
      " [  1 297   2  17   0]\n",
      " [ 26  14  86   3   0]\n",
      " [  3   0   0 327   0]\n",
      " [ 13   5   1  23  56]]\n"
     ]
    }
   ],
   "source": [
    "'''your answer/code here''';\n",
    "print(confusion_matrix(y_test, predicted))"
   ]
  },
  {
   "cell_type": "markdown",
   "metadata": {},
   "source": [
    "#### The following two metrics are not required/mandatory per the question!"
   ]
  },
  {
   "cell_type": "code",
   "execution_count": 24,
   "metadata": {},
   "outputs": [
    {
     "name": "stdout",
     "output_type": "stream",
     "text": [
      "0.8151825692708974\n"
     ]
    }
   ],
   "source": [
    "print(balanced_accuracy_score(y_test, predicted))"
   ]
  },
  {
   "cell_type": "code",
   "execution_count": 25,
   "metadata": {
    "scrolled": true
   },
   "outputs": [
    {
     "name": "stdout",
     "output_type": "stream",
     "text": [
      "              precision    recall  f1-score   support\n",
      "\n",
      "           0      0.809     0.910     0.856       200\n",
      "           1      0.931     0.937     0.934       317\n",
      "           2      0.860     0.667     0.751       129\n",
      "           3      0.877     0.991     0.930       330\n",
      "           4      0.982     0.571     0.723        98\n",
      "\n",
      "    accuracy                          0.883      1074\n",
      "   macro avg      0.892     0.815     0.839      1074\n",
      "weighted avg      0.888     0.883     0.877      1074\n",
      "\n"
     ]
    }
   ],
   "source": [
    "print(classification_report(y_test, predicted, digits=3))"
   ]
  },
  {
   "cell_type": "markdown",
   "metadata": {},
   "source": [
    "**Answering A4.1**   \n",
    "The two least frequent classes have a much higher error than the other three more frequent classes. In fact, the error is somewhat inversely correlated with the frequency of the class. The higher the frequency the lesser the error."
   ]
  },
  {
   "cell_type": "markdown",
   "metadata": {},
   "source": [
    "**Answering A4.2**   \n",
    "As evident from the confusion matrix, the disparity in class proportions does indeed hurt the model.\n",
    "\n",
    "One way to address this is to employ cost-sensitive learning, i.e., using `class-weight`='balanced' while training the model. Another way could be up/down sampling minority/majority class. 'SMOTE' is a very popular technique of oversampling the minority class that can be employed here.\n",
    "\n",
    "The solution described below uses `class-weight`='balanced', however, if someone uses 'SMOTE' that's acceptable as well."
   ]
  },
  {
   "cell_type": "code",
   "execution_count": 26,
   "metadata": {},
   "outputs": [
    {
     "name": "stdout",
     "output_type": "stream",
     "text": [
      "97.61493825912476\n"
     ]
    }
   ],
   "source": [
    "parameters = {\n",
    "    'clf__alpha': [1e-3, 1e-4, 1e-5, 1e-6],\n",
    "}\n",
    "\n",
    "text_clf = Pipeline([\n",
    "    ('vect', CountVectorizer()),\n",
    "    ('tfidf', TfidfTransformer()),\n",
    "    ('clf', SGDClassifier(penalty='l2', loss='log', max_iter=5, tol=None, random_state=42, class_weight='balanced'))\n",
    "])\n",
    "\n",
    "tstart = time.time()\n",
    "gs_clf = GridSearchCV(text_clf, parameters, cv=5)\n",
    "gs_clf = gs_clf.fit(X_train, y_train)\n",
    "tend = time.time()\n",
    "print(tend-tstart)"
   ]
  },
  {
   "cell_type": "code",
   "execution_count": 27,
   "metadata": {},
   "outputs": [
    {
     "name": "stdout",
     "output_type": "stream",
     "text": [
      "0.8946497443360292\n",
      "The optimal clf__alpha is: 1e-05\n"
     ]
    }
   ],
   "source": [
    "print(gs_clf.best_score_)\n",
    "for param_name in sorted(parameters.keys()):\n",
    "    print(\"The optimal %s is: %r\" % (param_name, gs_clf.best_params_[param_name]))"
   ]
  },
  {
   "cell_type": "code",
   "execution_count": 28,
   "metadata": {},
   "outputs": [
    {
     "name": "stdout",
     "output_type": "stream",
     "text": [
      "Accuracy on Test Data:  0.8966480446927374\n"
     ]
    }
   ],
   "source": [
    "predicted = gs_clf.predict(X_test)\n",
    "print(\"Accuracy on Test Data: \", np.mean(predicted == y_test))"
   ]
  },
  {
   "cell_type": "code",
   "execution_count": 29,
   "metadata": {},
   "outputs": [
    {
     "name": "stdout",
     "output_type": "stream",
     "text": [
      "[[178   1  16   3   2]\n",
      " [  2 295   5  14   1]\n",
      " [ 25   7  96   1   0]\n",
      " [  5   1   0 322   2]\n",
      " [  7   4   1  14  72]]\n"
     ]
    }
   ],
   "source": [
    "print(confusion_matrix(y_test, predicted))"
   ]
  },
  {
   "cell_type": "markdown",
   "metadata": {},
   "source": [
    "#### The following two metrics are not required/mandatory per the question!"
   ]
  },
  {
   "cell_type": "code",
   "execution_count": 30,
   "metadata": {},
   "outputs": [
    {
     "name": "stdout",
     "output_type": "stream",
     "text": [
      "0.8550473737810795\n"
     ]
    }
   ],
   "source": [
    "print(balanced_accuracy_score(y_test, predicted))"
   ]
  },
  {
   "cell_type": "code",
   "execution_count": 31,
   "metadata": {
    "scrolled": true
   },
   "outputs": [
    {
     "name": "stdout",
     "output_type": "stream",
     "text": [
      "              precision    recall  f1-score   support\n",
      "\n",
      "           0      0.820     0.890     0.854       200\n",
      "           1      0.958     0.931     0.944       317\n",
      "           2      0.814     0.744     0.777       129\n",
      "           3      0.910     0.976     0.942       330\n",
      "           4      0.935     0.735     0.823        98\n",
      "\n",
      "    accuracy                          0.897      1074\n",
      "   macro avg      0.887     0.855     0.868      1074\n",
      "weighted avg      0.898     0.897     0.895      1074\n",
      "\n"
     ]
    }
   ],
   "source": [
    "print(classification_report(y_test, predicted, digits=3))"
   ]
  },
  {
   "cell_type": "markdown",
   "metadata": {},
   "source": [
    "**Answering A4.4**   \n",
    "The results are much better now: the two low frequency classes are now better classified. This is evident from the confusion matrix, balanced accuracy score, or macro averaged f1-score.\n",
    "\n",
    "Using 'balanced' class weights while training the model forces the loss function to give higher relative importance to training samples corresponding to the classes with lower frequency. Actually, the training samples are weighted as inverse of the class proportions."
   ]
  },
  {
   "cell_type": "markdown",
   "metadata": {},
   "source": [
    "### A5. Interpretability\n",
    "1. For each of the 5-classes considered in **A4**, obtain a list of top-10 words (sorted in descending order of their importance) based on the feature weights learned by the classifier.\n",
    "\n",
    "2. **/Discuss:/** Qualitatively discuss the relevance of the identified words and their association with the respective class-labels. Is the classifier correct to assign them high weights? Are they truly discriminative/predictive of the respective class-labels? Justify your responses with clear and crisp reasons!"
   ]
  },
  {
   "cell_type": "code",
   "execution_count": 62,
   "metadata": {},
   "outputs": [
    {
     "name": "stdout",
     "output_type": "stream",
     "text": [
      "Index(['People', 'Geography', 'History', 'Science', 'Everyday_life'], dtype='object')\n"
     ]
    },
    {
     "data": {
      "text/plain": [
       "array([['career', 'born', 'father', 'died', 'work', 'life', 'death',\n",
       "        'married', 'son', 'later'],\n",
       "       ['city', 'population', 'river', 'area', 'island', 'geography',\n",
       "        'sea', 'country', 'islands', 'capital'],\n",
       "       ['war', 'bc', 'empire', 'century', 'battle', 'gladstone',\n",
       "        'history', 'burnside', 'roman', 'odysseus'],\n",
       "       ['species', 'genus', 'classification', 'birds', 'scientific',\n",
       "        'moon', 'orbit', 'disease', 'energy', 'mol'],\n",
       "       ['game', 'sleep', 'asparagus', 'dance', 'garden', 'astrology',\n",
       "        'love', 'lego', 'apricot', 'wrestling']], dtype='<U57')"
      ]
     },
     "execution_count": 62,
     "metadata": {},
     "output_type": "execute_result"
    }
   ],
   "source": [
    "'''your answer/code here''';\n",
    "top5_coeff_indices = np.argsort(gs_clf.best_estimator_.named_steps['clf'].coef_)[:,-10:][:,::-1]\n",
    "print(top5_definitions)\n",
    "np.array(gs_clf.best_estimator_.named_steps['vect'].get_feature_names())[top5_coeff_indices]"
   ]
  },
  {
   "cell_type": "markdown",
   "metadata": {},
   "source": [
    "**Answering A5.2**   \n",
    "It is quite clear that the top-10 words are discriminative/predictive of the corresponding class-labels.   \n",
    "For example, 'life', 'death', 'work', 'born', 'career' are quite highly associated with the 'people' class, which is intuitive.   \n",
    "Similarly, 'roman', 'war', 'empire', 'century' being associated with 'history' class is also quite intuitive.   \n",
    "Also, similar points can be said about the other classes as well!"
   ]
  },
  {
   "cell_type": "markdown",
   "metadata": {},
   "source": [
    "# Task B. The Wikipedia link network"
   ]
  },
  {
   "cell_type": "markdown",
   "metadata": {},
   "source": [
    "### B1. Wikipedia network: reveal your shape!\n",
    "#### B1.1 Load the Wikipedia link network (`data/links_task-B.tsv.gz`) into memory as a directed graph using `NetworkX`.\n",
    "1. Compute the following from the loaded graph object:\n",
    "    * the number of nodes,\n",
    "    * the number of edges, and\n",
    "    * the average degree.\n",
    "2. **/Discuss:/** In order to summarize the degree distribution in a single number, would you recommend using the average degree? Why, or why not? If not, what alternatives can you think of? Please elaborate!"
   ]
  },
  {
   "cell_type": "code",
   "execution_count": 33,
   "metadata": {},
   "outputs": [
    {
     "name": "stdout",
     "output_type": "stream",
     "text": [
      "4592 119882 26.10670731707317\n"
     ]
    }
   ],
   "source": [
    "'''your answer/code here''';\n",
    "flinks = gzip.open(\"data/links_task-B.tsv.gz\")\n",
    "edgeList = []; nodes = {}; edges = {}\n",
    "idx = 0\n",
    "for line in flinks:\n",
    "    line = line.decode('utf-8').strip()\n",
    "    if idx==0 or '#' in line or len(line)==0:\n",
    "        idx+=1\n",
    "        continue\n",
    "    line = line.split(\"\\t\")\n",
    "    source = line[0]; target = line[1]\n",
    "    nodes[source] = True; nodes[target] = True\n",
    "    edges[(source,target)] = True\n",
    "    edgeList.append((source,target))\n",
    "    idx+=1\n",
    "    \n",
    "G = nx.DiGraph()\n",
    "G.add_edges_from(edgeList)\n",
    "print(len(G.nodes()), len(G.edges()), len(G.edges())/len(G.nodes()))"
   ]
  },
  {
   "cell_type": "markdown",
   "metadata": {},
   "source": [
    "**Answering B1.1.2**   \n",
    "Average degree is not recommended as the degree distribution of real-world networks usually follows a powerlaw. Summarizing powerlaws with average values is not a good idea, as there is a long tail, and there are many nodes that have very high degree. Instead, median is a better choice."
   ]
  },
  {
   "cell_type": "markdown",
   "metadata": {},
   "source": [
    "#### B1.2 Using the appropriate plot type, plot the in-degree and out-degree distributions of the Wikipedia link network and analyze it. \n",
    "1. **/Discuss:/** What is the appropriate scale of the axes?\n",
    "2. **/Discuss:/** Does the distribution (roughly) follow a particular distribution, and if yes, which one? Additionally, explain how you arrived at your conclusion."
   ]
  },
  {
   "cell_type": "code",
   "execution_count": 34,
   "metadata": {},
   "outputs": [],
   "source": [
    "'''your answer/code here''';\n",
    "def degree_histogram_directed(G, in_degree=False, out_degree=False):\n",
    "    nodes = G.nodes()\n",
    "    if in_degree:\n",
    "        in_degree = dict(G.in_degree())\n",
    "        degseq=[in_degree.get(k,0) for k in nodes]\n",
    "    elif out_degree:\n",
    "        out_degree = dict(G.out_degree())\n",
    "        degseq=[out_degree.get(k,0) for k in nodes]\n",
    "    else:\n",
    "        degseq=[v for k, v in G.degree()]\n",
    "    dmax=max(degseq)+1\n",
    "    freq= [ 0 for d in range(dmax) ]\n",
    "    for d in degseq:\n",
    "        freq[d] += 1\n",
    "    return freq"
   ]
  },
  {
   "cell_type": "code",
   "execution_count": 35,
   "metadata": {
    "scrolled": false
   },
   "outputs": [
    {
     "data": {
      "image/png": "[encoded data removed]",
      "text/plain": [
       "<Figure size 1080x720 with 4 Axes>"
      ]
     },
     "metadata": {
      "needs_background": "light"
     },
     "output_type": "display_data"
    }
   ],
   "source": [
    "in_degree_freq = degree_histogram_directed(G, in_degree=True)\n",
    "out_degree_freq = degree_histogram_directed(G, out_degree=True)\n",
    "degrees = range(len(in_degree_freq))\n",
    "fig, axes = plt.subplots(2, 2, figsize = (15,10),gridspec_kw={'hspace': 0.4, 'wspace': 0.2})\n",
    "fig.suptitle(\"In and out degree distribution of the Wikispeedia Network (Left: linear axes, Right: Log axes)\", fontsize=20)\n",
    "axes[0][0].plot(range(len(in_degree_freq)), in_degree_freq, 'go-', label='In-degree')\n",
    "axes[0][1].loglog(range(len(in_degree_freq)), in_degree_freq, 'go-', label='In-degree') \n",
    "axes[1][0].plot(range(len(out_degree_freq)), out_degree_freq, 'bo-', label='Out-degree')\n",
    "axes[1][1].loglog(range(len(out_degree_freq)), out_degree_freq, 'bo-', label='Out-degree')\n",
    "for x in range(0,axes.shape[0]):\n",
    "    for y in range(0,axes.shape[1]):\n",
    "        axes[x,y].set_xlabel('Degree', fontsize = 20)\n",
    "        axes[x,y].set_ylabel('Frequency', fontsize = 20)\n",
    "        axes[x,y].legend(fontsize=15)\n",
    "fig.subplots_adjust(top=0.94)\n",
    "plt.show()"
   ]
  },
  {
   "cell_type": "markdown",
   "metadata": {},
   "source": [
    "**B1.2.1** Appropriate scale is log-log.   \n",
    "**B1.2.2** distribution follows powerlaw, linear in the log-log plot."
   ]
  },
  {
   "cell_type": "markdown",
   "metadata": {},
   "source": [
    "#### B1.3 Connectedness of the Wikipedia link network\n",
    "\n",
    "**Definition-1:** An undirected graph $G$ is said to be connected if, for every pair of vertices $(u, v)$, it contains a path that connects the two vertices.\n",
    "\n",
    "**Definition-2:** A directed graph $G_{dir}$ is **weakly connected** (or simply connected) if the underlying undirected graph obtained by replacing all directed edges of the graph with undirected edges is a connected graph (cf. Definition-1). \n",
    "\n",
    "**Definition-3:** A directed graph $G_{dir}$ is **strongly connected** if, for every pair of vertices $(u, v)$, it contains a directed path from $u$ to $v$ and a directed path from $v$ to $u$.\n",
    "\n",
    "Given these definitions, what can you say about the connectedness of the Wikipedia link network? Specifically, answer the following:\n",
    "1. Is the Wikipedia link network weakly connected? If not, print the number of weakly connected components. Additionally, print the number of nodes and edges of the subgraph corresponding to the largest weakly connected component.\n",
    "2. Is the Wikipedia link network strongly connected? If not, print the number of strongly connected components. Additionally, print the number of nodes and edges of the subgraph corresponding to the largest strongly connected component."
   ]
  },
  {
   "cell_type": "code",
   "execution_count": 36,
   "metadata": {},
   "outputs": [
    {
     "name": "stdout",
     "output_type": "stream",
     "text": [
      "Weakly connected:  False\n",
      "There are 2 weakly connected components\n",
      "Strongly connected:  False\n",
      "There are 519 strongly connected components\n"
     ]
    }
   ],
   "source": [
    "'''your answer/code here''';\n",
    "print(\"Weakly connected: \", nx.is_weakly_connected(G))\n",
    "print(f\"There are {len(list(nx.weakly_connected_components(G)))} weakly connected components\")\n",
    "print(\"Strongly connected: \", nx.is_strongly_connected(G))\n",
    "print(f\"There are {len(list(nx.strongly_connected_components(G)))} strongly connected components\")"
   ]
  },
  {
   "cell_type": "code",
   "execution_count": 37,
   "metadata": {},
   "outputs": [
    {
     "name": "stdout",
     "output_type": "stream",
     "text": [
      "4589 119879 26.123120505556766\n"
     ]
    }
   ],
   "source": [
    "largest_cc = max(nx.weakly_connected_components(G), key=len)\n",
    "H = G.subgraph(list(largest_cc))\n",
    "print(len(H.nodes()), len(H.edges()), len(H.edges())/len(H.nodes()))"
   ]
  },
  {
   "cell_type": "code",
   "execution_count": 38,
   "metadata": {},
   "outputs": [
    {
     "name": "stdout",
     "output_type": "stream",
     "text": [
      "4051 111900 27.6228091829178\n"
     ]
    }
   ],
   "source": [
    "largest_scc = max(nx.strongly_connected_components(G), key=len)\n",
    "H = G.subgraph(list(largest_scc))\n",
    "print(len(H.nodes()), len(H.edges()), len(H.edges())/len(H.nodes()))"
   ]
  },
  {
   "cell_type": "markdown",
   "metadata": {},
   "source": [
    "### B2. The interplay between human navigation behavior and Wikipedia network structure\n",
    "\n",
    "#### B2.1 Loading and analyzing the game data (3 points)\n",
    "1. Load `data/paths_df_task-B.tsv.gz` as a pandas dataframe.\n",
    "2. Some games were successfully finished (*finished=True*) while others were unsuccessful (i.e., the player gave up before reaching the target article). However, not all unsuccessful games are infeasible; the player might simply not have been good enough at the game to reach the target from the source. **/Discuss:/** Clearly state the reasons why there may be games that are *truly infeasible*.   \n",
    "3. List all unsuccessful games that are *truly infeasible* and remove them from the dataframe."
   ]
  },
  {
   "cell_type": "markdown",
   "metadata": {},
   "source": [
    "**Answering B2.1.2**   \n",
    "It's impossible to reach a target for games where there is no path existent between the source and the target in the underlying graph, indicated by the shortest_path_length of -1"
   ]
  },
  {
   "cell_type": "code",
   "execution_count": 39,
   "metadata": {},
   "outputs": [
    {
     "data": {
      "text/html": [
       "<div>\n",
       "<style scoped>\n",
       "    .dataframe tbody tr th:only-of-type {\n",
       "        vertical-align: middle;\n",
       "    }\n",
       "\n",
       "    .dataframe tbody tr th {\n",
       "        vertical-align: top;\n",
       "    }\n",
       "\n",
       "    .dataframe thead th {\n",
       "        text-align: right;\n",
       "    }\n",
       "</style>\n",
       "<table border=\"1\" class=\"dataframe\">\n",
       "  <thead>\n",
       "    <tr style=\"text-align: right;\">\n",
       "      <th></th>\n",
       "      <th>hashed_ip_address</th>\n",
       "      <th>source</th>\n",
       "      <th>target</th>\n",
       "      <th>finished</th>\n",
       "      <th>human_path_length</th>\n",
       "      <th>shortest_path_length</th>\n",
       "      <th>duration_in_sec</th>\n",
       "    </tr>\n",
       "  </thead>\n",
       "  <tbody>\n",
       "    <tr>\n",
       "      <th>53533</th>\n",
       "      <td>4c03b8fb18fc9752</td>\n",
       "      <td>Oasis_%28band%29</td>\n",
       "      <td>Final_Fantasy_%28video_game%29</td>\n",
       "      <td>False</td>\n",
       "      <td>1</td>\n",
       "      <td>-1</td>\n",
       "      <td>13</td>\n",
       "    </tr>\n",
       "    <tr>\n",
       "      <th>56880</th>\n",
       "      <td>3af13b307343dec9</td>\n",
       "      <td>Adolf_Hitler</td>\n",
       "      <td>The_Frogs</td>\n",
       "      <td>False</td>\n",
       "      <td>6</td>\n",
       "      <td>-1</td>\n",
       "      <td>1874</td>\n",
       "    </tr>\n",
       "    <tr>\n",
       "      <th>63647</th>\n",
       "      <td>093e40d06992b8dc</td>\n",
       "      <td>Anne_Frank</td>\n",
       "      <td>Final_Fantasy_%28video_game%29</td>\n",
       "      <td>False</td>\n",
       "      <td>21</td>\n",
       "      <td>-1</td>\n",
       "      <td>519</td>\n",
       "    </tr>\n",
       "    <tr>\n",
       "      <th>63648</th>\n",
       "      <td>093e42416992ba4d</td>\n",
       "      <td>Anne_Frank</td>\n",
       "      <td>Final_Fantasy_%28video_game%29</td>\n",
       "      <td>False</td>\n",
       "      <td>21</td>\n",
       "      <td>-1</td>\n",
       "      <td>542</td>\n",
       "    </tr>\n",
       "    <tr>\n",
       "      <th>64511</th>\n",
       "      <td>17ef27577d43939d</td>\n",
       "      <td>Toy</td>\n",
       "      <td>Lego</td>\n",
       "      <td>False</td>\n",
       "      <td>1</td>\n",
       "      <td>-1</td>\n",
       "      <td>1807</td>\n",
       "    </tr>\n",
       "    <tr>\n",
       "      <th>66654</th>\n",
       "      <td>5e55877267bd6864</td>\n",
       "      <td>Hymenoptera</td>\n",
       "      <td>Portuguese_Communist_Party</td>\n",
       "      <td>False</td>\n",
       "      <td>8</td>\n",
       "      <td>-1</td>\n",
       "      <td>264</td>\n",
       "    </tr>\n",
       "    <tr>\n",
       "      <th>71566</th>\n",
       "      <td>3d9b105c56bcf38a</td>\n",
       "      <td>Private_Peaceful</td>\n",
       "      <td>Unix</td>\n",
       "      <td>False</td>\n",
       "      <td>1</td>\n",
       "      <td>-1</td>\n",
       "      <td>1804</td>\n",
       "    </tr>\n",
       "    <tr>\n",
       "      <th>75567</th>\n",
       "      <td>360d256e3fd2a746</td>\n",
       "      <td>Quantum_mechanics</td>\n",
       "      <td>Blue_Tit</td>\n",
       "      <td>False</td>\n",
       "      <td>15</td>\n",
       "      <td>-1</td>\n",
       "      <td>2464</td>\n",
       "    </tr>\n",
       "  </tbody>\n",
       "</table>\n",
       "</div>"
      ],
      "text/plain": [
       "      hashed_ip_address             source                          target  \\\n",
       "53533  4c03b8fb18fc9752   Oasis_%28band%29  Final_Fantasy_%28video_game%29   \n",
       "56880  3af13b307343dec9       Adolf_Hitler                       The_Frogs   \n",
       "63647  093e40d06992b8dc         Anne_Frank  Final_Fantasy_%28video_game%29   \n",
       "63648  093e42416992ba4d         Anne_Frank  Final_Fantasy_%28video_game%29   \n",
       "64511  17ef27577d43939d                Toy                            Lego   \n",
       "66654  5e55877267bd6864        Hymenoptera      Portuguese_Communist_Party   \n",
       "71566  3d9b105c56bcf38a   Private_Peaceful                            Unix   \n",
       "75567  360d256e3fd2a746  Quantum_mechanics                        Blue_Tit   \n",
       "\n",
       "       finished  human_path_length  shortest_path_length  duration_in_sec  \n",
       "53533     False                  1                    -1               13  \n",
       "56880     False                  6                    -1             1874  \n",
       "63647     False                 21                    -1              519  \n",
       "63648     False                 21                    -1              542  \n",
       "64511     False                  1                    -1             1807  \n",
       "66654     False                  8                    -1              264  \n",
       "71566     False                  1                    -1             1804  \n",
       "75567     False                 15                    -1             2464  "
      ]
     },
     "execution_count": 39,
     "metadata": {},
     "output_type": "execute_result"
    }
   ],
   "source": [
    "'''your answer/code here''';\n",
    "paths = pd.read_csv('data/paths_df_task-B.tsv.gz', sep=\"\\t\", compression='gzip')\n",
    "paths[paths['shortest_path_length'] == -1]"
   ]
  },
  {
   "cell_type": "code",
   "execution_count": 40,
   "metadata": {},
   "outputs": [],
   "source": [
    "paths = paths.loc[paths['shortest_path_length'] != -1]"
   ]
  },
  {
   "cell_type": "markdown",
   "metadata": {},
   "source": [
    "#### B2.2 Wikispeedia => Wikislowia?\n",
    "1. Compute and report the average and median path lengths for games that were successfully finished (*finished=True*). You should compute and report path length in two ways: (1) with respect to the number of clicks needed by *human players*, (2) with respect to the *minimum* number clicks an *optimal player* would need.   \n",
    "   **/Discuss:/** What can you say about the navigability of the Wikipedia link network?   \n",
    "   *Hint: Think about [Milgram's experiment](https://docs.google.com/presentation/d/1h6cIINJ9cNZ-Rtb7SskXrl9Xet5zPUoX2oJlNM0loHQ/edit#slide=id.g464f30ace1_0_261) and relate your findings with his findings!*\n",
    "2. **/Discuss:/** Suppose you want to maliciously decrease Wikipedia's navigability. You are allowed to remove certain edges in the network. What criterion would you use to decide which edges should be removed? Additionally, discuss why these edges are critical for Wikipedia's navigability. Justify your answer with clear and substantive reasoning!   \n",
    "   _Hint: Navigability of a network depends on the existence of short paths in the network._\n",
    "3. **/Discuss:/** In continuation to B2.2.2, assume you are given a budget of $k<<n$ edges to be removed. Design the algorithm that you would employ, provide its pseudocode (as a list of steps), and justify your algorithm design choice.   \n",
    "   *Note: You don't have to describe the steps for computing the criterion you identified in Step B.2.2. Instead, using the identified criterion as a blackbox, you have to provide the steps required to remove $k>1$ edges.*"
   ]
  },
  {
   "cell_type": "code",
   "execution_count": 41,
   "metadata": {},
   "outputs": [
    {
     "data": {
      "text/html": [
       "<div>\n",
       "<style scoped>\n",
       "    .dataframe tbody tr th:only-of-type {\n",
       "        vertical-align: middle;\n",
       "    }\n",
       "\n",
       "    .dataframe tbody tr th {\n",
       "        vertical-align: top;\n",
       "    }\n",
       "\n",
       "    .dataframe thead th {\n",
       "        text-align: right;\n",
       "    }\n",
       "</style>\n",
       "<table border=\"1\" class=\"dataframe\">\n",
       "  <thead>\n",
       "    <tr style=\"text-align: right;\">\n",
       "      <th></th>\n",
       "      <th>human_path_length</th>\n",
       "      <th>shortest_path_length</th>\n",
       "      <th>duration_in_sec</th>\n",
       "    </tr>\n",
       "  </thead>\n",
       "  <tbody>\n",
       "    <tr>\n",
       "      <th>count</th>\n",
       "      <td>51314.000000</td>\n",
       "      <td>51314.000000</td>\n",
       "      <td>51314.000000</td>\n",
       "    </tr>\n",
       "    <tr>\n",
       "      <th>mean</th>\n",
       "      <td>6.757493</td>\n",
       "      <td>2.845500</td>\n",
       "      <td>158.281814</td>\n",
       "    </tr>\n",
       "    <tr>\n",
       "      <th>std</th>\n",
       "      <td>4.680779</td>\n",
       "      <td>0.700748</td>\n",
       "      <td>360.855130</td>\n",
       "    </tr>\n",
       "    <tr>\n",
       "      <th>min</th>\n",
       "      <td>1.000000</td>\n",
       "      <td>0.000000</td>\n",
       "      <td>0.000000</td>\n",
       "    </tr>\n",
       "    <tr>\n",
       "      <th>25%</th>\n",
       "      <td>5.000000</td>\n",
       "      <td>2.000000</td>\n",
       "      <td>60.000000</td>\n",
       "    </tr>\n",
       "    <tr>\n",
       "      <th>50%</th>\n",
       "      <td>6.000000</td>\n",
       "      <td>3.000000</td>\n",
       "      <td>107.000000</td>\n",
       "    </tr>\n",
       "    <tr>\n",
       "      <th>75%</th>\n",
       "      <td>8.000000</td>\n",
       "      <td>3.000000</td>\n",
       "      <td>183.000000</td>\n",
       "    </tr>\n",
       "    <tr>\n",
       "      <th>max</th>\n",
       "      <td>435.000000</td>\n",
       "      <td>6.000000</td>\n",
       "      <td>35091.000000</td>\n",
       "    </tr>\n",
       "  </tbody>\n",
       "</table>\n",
       "</div>"
      ],
      "text/plain": [
       "       human_path_length  shortest_path_length  duration_in_sec\n",
       "count       51314.000000          51314.000000     51314.000000\n",
       "mean            6.757493              2.845500       158.281814\n",
       "std             4.680779              0.700748       360.855130\n",
       "min             1.000000              0.000000         0.000000\n",
       "25%             5.000000              2.000000        60.000000\n",
       "50%             6.000000              3.000000       107.000000\n",
       "75%             8.000000              3.000000       183.000000\n",
       "max           435.000000              6.000000     35091.000000"
      ]
     },
     "execution_count": 41,
     "metadata": {},
     "output_type": "execute_result"
    }
   ],
   "source": [
    "'''your answer/code here''';\n",
    "paths[paths['finished']].describe()"
   ]
  },
  {
   "cell_type": "markdown",
   "metadata": {},
   "source": [
    "**Answering B2.2**\n",
    "1. The average and median path length based on human navigation in the completed games is 6.75 and 6, respectively. Similar to the 6-degrees of separation results in Milgram's experiment! Also, avg and median shortest path lengths are 2.85 and 3, respectively, which shows that short paths do exist in the network, and the former result shows that they are discoverable by humans without knowledge of the overall network structure.\n",
    "2. Find the edge with the highest edge betweenness centrality value. Removing such an edge would impact a lot of shortest paths, as the highest fraction of shortest paths pass through this edge.\n",
    "3. Pseudocode: (Iterative greedy)\n",
    "   Step-1: Find the edge with the highest betweenness centrality value.\n",
    "   Step-2: Remove the edge.\n",
    "   Step-3: Repeat Steps 1 and 2, until k edges have been removed.\n",
    "   Note: Removing k-edges based on their betweenness centrality in one-go is not the best way to proceed, iterative greedy is better!"
   ]
  },
  {
   "cell_type": "markdown",
   "metadata": {},
   "source": [
    "#### B2.3 Relationship between network structure and game completion\n",
    "1. Enrich the dataframe with the in-degree and eigenvector centrality of the target article for each game path.\n",
    "2. Using plots of appropriate type, plot the in-degree distribution of the target articles of game paths. What is the appropriate scale of the axes? Additionally, summarize the in-degree distribution of the target articles in a single number using a suitable metric. Justify your choice of the metric.\n",
    "3. Using plots of appropriate type, analyze the differences in in-degree and eigenvector centrality of finished and unfinished games.   \n",
    "   **/Discuss:/** What do you observe? Clearly discuss your observations!"
   ]
  },
  {
   "cell_type": "code",
   "execution_count": 42,
   "metadata": {},
   "outputs": [
    {
     "name": "stdout",
     "output_type": "stream",
     "text": [
      "2.0086400508880615\n"
     ]
    }
   ],
   "source": [
    "'''your answer/code here''';\n",
    "tstart = time.time()\n",
    "eigenvector_centrality = pd.Series(dict(nx.algorithms.eigenvector_centrality(G)))\n",
    "in_degree = pd.Series(dict(G.in_degree()))\n",
    "df_cent = pd.DataFrame([eigenvector_centrality, in_degree]).T.rename({0: \"eigenvector_centrality\",\n",
    "                                                                      1: \"in_degree\"}, axis=1)\n",
    "\n",
    "paths[\"eigenvector_centrality_target\"] = \\\n",
    "    paths.target.apply(lambda x: df_cent[\"eigenvector_centrality\"][x] \n",
    "                      if x in df_cent[\"eigenvector_centrality\"] else None)\n",
    "\n",
    "paths[\"in_degree_target\"] = \\\n",
    "    paths.target.apply(lambda x: df_cent[\"in_degree\"][x] \n",
    "                      if x in df_cent[\"in_degree\"] else None)\n",
    "\n",
    "paths = paths.loc[~paths.in_degree_target.isna()]\n",
    "tend = time.time()\n",
    "print(tend - tstart)"
   ]
  },
  {
   "cell_type": "markdown",
   "metadata": {},
   "source": [
    "#### B2.3.2: Please note axes labels and titles should be added in the plots presented by the students. Also, we just truncated to max degree of 100 for ease of exposition, such thing is not expected from the students, and if done, should lead to reduction of the points. Also, plots similar to what I made in B1.2 are acceptable (in fact better), and even bar-charts are accepted."
   ]
  },
  {
   "cell_type": "code",
   "execution_count": 43,
   "metadata": {},
   "outputs": [
    {
     "data": {
      "text/plain": [
       "(array([21645., 15117.,  7632.,  4869.,  6033.,  3211.,  2607.,  3660.,\n",
       "         1546.,  1014.]),\n",
       " array([  0.,  10.,  20.,  30.,  40.,  50.,  60.,  70.,  80.,  90., 100.]),\n",
       " <BarContainer object of 10 artists>)"
      ]
     },
     "execution_count": 43,
     "metadata": {},
     "output_type": "execute_result"
    },
    {
     "data": {
      "image/png": "[encoded data removed]",
      "text/plain": [
       "<Figure size 432x288 with 1 Axes>"
      ]
     },
     "metadata": {
      "needs_background": "light"
     },
     "output_type": "display_data"
    }
   ],
   "source": [
    "plt.hist(paths[\"in_degree_target\"], range = [0,100])"
   ]
  },
  {
   "cell_type": "code",
   "execution_count": 44,
   "metadata": {},
   "outputs": [
    {
     "name": "stdout",
     "output_type": "stream",
     "text": [
      "49.35447060522895 20.0\n"
     ]
    }
   ],
   "source": [
    "print(paths[\"in_degree_target\"].mean(), paths[\"in_degree_target\"].median())"
   ]
  },
  {
   "cell_type": "markdown",
   "metadata": {},
   "source": [
    "#### B2.3.3: Even in this scenario bar-charts are acceptable. More fundamentally, any plot that portrays the differences b/w finished and unfinished games for the said metrics (in-degree and eigenvector centrality) is acceptable!"
   ]
  },
  {
   "cell_type": "code",
   "execution_count": 45,
   "metadata": {},
   "outputs": [
    {
     "data": {
      "text/plain": [
       "<AxesSubplot:xlabel='finished', ylabel='in_degree_target'>"
      ]
     },
     "execution_count": 45,
     "metadata": {},
     "output_type": "execute_result"
    },
    {
     "data": {
      "image/png": "[encoded data removed]",
      "text/plain": [
       "<Figure size 1080x360 with 2 Axes>"
      ]
     },
     "metadata": {
      "needs_background": "light"
     },
     "output_type": "display_data"
    }
   ],
   "source": [
    "import seaborn as sns\n",
    "fig, axs = plt.subplots(1,2, figsize=(15, 5))\n",
    "sns.pointplot(x=\"finished\", y=\"eigenvector_centrality_target\", data=paths, ax=axs[0])\n",
    "sns.pointplot(x=\"finished\", y=\"in_degree_target\", data=paths, ax=axs[1])"
   ]
  },
  {
   "cell_type": "markdown",
   "metadata": {},
   "source": [
    "**Answering B2.3.3:**   \n",
    "The average eigenvector centrality and in-degree of the end nodes is higher for games that were successfully finished when compared to those that weren't. This is an important signal, as it indicates that nodes with higher in-degree (resp. eigenvector centrality) are easier and better targets for human navigation (could result in shorter paths and faster game completion), which is quite intuitive.\n",
    "It also hints towards the possibility of finding a causal effect, however, further exploration is needed to substantitate that assumption!"
   ]
  },
  {
   "cell_type": "markdown",
   "metadata": {},
   "source": [
    "# Task C. Putting on the causality hat"
   ]
  },
  {
   "cell_type": "markdown",
   "metadata": {},
   "source": [
    "### C1. Are articles with high in-degree easier to find? A naive analysis\n",
    "\n",
    "Recall that in each Wikispeedia game, a player is **randomly** assigned a source article and a target article. In task **C**, we are interested in measuring the effect of the target article's in-degree on the player's chances of successfully finishing the game.\n",
    "\n",
    "1. Load `data/paths_df_task-C.tsv.gz` as a pandas dataframe.\n",
    "2. Consider target articles with fewer than 20 incoming links to have a *low in-degree* and articles with at least 20 to have a *high in-degree*.\n",
    "3. Calculate the fraction of games with a high-in-degree target that was finished, and the fraction of games with a low-in-degree target that was finished. Do you observe significant differences, and in what direction? (You may do a statistical test or provide confidence intervals.)\n",
    "4. Repeat the same analysis for the game duration, for finished games only.\n",
    "5. Quantify and discuss your findings from Steps C1.3 and C1.4."
   ]
  },
  {
   "cell_type": "code",
   "execution_count": 46,
   "metadata": {},
   "outputs": [
    {
     "name": "stdout",
     "output_type": "stream",
     "text": [
      "0.777918813942271\n",
      "0.5618646371296548\n",
      "0.21605417681261618\n",
      "130.42851548477628\n",
      "199.57196071791398\n",
      "-69.1434452331377\n"
     ]
    }
   ],
   "source": [
    "'''your answer/code here''';\n",
    "paths = pd.read_csv('data/paths_df_task-C.tsv.gz', sep=\"\\t\", compression='gzip')\n",
    "paths[\"in_degree_binary_target\"] = paths[\"in_degree_target\"] >= 20\n",
    "\n",
    "pfinish_high = (sum(paths.loc[paths[\"in_degree_binary_target\"]].finished)/len(paths.loc[paths[\"in_degree_binary_target\"]]))\n",
    "pfinish_low = (sum(paths.loc[~paths[\"in_degree_binary_target\"]].finished)/len(paths.loc[~paths[\"in_degree_binary_target\"]]))\n",
    "\n",
    "print(pfinish_high)\n",
    "print(pfinish_low)\n",
    "print(pfinish_high - pfinish_low)\n",
    "\n",
    "time_high = paths.loc[(paths[\"in_degree_binary_target\"])&paths['finished']].duration_in_sec.mean()\n",
    "time_low = paths.loc[(~paths[\"in_degree_binary_target\"])&paths['finished']].duration_in_sec.mean()\n",
    "\n",
    "print(time_high)\n",
    "print(time_low)\n",
    "print(time_high - time_low)"
   ]
  },
  {
   "cell_type": "markdown",
   "metadata": {},
   "source": [
    "#### C1: Note that a statistical significance test (any meaningful test or bootstrapped CIs) is expected from students"
   ]
  },
  {
   "cell_type": "markdown",
   "metadata": {},
   "source": [
    "**Answering C1:**   \n",
    "Games with high in-degree targets are 21.61% more *likely to be finished*, and last 69.14 *seconds shorter* if finished."
   ]
  },
  {
   "cell_type": "markdown",
   "metadata": {},
   "source": [
    "### C2. Modeling the study setup with a causal diagram\n",
    "\n",
    "**C2.1** We are interested in the effect of target in-degree (**deg(T)**) on the binary outcome (**O**) that captures whether the game was successfully finished or not. In the previously conducted naive analysis, we did not take into account the shortest path length (**L**), which is the minimum number of clicks necessary in order to reach the target article from the source article (**S**). Target and source articles are randomly assigned, independently from each other. The assigned source article S and deg(T) affect the shortest path length L. The source article affects the outcome through the shortest path length, and also directly, as some sources might be more central in the network. Choose a causal diagram **(A, B, C, D, E, or F)** that corresponds to the described relationships between the 4 variables:\n",
    "- **deg(T):** target in-degree,\n",
    "- **L:** shortest path length between source and target,\n",
    "- **S:** name of source article,\n",
    "- **O:** outcome, i.e., the binary indicator that says whether the game was successfully finished."
   ]
  },
  {
   "cell_type": "code",
   "execution_count": 47,
   "metadata": {
    "scrolled": false
   },
   "outputs": [
    {
     "data": {
      "image/png": "[encoded data removed]",
      "text/plain": [
       "<IPython.core.display.Image object>"
      ]
     },
     "execution_count": 47,
     "metadata": {},
     "output_type": "execute_result"
    }
   ],
   "source": [
    "Image(filename=\"img/diagram.png\") "
   ]
  },
  {
   "cell_type": "markdown",
   "metadata": {
    "collapsed": true
   },
   "source": [
    "**Answering C2.1** The correct causal diagram is presented in choice **B**.   \n",
    "\n",
    "We can elimate C, E, F as there is a effect from T to S, which is not mentioned in the description.   \n",
    "We can elimate D as there is a effect from L to S whereas the inverse is True.   \n",
    "We can eliminate A as there is a effect from O to L, where as the inverse is True."
   ]
  },
  {
   "cell_type": "markdown",
   "metadata": {},
   "source": [
    "**C2.2** **/Discuss:/** What is potentially misleading about the naive analysis done in task **C1**? In what conceivable ways could the conclusions about the impact of target in-degree **deg(T)** on the outcome **O** be wrong?\n",
    "Could the findings go in the opposite direction of a true direct causal effect? Justify your answer."
   ]
  },
  {
   "cell_type": "markdown",
   "metadata": {
    "collapsed": true
   },
   "source": [
    "**Answering C2.2** In C1, we are not measuring the direct effect, but the total effect, including the effect mediated through the shortest path length. Possible answers: <br>\n",
    "a) C1 is a very naive analysis, could come up with any confounder that could reverse the effect. <br>\n",
    "b) Depending on on the strength and the sign of the mediated impact, since we are measuring the total impact, we could see different results compared to the true direct causal effect."
   ]
  },
  {
   "cell_type": "markdown",
   "metadata": {},
   "source": [
    "### C3. A more controlled analysis: matching on source article and shortest path length\n",
    "\n",
    "Let's now understand how the estimated effect of the target in-degree would differ if we controlled for both the source article and the shortest path length between source and target. Construct a set of matched pairs of games. In a matched pair, the two games differ in target in-degree (one has a high in-degree, and the other has a low in-degree), but the source article and the shortest path length are exactly the same.\n",
    "\n",
    "1. Perform exact matching on source article and shortest path length. This means that two candidate games can be matched only if the source article and the shortest path length are exactly the same.   \n",
    "   **Important heads-up**: *Depending on the configuration of your computer, computing the exact matching could take up to 3 minutes of compute time.*\n",
    "2. Among the matched pairs of games, calculate the fraction of games with a high-in-degree target that was successfully finished, and the fraction of games with a low-in-degree target that was successfully finished. Do you observe significant differences, and in what direction? (You may do a statistical test or provide confidence intervals.)\n",
    "3. **/Discuss:/** What do you observe? Are the conclusions different from the conclusions reached in C1? If yes, speculate as to why that is the case. How is the estimation in task C1 different from the estimation in task C3?\n",
    "4. **/Discuss:/** Based on your findings, how should Wikipedia be modified in order to increase the fraction of finished Wikispeedia games?\n",
    "\n",
    "*Hint: How you construct the set of matched pairs is up to you. One way can be to build an unweighted bipartite graph where games with targets with a high in-degree are on one side (the \"treated class\"), and games with targets with a low in-degree are on the other side (the \"control class\"). The edge between two matching candidate games is created only if there is an exact match on the source article and the shortest path length. Based on this bipartite graph, you can then find the optimal matching. However, note that this is neither the required nor the only way.*"
   ]
  },
  {
   "cell_type": "code",
   "execution_count": 48,
   "metadata": {},
   "outputs": [
    {
     "name": "stdout",
     "output_type": "stream",
     "text": [
      "0.0800384184408516\n",
      "0.1600768368817032\n",
      "0.24011525532255482\n",
      "0.3201536737634064\n",
      "0.40019209220425805\n",
      "0.48023051064510963\n",
      "0.5602689290859613\n",
      "0.6403073475268128\n",
      "0.7203457659676645\n",
      "0.8003841844085161\n",
      "0.8804226028493677\n",
      "0.9604610212902193\n",
      "Time taken:  146.39946699142456\n"
     ]
    }
   ],
   "source": [
    "'''your answer/code here''';\n",
    "G_obs = nx.Graph()\n",
    "\n",
    "vs = set(list(zip(paths.source.values, paths.shortest_path_length.values)))\n",
    "match_set = set()\n",
    "\n",
    "max_counter = len(vs)\n",
    "\n",
    "counter = 0\n",
    "\n",
    "tstart = time.time()\n",
    "for source, min_dist in vs:\n",
    "    counter += 1\n",
    "    if counter % 1000 == 0:\n",
    "        print(counter/max_counter)\n",
    "\n",
    "    high_indegree = paths[(paths.in_degree_binary_target == True) & \n",
    "                     (paths.source == source) &\n",
    "                     (paths.shortest_path_length == min_dist)]\n",
    "\n",
    "    low_indegree = paths[(paths.in_degree_binary_target == False) & \n",
    "                       (paths.source == source) &\n",
    "                       (paths.shortest_path_length == min_dist)]\n",
    "    \n",
    "    tmp_edges = []\n",
    "    \n",
    "    for i, f in zip(high_indegree.index, high_indegree.target):\n",
    "        for j, u in zip(low_indegree.index, low_indegree.target):\n",
    "            if f != u:\n",
    "                G_obs.add_edge(i, j)\n",
    "                match_set.add((i,j))\n",
    "tend = time.time()\n",
    "print(\"Time taken: \", tend-tstart)"
   ]
  },
  {
   "cell_type": "code",
   "execution_count": 49,
   "metadata": {},
   "outputs": [],
   "source": [
    "matching = nx.maximal_matching(G_obs)"
   ]
  },
  {
   "cell_type": "code",
   "execution_count": 50,
   "metadata": {},
   "outputs": [],
   "source": [
    "high_games_match_cands = {}; low_games_match_cands = {}\n",
    "for (u,v) in match_set:\n",
    "    if u not in high_games_match_cands:\n",
    "        high_games_match_cands[u] = [v]\n",
    "    else:\n",
    "        high_games_match_cands[u].append(v)\n",
    "    if v not in low_games_match_cands:\n",
    "        low_games_match_cands[v] = [u]\n",
    "    else:\n",
    "        low_games_match_cands[v].append(u)"
   ]
  },
  {
   "cell_type": "code",
   "execution_count": 51,
   "metadata": {
    "scrolled": true
   },
   "outputs": [
    {
     "name": "stdout",
     "output_type": "stream",
     "text": [
      "29541 23047\n"
     ]
    }
   ],
   "source": [
    "print(len(high_games_match_cands), len(low_games_match_cands))"
   ]
  },
  {
   "cell_type": "code",
   "execution_count": 52,
   "metadata": {},
   "outputs": [],
   "source": [
    "set_low_games_match_cands = set(low_games_match_cands.keys())\n",
    "set_high_games_match_cands = set(high_games_match_cands.keys())"
   ]
  },
  {
   "cell_type": "code",
   "execution_count": 53,
   "metadata": {},
   "outputs": [
    {
     "name": "stdout",
     "output_type": "stream",
     "text": [
      "#Matched pairs: 12710\n"
     ]
    }
   ],
   "source": [
    "print(f'#Matched pairs: {len(matching)}')"
   ]
  },
  {
   "cell_type": "markdown",
   "metadata": {},
   "source": [
    "#### C3.2: Note that a statistical significance test (any meaningful test or bootstrapped CIs) is expected from students"
   ]
  },
  {
   "cell_type": "code",
   "execution_count": 54,
   "metadata": {},
   "outputs": [
    {
     "name": "stdout",
     "output_type": "stream",
     "text": [
      "0.14736428009441385 0.004790513286305409\n"
     ]
    }
   ],
   "source": [
    "ntreated = paths.loc[np.array([v[0] if ~paths.loc[v[0], \"in_degree_binary_target\"] else v[1] for v in matching])]\n",
    "treated = paths.loc[np.array([v[0] if paths.loc[v[0], \"in_degree_binary_target\"] else v[1] for v in matching])]\n",
    "ate = treated.finished.values.astype(int) - ntreated.finished.values.astype(int)\n",
    "print(np.mean(ate),  stats.sem(ate))"
   ]
  },
  {
   "cell_type": "markdown",
   "metadata": {},
   "source": [
    "**Answering C3:**\n",
    "\n",
    "1. **C3.2:** After matching on source page and shortest path, games with high in-degree source are 14.74% more likely to be finished\n",
    "2. **C3.3:** These differences are smaller compared to how they were before matching, meaning that a lot of the difference can be explained with the mediation through source and the shortest path. However, the direct effect of target in-degree is still significant.\n",
    "3. **C3.4 (Recommendation):** Modify articles to have more high quality incoming links into them, thereby rendering them as better targets."
   ]
  },
  {
   "cell_type": "code",
   "execution_count": null,
   "metadata": {},
   "outputs": [],
   "source": []
  }
 ],
 "metadata": {
  "kernelspec": {
   "display_name": "Python 3",
   "language": "python",
   "name": "python3"
  },
  "language_info": {
   "codemirror_mode": {
    "name": "ipython",
    "version": 3
   },
   "file_extension": ".py",
   "mimetype": "text/x-python",
   "name": "python",
   "nbconvert_exporter": "python",
   "pygments_lexer": "ipython3",
   "version": "3.8.5"
  },
  "pycharm": {
   "stem_cell": {
    "cell_type": "raw",
    "metadata": {
     "collapsed": false
    },
    "source": []
   }
  },
  "varInspector": {
   "cols": {
    "lenName": 16,
    "lenType": 16,
    "lenVar": 40
   },
   "kernels_config": {
    "python": {
     "delete_cmd_postfix": "",
     "delete_cmd_prefix": "del ",
     "library": "var_list.py",
     "varRefreshCmd": "print(var_dic_list())"
    },
    "r": {
     "delete_cmd_postfix": ") ",
     "delete_cmd_prefix": "rm(",
     "library": "var_list.r",
     "varRefreshCmd": "cat(var_dic_list()) "
    }
   },
   "types_to_exclude": [
    "module",
    "function",
    "builtin_function_or_method",
    "instance",
    "_Feature"
   ],
   "window_display": false
  }
 },
 "nbformat": 4,
 "nbformat_minor": 4
}
